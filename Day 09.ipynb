{
 "cells": [
  {
   "cell_type": "markdown",
   "metadata": {},
   "source": [
    "# Day 9: Encoding Error \n",
    "\n",
    "https://adventofcode.com/2020/day/9\n",
    "\n",
    "## Part 1"
   ]
  },
  {
   "cell_type": "code",
   "execution_count": 67,
   "metadata": {},
   "outputs": [],
   "source": [
    "#filename = \"data/day09text0.txt\"\n",
    "#npre = 5\n",
    "\n",
    "filename = \"data/input09.txt\"\n",
    "npre = 25"
   ]
  },
  {
   "cell_type": "code",
   "execution_count": 72,
   "metadata": {},
   "outputs": [],
   "source": [
    "with open(filename) as f:\n",
    "    num = [ int(l.strip(\"\\n\")) for l in f.readlines() ]\n",
    "#num"
   ]
  },
  {
   "cell_type": "code",
   "execution_count": 74,
   "metadata": {},
   "outputs": [
    {
     "name": "stdout",
     "output_type": "stream",
     "text": [
      "144381670\n"
     ]
    }
   ],
   "source": [
    "import numpy as np\n",
    "from itertools import permutations\n",
    "\n",
    "for i in range(npre,len(num)):\n",
    "    n = num[i]\n",
    "    pre = num[i-npre:i]\n",
    "    isSum = False\n",
    "    for s in permutations(pre,2):\n",
    "        if n == np.array(s).sum():\n",
    "            isSum = True\n",
    "            break\n",
    "    if not isSum:\n",
    "        print(n)\n",
    "        break"
   ]
  },
  {
   "cell_type": "markdown",
   "metadata": {},
   "source": [
    "## Part 2\n",
    "\n",
    "Brute forcing FTW!"
   ]
  },
  {
   "cell_type": "code",
   "execution_count": 75,
   "metadata": {},
   "outputs": [],
   "source": [
    "#n = 127\n",
    "n = 144381670"
   ]
  },
  {
   "cell_type": "code",
   "execution_count": 76,
   "metadata": {},
   "outputs": [
    {
     "name": "stdout",
     "output_type": "stream",
     "text": [
      "144381670 [5779902, 5821115, 5841937, 14752667, 6932934, 9843037, 6240013, 6745010, 8585628, 8937860, 9076207, 7222000, 8634163, 9316176, 9739942, 10442589, 10470490] 5779902 14752667 *** 20532569\n"
     ]
    }
   ],
   "source": [
    "for i in range(len(num)-1):\n",
    "    lmax = max(len(num)-i,2)\n",
    "    for l in range(2,lmax+1):\n",
    "        nl = num[i:i+l]\n",
    "        s = np.array(nl).sum()\n",
    "        if s==n:\n",
    "            print(s,nl,min(nl),max(nl),\"***\", min(nl)+max(nl))\n",
    "            break"
   ]
  },
  {
   "cell_type": "markdown",
   "metadata": {},
   "source": [
    "Im sure I could probably use some math to speed up the solution, e.g. removing all numbers bigger then `n` from the list, check for contigous sets, and only sum those. Oh, well..."
   ]
  },
  {
   "cell_type": "code",
   "execution_count": null,
   "metadata": {},
   "outputs": [],
   "source": []
  }
 ],
 "metadata": {
  "kernelspec": {
   "display_name": "Python 3",
   "language": "python",
   "name": "python3"
  },
  "language_info": {
   "codemirror_mode": {
    "name": "ipython",
    "version": 3
   },
   "file_extension": ".py",
   "mimetype": "text/x-python",
   "name": "python",
   "nbconvert_exporter": "python",
   "pygments_lexer": "ipython3",
   "version": "3.9.0"
  }
 },
 "nbformat": 4,
 "nbformat_minor": 4
}
