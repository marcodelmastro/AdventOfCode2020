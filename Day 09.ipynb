{
 "cells": [
  {
   "cell_type": "markdown",
   "metadata": {},
   "source": [
    "# Day 9: Encoding Error \n",
    "\n",
    "https://adventofcode.com/2020/day/9\n",
    "\n",
    "## Part 1"
   ]
  },
  {
   "cell_type": "code",
   "execution_count": 36,
   "metadata": {},
   "outputs": [],
   "source": [
    "#filename = \"data/day09text0.txt\"\n",
    "#npre = 5\n",
    "\n",
    "filename = \"data/input09.txt\"\n",
    "npre = 25"
   ]
  },
  {
   "cell_type": "code",
   "execution_count": 42,
   "metadata": {},
   "outputs": [],
   "source": [
    "#with open(filename) as f:\n",
    "#    num = [ int(l.strip(\"\\n\")) for l in f.readlines() ]\n",
    "\n",
    "# a better way to read an array of values direclty in a numpy array\n",
    "# BTW, using a np array instead of a list seems to speed up significantly the execution\n",
    "import numpy as np\n",
    "num = np.loadtxt(filename,dtype=int)"
   ]
  },
  {
   "cell_type": "code",
   "execution_count": 43,
   "metadata": {},
   "outputs": [
    {
     "name": "stdout",
     "output_type": "stream",
     "text": [
      "144381670\n"
     ]
    }
   ],
   "source": [
    "from itertools import permutations\n",
    "\n",
    "for i in range(npre,len(num)):\n",
    "    n = num[i]\n",
    "    pre = num[i-npre:i]\n",
    "    isSum = False\n",
    "    for s in permutations(pre,2):\n",
    "        if n == np.array(s).sum():\n",
    "            isSum = True\n",
    "            break\n",
    "    if not isSum:\n",
    "        print(n)\n",
    "        break"
   ]
  },
  {
   "cell_type": "markdown",
   "metadata": {},
   "source": [
    "## Part 2\n",
    "\n",
    "Brute forcing FTW!"
   ]
  },
  {
   "cell_type": "code",
   "execution_count": 44,
   "metadata": {},
   "outputs": [],
   "source": [
    "#n = 127\n",
    "n = 144381670"
   ]
  },
  {
   "cell_type": "code",
   "execution_count": 45,
   "metadata": {},
   "outputs": [
    {
     "name": "stdout",
     "output_type": "stream",
     "text": [
      "144381670 [ 5779902  5821115  5841937 14752667  6932934  9843037  6240013  6745010\n",
      "  8585628  8937860  9076207  7222000  8634163  9316176  9739942 10442589\n",
      " 10470490] 5779902 14752667 *** 20532569\n",
      "Time elapsed = 1.3188321110001198 s\n"
     ]
    }
   ],
   "source": [
    "from timeit import default_timer as timer\n",
    "\n",
    "start = timer()\n",
    "\n",
    "for i in range(len(num)-1):\n",
    "    found = False\n",
    "    lmax = max(len(num)-i,2)\n",
    "    for l in range(2,lmax+1):\n",
    "        nl = num[i:i+l]\n",
    "        s = np.array(nl).sum()\n",
    "        if s==n:\n",
    "            print(s,nl,min(nl),max(nl),\"***\", min(nl)+max(nl))\n",
    "            found = True\n",
    "            break\n",
    "    if found:\n",
    "        break\n",
    "\n",
    "stop = timer() \n",
    "print(\"Time elapsed =\", stop - start, \"s\")"
   ]
  },
  {
   "cell_type": "markdown",
   "metadata": {},
   "source": [
    "I'm sure I could probably use some math to speed up the solution, e.g. removing all numbers bigger then `n` from the list, check for contigous sets, and only sum those. Oh, well...\n",
    "\n",
    "EDIT: well, this helps if `num` is a list of int, but it does not if `num` (and `num2`) is a numpy array."
   ]
  },
  {
   "cell_type": "code",
   "execution_count": 46,
   "metadata": {},
   "outputs": [
    {
     "name": "stdout",
     "output_type": "stream",
     "text": [
      "144381670 [ 5779902  5821115  5841937 14752667  6932934  9843037  6240013  6745010\n",
      "  8585628  8937860  9076207  7222000  8634163  9316176  9739942 10442589\n",
      " 10470490] 5779902 14752667 *** 20532569\n",
      "Time elapsed = 1.5689753020001262 s\n"
     ]
    }
   ],
   "source": [
    "start = timer()\n",
    "\n",
    "num2 = np.array([ 0 if nn > n else nn for nn in num ])\n",
    "\n",
    "for i in range(len(num2)-1):\n",
    "    found = False\n",
    "    lmax = max(len(num2)-i,2)\n",
    "    for l in range(2,lmax+1):\n",
    "        nl = num2[i:i+l]\n",
    "        if 0 in nl:\n",
    "            continue\n",
    "        s = np.array(nl).sum()\n",
    "        if s==n:\n",
    "            print(s,nl,min(nl),max(nl),\"***\", min(nl)+max(nl))\n",
    "            found = True\n",
    "            break\n",
    "    if found:\n",
    "        break\n",
    "\n",
    "stop = timer() \n",
    "print(\"Time elapsed =\", stop - start, \"s\")"
   ]
  },
  {
   "cell_type": "code",
   "execution_count": null,
   "metadata": {},
   "outputs": [],
   "source": []
  }
 ],
 "metadata": {
  "kernelspec": {
   "display_name": "Python 3",
   "language": "python",
   "name": "python3"
  },
  "language_info": {
   "codemirror_mode": {
    "name": "ipython",
    "version": 3
   },
   "file_extension": ".py",
   "mimetype": "text/x-python",
   "name": "python",
   "nbconvert_exporter": "python",
   "pygments_lexer": "ipython3",
   "version": "3.9.0"
  }
 },
 "nbformat": 4,
 "nbformat_minor": 4
}
