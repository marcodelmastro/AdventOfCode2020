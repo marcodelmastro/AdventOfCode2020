{
 "cells": [
  {
   "cell_type": "markdown",
   "metadata": {},
   "source": [
    "# Day 3: Toboggan Trajectory\n",
    "\n",
    "https://adventofcode.com/2020/day/3"
   ]
  },
  {
   "cell_type": "code",
   "execution_count": 110,
   "metadata": {},
   "outputs": [
    {
     "data": {
      "text/plain": [
       "array([[0, 1, 0, ..., 0, 0, 0],\n",
       "       [0, 0, 0, ..., 0, 0, 0],\n",
       "       [1, 0, 0, ..., 0, 1, 0],\n",
       "       ...,\n",
       "       [0, 1, 0, ..., 0, 1, 1],\n",
       "       [0, 0, 1, ..., 0, 1, 0],\n",
       "       [0, 0, 0, ..., 1, 1, 0]])"
      ]
     },
     "execution_count": 110,
     "metadata": {},
     "output_type": "execute_result"
    }
   ],
   "source": [
    "import numpy as np\n",
    "\n",
    "#filename = \"data/day03test0.txt\"\n",
    "filename = \"data/input03.txt\"\n",
    "\n",
    "with open(filename) as f:\n",
    "    lines = [ l.replace(\".\",\"0,\").replace(\"#\",\"1,\").replace(\",\\n\",\"\").split(\",\") for l in f.readlines() ]\n",
    "\n",
    "treemap = []\n",
    "for l in lines:\n",
    "     treemap.append([ int(i) for i in l])\n",
    "\n",
    "_map = np.array(treemap)\n",
    "_map"
   ]
  },
  {
   "cell_type": "code",
   "execution_count": 111,
   "metadata": {},
   "outputs": [
    {
     "data": {
      "text/plain": [
       "323"
      ]
     },
     "execution_count": 111,
     "metadata": {},
     "output_type": "execute_result"
    }
   ],
   "source": [
    "_map.shape[0]"
   ]
  },
  {
   "cell_type": "code",
   "execution_count": 112,
   "metadata": {},
   "outputs": [
    {
     "name": "stdout",
     "output_type": "stream",
     "text": [
      "289\n"
     ]
    }
   ],
   "source": [
    "tree = 0\n",
    "i = 0\n",
    "for j in range(1,_map.shape[0]):\n",
    "    i = (i+3) % _map.shape[1]\n",
    "    #print (j,i,_map[j][i])\n",
    "    tree += _map[j][i]\n",
    "print(tree)"
   ]
  },
  {
   "cell_type": "code",
   "execution_count": 113,
   "metadata": {},
   "outputs": [],
   "source": [
    "def checkSlope(stepdown,stepright):\n",
    "    tree = 0\n",
    "    i = 0\n",
    "    for j in range(stepdown,_map.shape[0],stepdown):\n",
    "        i = (i+stepright) % _map.shape[1]\n",
    "        tree += _map[j][i]\n",
    "    return tree"
   ]
  },
  {
   "cell_type": "code",
   "execution_count": 114,
   "metadata": {},
   "outputs": [
    {
     "name": "stdout",
     "output_type": "stream",
     "text": [
      "84 289 89 71 36\n",
      "5522401584\n"
     ]
    }
   ],
   "source": [
    "t1 = checkSlope(1,1)\n",
    "t2 = checkSlope(1,3)\n",
    "t3 = checkSlope(1,5)\n",
    "t4 = checkSlope(1,7)\n",
    "t5 = checkSlope(2,1)\n",
    "print(t1,t2,t3,t4,t5)\n",
    "print(t1*t2*t3*t4*t5)"
   ]
  },
  {
   "cell_type": "code",
   "execution_count": null,
   "metadata": {},
   "outputs": [],
   "source": []
  }
 ],
 "metadata": {
  "kernelspec": {
   "display_name": "Python 3",
   "language": "python",
   "name": "python3"
  },
  "language_info": {
   "codemirror_mode": {
    "name": "ipython",
    "version": 3
   },
   "file_extension": ".py",
   "mimetype": "text/x-python",
   "name": "python",
   "nbconvert_exporter": "python",
   "pygments_lexer": "ipython3",
   "version": "3.9.0"
  }
 },
 "nbformat": 4,
 "nbformat_minor": 4
}
