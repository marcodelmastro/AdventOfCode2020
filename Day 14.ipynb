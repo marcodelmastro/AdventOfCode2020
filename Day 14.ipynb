{
 "cells": [
  {
   "cell_type": "markdown",
   "metadata": {},
   "source": [
    "# Day 14\n",
    "\n",
    "https://adventofcode.com/2020/day/14\n",
    "\n",
    "## Part 1"
   ]
  },
  {
   "cell_type": "code",
   "execution_count": 131,
   "metadata": {},
   "outputs": [
    {
     "name": "stdout",
     "output_type": "stream",
     "text": [
      "XXXXXXXXXXXXXXXXXXXXXXXXXXXXX1XXXX0X\n",
      "000000000000000000000000000000001011\n",
      "000000000000000000000000000001001001\n"
     ]
    },
    {
     "data": {
      "text/plain": [
       "73"
      ]
     },
     "execution_count": 131,
     "metadata": {},
     "output_type": "execute_result"
    }
   ],
   "source": [
    "m = \"XXXXXXXXXXXXXXXXXXXXXXXXXXXXX1XXXX0X\"\n",
    "i = 11\n",
    "\n",
    "def applyMask(i,m,debug=False):\n",
    "    s = \"0\" * int(36-len(f'{i:b}')) + f'{i:b}'\n",
    "    s1 = ''\n",
    "    if debug:\n",
    "        print(m)\n",
    "        print(s)\n",
    "    for e in enumerate(zip(m,s)):\n",
    "        if e[1][0]==\"X\":\n",
    "            s1 += e[1][1]\n",
    "        else:\n",
    "            s1 += e[1][0]\n",
    "    if debug:\n",
    "        print(s1)\n",
    "    return int(s1,2)\n",
    "            \n",
    "applyMask(i,m,True)"
   ]
  },
  {
   "cell_type": "code",
   "execution_count": 138,
   "metadata": {},
   "outputs": [],
   "source": [
    "#filename = \"data/day14text0.txt\"\n",
    "filename = \"data/input14.txt\""
   ]
  },
  {
   "cell_type": "code",
   "execution_count": 139,
   "metadata": {},
   "outputs": [],
   "source": [
    "with open(filename) as f:\n",
    "    prog = [ l.strip(\"\\n\") for l in f.readlines() ]"
   ]
  },
  {
   "cell_type": "code",
   "execution_count": 140,
   "metadata": {},
   "outputs": [
    {
     "name": "stdout",
     "output_type": "stream",
     "text": [
      "14722016054794\n"
     ]
    }
   ],
   "source": [
    "m = \"XXXXXXXXXXXXXXXXXXXXXXXXXXXXXXXXXXXX\"\n",
    "\n",
    "mem = {}\n",
    "\n",
    "for i in prog:\n",
    "    if i[0:4]==\"mask\":\n",
    "        m = i.replace(\"mask = \",\"\")\n",
    "        #print(m)\n",
    "    else:\n",
    "        #print(i)\n",
    "        s = [int(i.split(\"] = \")[0].replace('mem[','')), int(i.split(\"] = \")[1]) ]\n",
    "        #print(s)\n",
    "        j = applyMask(s[1],m)\n",
    "        #print(s[1],j)\n",
    "        mem[s[0]] = j\n",
    "\n",
    "ssum = 0\n",
    "for slot in mem.keys():\n",
    "    ssum += mem[slot]\n",
    "print(ssum)"
   ]
  },
  {
   "cell_type": "markdown",
   "metadata": {},
   "source": [
    "## Part 2\n",
    "\n",
    "https://adventofcode.com/2020/day/14#part2"
   ]
  },
  {
   "cell_type": "code",
   "execution_count": null,
   "metadata": {},
   "outputs": [],
   "source": []
  }
 ],
 "metadata": {
  "kernelspec": {
   "display_name": "Python 3",
   "language": "python",
   "name": "python3"
  },
  "language_info": {
   "codemirror_mode": {
    "name": "ipython",
    "version": 3
   },
   "file_extension": ".py",
   "mimetype": "text/x-python",
   "name": "python",
   "nbconvert_exporter": "python",
   "pygments_lexer": "ipython3",
   "version": "3.9.0"
  }
 },
 "nbformat": 4,
 "nbformat_minor": 4
}
