{
 "cells": [
  {
   "cell_type": "markdown",
   "metadata": {},
   "source": [
    "# Day 14\n",
    "\n",
    "https://adventofcode.com/2020/day/14\n",
    "\n",
    "## Part 1"
   ]
  },
  {
   "cell_type": "code",
   "execution_count": 131,
   "metadata": {},
   "outputs": [
    {
     "name": "stdout",
     "output_type": "stream",
     "text": [
      "XXXXXXXXXXXXXXXXXXXXXXXXXXXXX1XXXX0X\n",
      "000000000000000000000000000000001011\n",
      "000000000000000000000000000001001001\n"
     ]
    },
    {
     "data": {
      "text/plain": [
       "73"
      ]
     },
     "execution_count": 131,
     "metadata": {},
     "output_type": "execute_result"
    }
   ],
   "source": [
    "m = \"XXXXXXXXXXXXXXXXXXXXXXXXXXXXX1XXXX0X\"\n",
    "i = 11\n",
    "\n",
    "def applyMask(i,m,debug=False):\n",
    "    s = \"0\" * int(36-len(f'{i:b}')) + f'{i:b}'\n",
    "    s1 = ''\n",
    "    if debug:\n",
    "        print(m)\n",
    "        print(s)\n",
    "    for e in enumerate(zip(m,s)):\n",
    "        if e[1][0]==\"X\":\n",
    "            s1 += e[1][1]\n",
    "        else:\n",
    "            s1 += e[1][0]\n",
    "    if debug:\n",
    "        print(s1)\n",
    "    return int(s1,2)\n",
    "            \n",
    "applyMask(i,m,True)"
   ]
  },
  {
   "cell_type": "code",
   "execution_count": 138,
   "metadata": {},
   "outputs": [],
   "source": [
    "#filename = \n",
    "filename = \"data/input14.txt\""
   ]
  },
  {
   "cell_type": "code",
   "execution_count": 142,
   "metadata": {},
   "outputs": [],
   "source": [
    "def readInstructions(filename):\n",
    "    with open(filename) as f:\n",
    "        prog = [ l.strip(\"\\n\") for l in f.readlines() ]\n",
    "    return prog"
   ]
  },
  {
   "cell_type": "code",
   "execution_count": 153,
   "metadata": {},
   "outputs": [],
   "source": [
    "def part1(prog,debug=False):\n",
    "    m = \"XXXXXXXXXXXXXXXXXXXXXXXXXXXXXXXXXXXX\"\n",
    "    mem = {}\n",
    "    for i in prog:\n",
    "        if i[0:4]==\"mask\":\n",
    "            m = i.replace(\"mask = \",\"\")\n",
    "            if debug:\n",
    "                print(m)\n",
    "        else:\n",
    "            s = [int(i.split(\"] = \")[0].replace('mem[','')), int(i.split(\"] = \")[1]) ]\n",
    "            j = applyMask(s[1],m)\n",
    "            mem[s[0]] = j\n",
    "            if debug:\n",
    "                print(i)\n",
    "                print(s)\n",
    "                print(s[1],j)\n",
    "    ssum = 0\n",
    "    if debug:\n",
    "        print(mem)\n",
    "    for slot in mem.keys():\n",
    "        ssum += mem[slot]\n",
    "    return ssum"
   ]
  },
  {
   "cell_type": "code",
   "execution_count": 155,
   "metadata": {},
   "outputs": [
    {
     "name": "stdout",
     "output_type": "stream",
     "text": [
      "XXXXXXXXXXXXXXXXXXXXXXXXXXXXX1XXXX0X\n",
      "mem[8] = 11\n",
      "[8, 11]\n",
      "11 73\n",
      "mem[7] = 101\n",
      "[7, 101]\n",
      "101 101\n",
      "mem[8] = 0\n",
      "[8, 0]\n",
      "0 64\n",
      "{8: 64, 7: 101}\n",
      "\n",
      "Result Test = 165\n",
      "\n",
      "Result Part 1 = 14722016054794\n"
     ]
    }
   ],
   "source": [
    "progtest = readInstructions(\"data/day14text0.txt\")\n",
    "\n",
    "result = part1(progtest,debug=True)\n",
    "print(\"\\nResult Test =\",result)\n",
    "\n",
    "prog = readInstructions(\"data/input14.txt\")\n",
    "result = part1(prog)\n",
    "print(\"\\nResult Part 1 =\",result)"
   ]
  },
  {
   "cell_type": "markdown",
   "metadata": {},
   "source": [
    "## Part 2\n",
    "\n",
    "https://adventofcode.com/2020/day/14#part2"
   ]
  },
  {
   "cell_type": "code",
   "execution_count": null,
   "metadata": {},
   "outputs": [],
   "source": []
  }
 ],
 "metadata": {
  "kernelspec": {
   "display_name": "Python 3",
   "language": "python",
   "name": "python3"
  },
  "language_info": {
   "codemirror_mode": {
    "name": "ipython",
    "version": 3
   },
   "file_extension": ".py",
   "mimetype": "text/x-python",
   "name": "python",
   "nbconvert_exporter": "python",
   "pygments_lexer": "ipython3",
   "version": "3.9.0"
  }
 },
 "nbformat": 4,
 "nbformat_minor": 4
}
