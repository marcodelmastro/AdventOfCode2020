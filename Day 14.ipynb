{
 "cells": [
  {
   "cell_type": "markdown",
   "metadata": {},
   "source": [
    "# Day 14\n",
    "\n",
    "https://adventofcode.com/2020/day/14\n",
    "\n",
    "## Part 1"
   ]
  },
  {
   "cell_type": "code",
   "execution_count": 2,
   "metadata": {},
   "outputs": [
    {
     "name": "stdout",
     "output_type": "stream",
     "text": [
      "XXXXXXXXXXXXXXXXXXXXXXXXXXXXX1XXXX0X\n",
      "000000000000000000000000000000001011\n",
      "000000000000000000000000000001001001\n"
     ]
    },
    {
     "data": {
      "text/plain": [
       "73"
      ]
     },
     "execution_count": 2,
     "metadata": {},
     "output_type": "execute_result"
    }
   ],
   "source": [
    "m = \"XXXXXXXXXXXXXXXXXXXXXXXXXXXXX1XXXX0X\"\n",
    "i = 11\n",
    "\n",
    "def applyMask(i,m,debug=False):\n",
    "    s = \"0\" * int(36-len(f'{i:b}')) + f'{i:b}'\n",
    "    s1 = ''\n",
    "    if debug:\n",
    "        print(m)\n",
    "        print(s)\n",
    "    for e in enumerate(zip(m,s)):\n",
    "        if e[1][0]==\"X\":\n",
    "            s1 += e[1][1]\n",
    "        else:\n",
    "            s1 += e[1][0]\n",
    "    if debug:\n",
    "        print(s1)\n",
    "    return int(s1,2)\n",
    "            \n",
    "applyMask(i,m,True)"
   ]
  },
  {
   "cell_type": "code",
   "execution_count": 3,
   "metadata": {},
   "outputs": [],
   "source": [
    "def readInstructions(filename):\n",
    "    with open(filename) as f:\n",
    "        prog = [ l.strip(\"\\n\") for l in f.readlines() ]\n",
    "    return prog"
   ]
  },
  {
   "cell_type": "code",
   "execution_count": 4,
   "metadata": {},
   "outputs": [],
   "source": [
    "def part1(prog,debug=False):\n",
    "    m = \"XXXXXXXXXXXXXXXXXXXXXXXXXXXXXXXXXXXX\"\n",
    "    mem = {}\n",
    "    for i in prog:\n",
    "        if i[0:4]==\"mask\":\n",
    "            m = i.replace(\"mask = \",\"\")\n",
    "            if debug:\n",
    "                print(m)\n",
    "        else:\n",
    "            s = [int(i.split(\"] = \")[0].replace('mem[','')), int(i.split(\"] = \")[1]) ]\n",
    "            j = applyMask(s[1],m)\n",
    "            mem[s[0]] = j\n",
    "            if debug:\n",
    "                print(i)\n",
    "                print(s)\n",
    "                print(s[1],j)\n",
    "    ssum = 0\n",
    "    if debug:\n",
    "        print(mem)\n",
    "    for slot in mem.keys():\n",
    "        ssum += mem[slot]\n",
    "    return ssum"
   ]
  },
  {
   "cell_type": "code",
   "execution_count": 5,
   "metadata": {},
   "outputs": [
    {
     "name": "stdout",
     "output_type": "stream",
     "text": [
      "XXXXXXXXXXXXXXXXXXXXXXXXXXXXX1XXXX0X\n",
      "mem[8] = 11\n",
      "[8, 11]\n",
      "11 73\n",
      "mem[7] = 101\n",
      "[7, 101]\n",
      "101 101\n",
      "mem[8] = 0\n",
      "[8, 0]\n",
      "0 64\n",
      "{8: 64, 7: 101}\n",
      "\n",
      "Result Test = 165\n"
     ]
    }
   ],
   "source": [
    "progtest = readInstructions(\"data/day14text0.txt\")\n",
    "\n",
    "result = part1(progtest,debug=True)\n",
    "print(\"\\nResult Test =\",result)"
   ]
  },
  {
   "cell_type": "code",
   "execution_count": 6,
   "metadata": {},
   "outputs": [
    {
     "name": "stdout",
     "output_type": "stream",
     "text": [
      "\n",
      "Result Part 1 = 14722016054794\n"
     ]
    }
   ],
   "source": [
    "prog = readInstructions(\"data/input14.txt\")\n",
    "result = part1(prog)\n",
    "print(\"\\nResult Part 1 =\",result)"
   ]
  },
  {
   "cell_type": "markdown",
   "metadata": {},
   "source": [
    "## Part 2\n",
    "\n",
    "https://adventofcode.com/2020/day/14#part2"
   ]
  },
  {
   "cell_type": "code",
   "execution_count": 7,
   "metadata": {},
   "outputs": [
    {
     "data": {
      "text/plain": [
       "('000000000000000000000000000000X1101X',\n",
       " ['000000000000000000000000000000011010',\n",
       "  '000000000000000000000000000000111010',\n",
       "  '000000000000000000000000000000011011',\n",
       "  '000000000000000000000000000000111011'])"
      ]
     },
     "execution_count": 7,
     "metadata": {},
     "output_type": "execute_result"
    }
   ],
   "source": [
    "def replaceFirstX(s0):\n",
    "    pre = \"\"\n",
    "    for b in range(len(s0)-1,-1,-1):\n",
    "        if s0[b] == \"X\":\n",
    "            s1 = s0[:-(len(s0)-b)]+'0'+pre[::-1]\n",
    "            s2 = s0[:-(len(s0)-b)]+'1'+pre[::-1]\n",
    "            return [s1,s2]\n",
    "            break\n",
    "        else:\n",
    "            pre += s0[b]\n",
    "\n",
    "def getMemAddrs(s0):\n",
    "    outs = [s0]\n",
    "    while ( \"X\" in ''.join(outs) ):\n",
    "        newouts = []\n",
    "        for s in outs:\n",
    "            newouts += replaceFirstX(s)\n",
    "        outs = list(newouts)\n",
    "    return outs\n",
    "\n",
    "s0 = \"000000000000000000000000000000X1101X\"\n",
    "outs = getMemAddrs(s0)\n",
    "s0, outs"
   ]
  },
  {
   "cell_type": "code",
   "execution_count": 8,
   "metadata": {},
   "outputs": [
    {
     "name": "stdout",
     "output_type": "stream",
     "text": [
      "000000000000000000000000000000X1001X\n",
      "000000000000000000000000000000101010\n",
      "000000000000000000000000000000X1101X\n",
      "26\n",
      "58\n",
      "27\n",
      "59\n",
      "00000000000000000000000000000000X0XX\n",
      "000000000000000000000000000000011010\n",
      "00000000000000000000000000000001X0XX\n",
      "16\n",
      "24\n",
      "18\n",
      "26\n",
      "17\n",
      "25\n",
      "19\n",
      "27\n"
     ]
    },
    {
     "data": {
      "text/plain": [
       "[16, 24, 18, 26, 17, 25, 19, 27]"
      ]
     },
     "execution_count": 8,
     "metadata": {},
     "output_type": "execute_result"
    }
   ],
   "source": [
    "def getMaskedAddress(a,m,debug=False):\n",
    "    s = \"0\" * int(36-len(f'{a:b}')) + f'{a:b}'\n",
    "    s0 = ''\n",
    "    if debug:\n",
    "        print(m)\n",
    "        print(s)\n",
    "    for e in enumerate(zip(m,s)):\n",
    "        if e[1][0]==\"X\":\n",
    "            s0 += \"X\"\n",
    "        elif e[1][0]==\"1\":\n",
    "            s0 += e[1][0]\n",
    "        else:\n",
    "            s0 += e[1][1]\n",
    "    if debug:\n",
    "        print(s0)\n",
    "    \n",
    "    ss = getMemAddrs(s0)\n",
    "    addr = []\n",
    "    for si in ss:\n",
    "        if debug:\n",
    "            print(int(si,2))\n",
    "        addr.append(int(si,2))\n",
    "    return addr\n",
    "\n",
    "m = \"000000000000000000000000000000X1001X\"\n",
    "a = 42\n",
    "getMaskedAddress(a,m,True)\n",
    "\n",
    "m = \"00000000000000000000000000000000X0XX\"\n",
    "a = 26\n",
    "getMaskedAddress(a,m,True)"
   ]
  },
  {
   "cell_type": "code",
   "execution_count": 9,
   "metadata": {},
   "outputs": [],
   "source": [
    "def part2(prog,debug=False):\n",
    "    m = \"XXXXXXXXXXXXXXXXXXXXXXXXXXXXXXXXXXXX\"\n",
    "    mem = {}\n",
    "    for i in prog:\n",
    "        if i[0:4]==\"mask\":\n",
    "            m = i.replace(\"mask = \",\"\")\n",
    "            if debug:\n",
    "                print(m)\n",
    "        else:\n",
    "            s = [int(i.split(\"] = \")[0].replace('mem[','')), int(i.split(\"] = \")[1]) ]\n",
    "            if debug:\n",
    "                print(s[0],s[1])\n",
    "            for a in getMaskedAddress(s[0],m):\n",
    "                if debug:\n",
    "                    print(a)\n",
    "                mem[a] = s[1]\n",
    "    ssum = 0\n",
    "    if debug:\n",
    "        print(mem)\n",
    "    for slot in mem.keys():\n",
    "        ssum += mem[slot]\n",
    "    return ssum"
   ]
  },
  {
   "cell_type": "code",
   "execution_count": 10,
   "metadata": {},
   "outputs": [
    {
     "name": "stdout",
     "output_type": "stream",
     "text": [
      "000000000000000000000000000000X1001X\n",
      "42 100\n",
      "26\n",
      "58\n",
      "27\n",
      "59\n",
      "00000000000000000000000000000000X0XX\n",
      "26 1\n",
      "16\n",
      "24\n",
      "18\n",
      "26\n",
      "17\n",
      "25\n",
      "19\n",
      "27\n",
      "{26: 1, 58: 100, 27: 1, 59: 100, 16: 1, 24: 1, 18: 1, 17: 1, 25: 1, 19: 1}\n",
      "\n",
      "Result Test = 208\n"
     ]
    }
   ],
   "source": [
    "progtest = readInstructions(\"data/day14test1.txt\")\n",
    "\n",
    "result = part2(progtest,debug=True)\n",
    "print(\"\\nResult Test =\",result)"
   ]
  },
  {
   "cell_type": "code",
   "execution_count": 11,
   "metadata": {},
   "outputs": [
    {
     "name": "stdout",
     "output_type": "stream",
     "text": [
      "\n",
      "Result Part 2 = 3618217244644\n"
     ]
    }
   ],
   "source": [
    "prog = readInstructions(\"data/input14.txt\")\n",
    "result = part2(prog)\n",
    "print(\"\\nResult Part 2 =\",result)"
   ]
  },
  {
   "cell_type": "code",
   "execution_count": null,
   "metadata": {},
   "outputs": [],
   "source": []
  }
 ],
 "metadata": {
  "kernelspec": {
   "display_name": "Python 3",
   "language": "python",
   "name": "python3"
  },
  "language_info": {
   "codemirror_mode": {
    "name": "ipython",
    "version": 3
   },
   "file_extension": ".py",
   "mimetype": "text/x-python",
   "name": "python",
   "nbconvert_exporter": "python",
   "pygments_lexer": "ipython3",
   "version": "3.9.0"
  }
 },
 "nbformat": 4,
 "nbformat_minor": 4
}
