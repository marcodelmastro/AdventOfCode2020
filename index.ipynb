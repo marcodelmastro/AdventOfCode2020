{
 "cells": [
  {
   "cell_type": "markdown",
   "metadata": {},
   "source": [
    "## Advent of Code 2020\n",
    "\n",
    "* [Day 01](Day%2001.ipynb)\n",
    "* [Day 02](Day%2002.ipynb)\n",
    "* [Day 03](Day%2003.ipynb)\n",
    "* [Day 04](Day%2004.ipynb)\n",
    "* [Day 05](Day%2005.ipynb)\n",
    "* [Day 06](Day%2006.ipynb)\n",
    "* [Day 07](Day%2007.ipynb): maybe the first \"tough\" puzzle, but many of the things I learned last year (e.g. how to properly parse and store rules, how to navigate a tree) came useful today!\n",
    "* [Day 08](Day%2008.ipynb)\n",
    "   * Here it comes the programming language for the fantasy architecture of this year! Lesson learned from last year: you shall make a copy of the instructions if you plan to modify them, and (shallow) `copy` and `deepcopy` are different things!\n",
    "   * It'd never too early to refactor the intepreter in a class :-)\n",
    "* [Day 09](Day%2009.ipynb): brute force FTW! I'm sure I could use some math to reduce the problem, e.g. removing all numbers bigger then `n` from the list, then check for remaining contigous sets and try only those. Oh, well...)\n",
    "* [Day 10](Day%2010.ipynb): today we fight tree navigation, and brute force does not work anymore. Luckily I learned my lesson last year, and I recalled quickly (without even having to look for it in 2019 code!) how to do it: use a dictionaly to track number of equal nodes, and just follow one of each for all!\n",
    "* [Day 11](Day%2011.ipynb): something similar to a game of Life for Part 1, and to last-year asteroid field (but only line-of-sight objects count, and they don't change). Using coordinate caching for Part 2 to speed up loop in Part 2, and learned how to mabe a `numpy` array or matrix of generic object (in this case, of a `list` ot `tuple`s) using `np.frompyfunc(list, 0, 1)(np.empty((nr,nc), dtype=object))`\n",
    "* [Day 12](Day%2012.ipynb): no need for a map (e.g. a matrix), just track the coordinates|\n",
    "* [Day 13](Day%2013.ipynb): oh, great, modular algebra! Part 1 was super easy, I struggled with Part 2 and got an hint to look at the Chinese Reminder Theorem. It took me some study to understand what to do, but I could recycle some functions I wrote for Day 22 of AOC 2019...\n",
    "* [Day 14](Day%2014.ipynb)\n",
    "* [Day 15](Day%2015.ipynb): Note to self: next time implement your initial idea already for Part 1!)\n",
    "* [Day 16](Day%2016.ipynb): today Part 2 was fun! I had the solution in my mind and on paper hours before I found the time to make my usual spaghetti implementation...\n",
    "* [Day 17](Day%2017.ipynb): modifying Part 1 to solve Part 2 was fast!\n",
    "* [Day 18](Day%2018.ipynb)\n",
    "* [Day 19](Day%2019.ipynb): the toughest day by far since the beginning, unsolvable without using regular expression (that I know nothing about!): I had to study to learn some basics, and for Part 2 also peer at reddit for hints...\n",
    "* [Day 20](Day%2020.ipynb): Part 1 was easy, no need to jigsaw solve the puzzle. **Part 2 still to do: jigsaw puzzle solution is needed and I still need to figure out an algorithm to do this it...**\n",
    "* [Day 21](Day%2021.ipynb): Part 1 can be solved using the same algorithm used for Day 16. Part 2 it trivial once Part 1 is solved (and I used my very first `lambda` to sort a list of tuples by one element!)\n",
    "* [Day 22](Day%2022.ipynb): Recursions in Part 2! And magically I got Part 2 right at first attempt!\n",
    "* **Day 23: Still to do** _(No AOC on the 23rd, it's my daugther's birthday. This will have to wait for after Xmas...)_\n",
    "* [Day 24](Day%2024.ipynb): easy after having seen the N-dimensional Conway cubes :-). Made on Christmas morning before the familty got up!\n",
    "* **Day 25: Still to do** _(Got behind the last days before Xmas, will catch up ASAP...)_"
   ]
  },
  {
   "cell_type": "code",
   "execution_count": null,
   "metadata": {},
   "outputs": [],
   "source": []
  }
 ],
 "metadata": {
  "kernelspec": {
   "display_name": "Python 3",
   "language": "python",
   "name": "python3"
  },
  "language_info": {
   "codemirror_mode": {
    "name": "ipython",
    "version": 3
   },
   "file_extension": ".py",
   "mimetype": "text/x-python",
   "name": "python",
   "nbconvert_exporter": "python",
   "pygments_lexer": "ipython3",
   "version": "3.9.0"
  }
 },
 "nbformat": 4,
 "nbformat_minor": 2
}
