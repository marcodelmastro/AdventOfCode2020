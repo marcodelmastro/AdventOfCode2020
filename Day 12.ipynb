{
 "cells": [
  {
   "cell_type": "markdown",
   "metadata": {},
   "source": [
    "# Day 12: Rain Risk\n",
    "\n",
    "https://adventofcode.com/2020/day/12"
   ]
  },
  {
   "cell_type": "code",
   "execution_count": 9,
   "metadata": {},
   "outputs": [],
   "source": [
    "def getInstructions(filename):\n",
    "    with open(filename) as f:\n",
    "        instr = [ (i[0],int(i[1:])) for i in [ l.strip(\"\\n\") for l in f.readlines() ]]\n",
    "    return instr"
   ]
  },
  {
   "cell_type": "code",
   "execution_count": 10,
   "metadata": {},
   "outputs": [],
   "source": [
    "#filename = \"data/day12test0.txt\"\n",
    "filename = \"data/input12.txt\"\n",
    "\n",
    "instr = getInstructions(filename)\n",
    "#instr"
   ]
  },
  {
   "cell_type": "code",
   "execution_count": 11,
   "metadata": {},
   "outputs": [],
   "source": [
    "# Coordinates stored as (row,column) in a matrix, aka (y,x)\n",
    "direc = [ \"N\", \"W\", \"S\", \"E\"]\n",
    "step = {}\n",
    "step[\"N\"] = (+1,0)\n",
    "step[\"S\"] = (-1,0)\n",
    "step[\"E\"] = (0,+1)\n",
    "step[\"W\"] = (0,-1)"
   ]
  },
  {
   "cell_type": "code",
   "execution_count": 13,
   "metadata": {},
   "outputs": [
    {
     "name": "stdout",
     "output_type": "stream",
     "text": [
      "1645\n"
     ]
    }
   ],
   "source": [
    "mypos = (0,0)\n",
    "mydir = \"E\"\n",
    "\n",
    "for (i,v) in instr:\n",
    "    # print(i,v)\n",
    "    if i==\"F\":\n",
    "        for s in range(v):\n",
    "            mypos = tuple(a + b for a, b in zip(mypos, step[mydir]))\n",
    "    elif i==\"L\" or i==\"R\":\n",
    "        # (1-2*int(i==\"R\")) maps R to -1 and L to 1\n",
    "        c = ( direc.index(mydir) + (1-2*int(i==\"R\"))*int(v/90) ) % 4\n",
    "        mydir = direc[c]\n",
    "    else:\n",
    "        for s in range(v):\n",
    "            mypos = tuple(a + b for a, b in zip(mypos, step[i])) \n",
    "    #print(i,v, mypos, mydir)\n",
    "\n",
    "res = sum([abs(ele) for ele in mypos])\n",
    "print(res)"
   ]
  },
  {
   "cell_type": "code",
   "execution_count": 14,
   "metadata": {},
   "outputs": [
    {
     "name": "stdout",
     "output_type": "stream",
     "text": [
      "35292\n"
     ]
    }
   ],
   "source": [
    "mypos = (0,0)\n",
    "wayp = (1,10) # N1, E10\n",
    "wayprel = tuple(a - b for a, b in zip(wayp,mypos)) # waypoint relative to the ship\n",
    "    \n",
    "for (i,v) in instr:\n",
    "    if i==\"F\":\n",
    "        for s in range(v):\n",
    "            mypos = tuple(a + b for a, b in zip(mypos, wayprel))\n",
    "        wayp = tuple(a + b for a, b in zip(mypos, wayprel))\n",
    "    elif i==\"L\" or i==\"R\":\n",
    "        if ( i==\"R\" and v==90 ) or ( i==\"L\" and v==270) :\n",
    "            # R90, L270\n",
    "            wayp = ( mypos[0] - wayprel[1] ,  mypos[1] + wayprel[0] )\n",
    "        elif ( i==\"L\" and v==90 ) or ( i==\"R\" and v==270) :\n",
    "            # L90, R270 \n",
    "            wayp = ( mypos[0] + wayprel[1] ,  mypos[1] - wayprel[0] )\n",
    "        elif ( i==\"L\" and v==180 ) or ( i==\"R\" and v==180) :\n",
    "            # R180, L180\n",
    "            wayp = ( mypos[0] - wayprel[0] ,  mypos[1] - wayprel[1] )\n",
    "        # recompute waypoint position relative to the ship after waypoint rotation\n",
    "        wayprel = tuple(a - b for a, b in zip(wayp,mypos))\n",
    "    else:\n",
    "        for s in range(v):\n",
    "            wayp = tuple(a + b for a, b in zip(wayp, step[i]))\n",
    "        # recompute waypoint position relative to the ship after waypoint movement\n",
    "        wayprel = tuple(a - b for a, b in zip(wayp,mypos))\n",
    "    #print(i,v, mypos, wayp, wayprel)\n",
    "      \n",
    "res = sum([abs(ele) for ele in mypos])\n",
    "print(res)"
   ]
  },
  {
   "cell_type": "code",
   "execution_count": null,
   "metadata": {},
   "outputs": [],
   "source": []
  }
 ],
 "metadata": {
  "kernelspec": {
   "display_name": "Python 3",
   "language": "python",
   "name": "python3"
  },
  "language_info": {
   "codemirror_mode": {
    "name": "ipython",
    "version": 3
   },
   "file_extension": ".py",
   "mimetype": "text/x-python",
   "name": "python",
   "nbconvert_exporter": "python",
   "pygments_lexer": "ipython3",
   "version": "3.9.0"
  }
 },
 "nbformat": 4,
 "nbformat_minor": 4
}
