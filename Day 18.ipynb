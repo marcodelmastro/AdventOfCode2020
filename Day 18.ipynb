{
 "cells": [
  {
   "cell_type": "markdown",
   "metadata": {},
   "source": [
    "# Day 18: Operation Order\n",
    "\n",
    "https://adventofcode.com/2020/day/18\n",
    "\n",
    "## Part 1"
   ]
  },
  {
   "cell_type": "code",
   "execution_count": 1,
   "metadata": {},
   "outputs": [
    {
     "name": "stdout",
     "output_type": "stream",
     "text": [
      "1 + 2 * 3 + 4 * 5 + 6 = 71\n",
      "4 * 11 = 44\n"
     ]
    }
   ],
   "source": [
    "# function to evaluate expression within parenthesis\n",
    "\n",
    "def solveExp(exp):\n",
    "    cc = exp.split(\" \")\n",
    "    res = int(cc[0]) # first number\n",
    "    ops = cc[1::+2] # operation series\n",
    "    dig = [ int(d) for d in cc[2::+2] ] # all other numbers\n",
    "    for d,o in zip(dig,ops):\n",
    "        if o == \"+\":\n",
    "            res += d\n",
    "        elif o == \"*\":\n",
    "            res *= d\n",
    "    return res\n",
    "\n",
    "exp1 = \"1 + 2 * 3 + 4 * 5 + 6\"\n",
    "\n",
    "print(exp1,\"=\",solveExp(exp1))\n",
    "print(\"4 * 11\",\"=\",solveExp(\"4 * 11\"))"
   ]
  },
  {
   "cell_type": "code",
   "execution_count": 2,
   "metadata": {},
   "outputs": [
    {
     "name": "stdout",
     "output_type": "stream",
     "text": [
      "1 + (2 * 3) + (4 * (5 + 6)) = 51\n"
     ]
    }
   ],
   "source": [
    "# function to solve full expression with parentheses\n",
    "\n",
    "def solveExpFull(exp):\n",
    "    #print(exp)\n",
    "    while \"(\" in exp: # continue until there's a parenthesis in expression   \n",
    "        # find inner parentheses in current expression\n",
    "        i0 = -1\n",
    "        i1 = -1\n",
    "        inner = [] # collection of indexes of inner parentheses\n",
    "        for i in range(len(exp)):\n",
    "            if exp[i] ==\"(\" and i1==-1: \n",
    "                i0 = i\n",
    "            if exp[i] ==\")\" and i0!=-1:\n",
    "                i1 = i\n",
    "            if i0!=-1 and i1!=-1:\n",
    "                inner.append((i0,i1))\n",
    "                i0 = -1\n",
    "                i1 = -1\n",
    "        # solve expressions in inner parentheses\n",
    "        sol = []\n",
    "        for p in inner:\n",
    "            i0,i1 = p\n",
    "            e = exp[i0+1:i1]\n",
    "            r = solveExp(e)\n",
    "            #print(e,\"=\",r)\n",
    "            sol.append((e,r))\n",
    "        # replace inner parentheses with solutions in expression\n",
    "        expnew = exp\n",
    "        for e,r in sol:\n",
    "            expnew = expnew.replace(\"(\"+e+\")\",str(r))\n",
    "        # rince and repeat\n",
    "        exp = expnew\n",
    "        #print(exp)\n",
    "    # expression does not have parenthesis anymore, solve one last time\n",
    "    r = solveExp(exp)\n",
    "    return r\n",
    "\n",
    "exp = \"1 + (2 * 3) + (4 * (5 + 6))\"\n",
    "print(exp,\"=\",solveExpFull(exp))"
   ]
  },
  {
   "cell_type": "code",
   "execution_count": 3,
   "metadata": {},
   "outputs": [
    {
     "name": "stdout",
     "output_type": "stream",
     "text": [
      "11297104473091\n"
     ]
    }
   ],
   "source": [
    "filename = \"data/input18.txt\"\n",
    "\n",
    "with open(filename) as f:\n",
    "    lines = [l.strip(\"\\n\") for l in f.readlines() ]\n",
    "\n",
    "part1 = 0\n",
    "for exp in lines:\n",
    "    part1 += solveExpFull(exp)\n",
    "    \n",
    "print(part1)"
   ]
  },
  {
   "cell_type": "markdown",
   "metadata": {},
   "source": [
    "## Part 2"
   ]
  },
  {
   "cell_type": "code",
   "execution_count": 4,
   "metadata": {},
   "outputs": [
    {
     "name": "stdout",
     "output_type": "stream",
     "text": [
      "1 + 2 * 3 + 4 * 5 + 6 = 231\n"
     ]
    }
   ],
   "source": [
    "# function to evaluate expression within parenthesis with new specific operation precedence\n",
    "\n",
    "def solveExp2(exp):\n",
    "    if \"*\" in exp and not \"+\" in exp: # only multiplication, use solveExp from Part 1\n",
    "        r = solveExp(exp)\n",
    "    elif \"+\" in exp and not \"*\" in exp: #  # only addition, use solveExp from Part 1\n",
    "        r = solveExp(exp)\n",
    "    else:\n",
    "        r = 1\n",
    "        for e in exp.split(\" * \"): # isolate additions, solve and multiply them\n",
    "            r *= solveExp(e)\n",
    "    return r\n",
    "\n",
    "exp = \"1 + 2 * 3 + 4 * 5 + 6\"\n",
    "\n",
    "print(exp,\"=\",solveExp2(exp))"
   ]
  },
  {
   "cell_type": "code",
   "execution_count": 5,
   "metadata": {},
   "outputs": [],
   "source": [
    "# same as Part 1 to isolate parentheses, but now uses new operation precedence to solve it\n",
    "\n",
    "def solveExpFull2(exp):\n",
    "    while \"(\" in exp: # continue until there's a parenthesis in expression   \n",
    "        # find inner parentheses in current expression\n",
    "        i0 = -1\n",
    "        i1 = -1\n",
    "        inner = [] # collection of indexes of inner parentheses\n",
    "        for i in range(len(exp)):\n",
    "            if exp[i] ==\"(\" and i1==-1: \n",
    "                i0 = i\n",
    "            if exp[i] ==\")\" and i0!=-1:\n",
    "                i1 = i\n",
    "            if i0!=-1 and i1!=-1:\n",
    "                inner.append((i0,i1))\n",
    "                i0 = -1\n",
    "                i1 = -1\n",
    "        # solve expressions in inner parentheses\n",
    "        sol = []\n",
    "        for p in inner:\n",
    "            i0,i1 = p\n",
    "            e = exp[i0+1:i1]\n",
    "            r = solveExp2(e) ### <- NEW\n",
    "            sol.append((e,r))\n",
    "        # replace inner parentheses with solutions\n",
    "        expnew = exp\n",
    "        for e,r in sol:\n",
    "            expnew = expnew.replace(\"(\"+e+\")\",str(r))\n",
    "        # rince and repeat\n",
    "        exp = expnew\n",
    "   # expression does not have parenthesis anymore, solve one last time     \n",
    "    r = solveExp2(exp) ### <- NEW\n",
    "    return r"
   ]
  },
  {
   "cell_type": "code",
   "execution_count": 6,
   "metadata": {},
   "outputs": [
    {
     "name": "stdout",
     "output_type": "stream",
     "text": [
      "185348874183674\n"
     ]
    }
   ],
   "source": [
    "filename = \"data/input18.txt\"\n",
    "\n",
    "with open(filename) as f:\n",
    "    lines = [l.strip(\"\\n\") for l in f.readlines() ]\n",
    "\n",
    "part2 = 0\n",
    "for exp in lines:\n",
    "    part2 += solveExpFull2(exp)\n",
    "    \n",
    "print(part2)"
   ]
  },
  {
   "cell_type": "code",
   "execution_count": null,
   "metadata": {},
   "outputs": [],
   "source": []
  }
 ],
 "metadata": {
  "kernelspec": {
   "display_name": "Python 3",
   "language": "python",
   "name": "python3"
  },
  "language_info": {
   "codemirror_mode": {
    "name": "ipython",
    "version": 3
   },
   "file_extension": ".py",
   "mimetype": "text/x-python",
   "name": "python",
   "nbconvert_exporter": "python",
   "pygments_lexer": "ipython3",
   "version": "3.9.0"
  }
 },
 "nbformat": 4,
 "nbformat_minor": 4
}
