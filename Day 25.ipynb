{
 "cells": [
  {
   "cell_type": "markdown",
   "metadata": {},
   "source": [
    "# Day 25 Combo Breaker\n",
    "\n",
    "https://adventofcode.com/2020/day/25"
   ]
  },
  {
   "cell_type": "code",
   "execution_count": 23,
   "metadata": {},
   "outputs": [
    {
     "name": "stdout",
     "output_type": "stream",
     "text": [
      "5764801 8\n",
      "17807724 11\n"
     ]
    }
   ],
   "source": [
    "def getLoopSize(pub):\n",
    "    d = 20201227\n",
    "    s = 7\n",
    "    v = 1\n",
    "    l = 0\n",
    "    while v!=pub:\n",
    "        v = (v*s)%d\n",
    "        #print(l,v,pub)\n",
    "        l+=1\n",
    "    return l\n",
    " \n",
    "card_pub = 5764801 # loop size = 8\n",
    "print(card_pub,getLoopSize(card_pub))\n",
    "\n",
    "door_pub = 17807724 # loop size = 11\n",
    "print(door_pub,getLoopSize(door_pub))"
   ]
  },
  {
   "cell_type": "code",
   "execution_count": 24,
   "metadata": {},
   "outputs": [
    {
     "name": "stdout",
     "output_type": "stream",
     "text": [
      "Encryption key (example):\n",
      "14897079\n",
      "14897079\n"
     ]
    }
   ],
   "source": [
    "def applyLoopSize(s,l):\n",
    "    d = 20201227\n",
    "    v = 1\n",
    "    for _ in range(l):\n",
    "        v = (v*s)%d\n",
    "    return v\n",
    "\n",
    "print(\"Encryption key (example):\")\n",
    "print(applyLoopSize(door_pub,getLoopSize(card_pub)))\n",
    "print(applyLoopSize(card_pub,getLoopSize(door_pub)))"
   ]
  },
  {
   "cell_type": "code",
   "execution_count": 25,
   "metadata": {},
   "outputs": [
    {
     "name": "stdout",
     "output_type": "stream",
     "text": [
      "Encryption key (Part 1):\n",
      "18433997\n",
      "18433997\n"
     ]
    }
   ],
   "source": [
    "card_pub = 18499292\n",
    "door_pub = 8790390\n",
    "\n",
    "print(\"Encryption key (Part 1):\")\n",
    "print(applyLoopSize(door_pub,getLoopSize(card_pub)))\n",
    "print(applyLoopSize(card_pub,getLoopSize(door_pub)))"
   ]
  },
  {
   "cell_type": "code",
   "execution_count": null,
   "metadata": {},
   "outputs": [],
   "source": []
  }
 ],
 "metadata": {
  "kernelspec": {
   "display_name": "Python 3",
   "language": "python",
   "name": "python3"
  },
  "language_info": {
   "codemirror_mode": {
    "name": "ipython",
    "version": 3
   },
   "file_extension": ".py",
   "mimetype": "text/x-python",
   "name": "python",
   "nbconvert_exporter": "python",
   "pygments_lexer": "ipython3",
   "version": "3.9.0"
  }
 },
 "nbformat": 4,
 "nbformat_minor": 4
}
