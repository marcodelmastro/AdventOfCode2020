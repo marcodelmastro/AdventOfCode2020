{
 "cells": [
  {
   "cell_type": "markdown",
   "metadata": {},
   "source": [
    "# Day 2: Password Philosophy\n",
    "\n",
    "https://adventofcode.com/2020/day/2"
   ]
  },
  {
   "cell_type": "code",
   "execution_count": 1,
   "metadata": {},
   "outputs": [],
   "source": [
    "#filename = \"data/day02test0.txt\"\n",
    "filename = \"data/input02.txt\"\n",
    "\n",
    "with open(filename,'r') as f:\n",
    "     lines = [ l.strip(\"\\n\").replace(\"-\",\" \").replace(\":\",\"\").split(\" \") for l in f.readlines() ]\n",
    "\n",
    "#lines"
   ]
  },
  {
   "cell_type": "code",
   "execution_count": 2,
   "metadata": {},
   "outputs": [],
   "source": [
    "def checkPassword1(line):\n",
    "    cmin = int(line[0])\n",
    "    cmax = int(line[1])\n",
    "    freq = line[3].count(line[2])\n",
    "    #print(cmin,cmax,freq)\n",
    "    if freq >= cmin and freq <= cmax:\n",
    "        return True\n",
    "    else:\n",
    "        return False\n",
    "    \n",
    "    \n",
    "def checkPassword2(line):\n",
    "    p1 = int(line[0])\n",
    "    p2 = int(line[1])\n",
    "    c1 = line[3][p1-1]\n",
    "    c2 = line[3][p2-1]\n",
    "    valid = ( int(c1==line[2]) + int(c2==line[2]) ) == 1\n",
    "    #print(c1,c2,line[2],valid)\n",
    "    return valid"
   ]
  },
  {
   "cell_type": "code",
   "execution_count": 60,
   "metadata": {},
   "outputs": [
    {
     "name": "stdout",
     "output_type": "stream",
     "text": [
      "517 284\n"
     ]
    }
   ],
   "source": [
    "valid1 = 0\n",
    "valid2 = 0\n",
    "\n",
    "for l in lines:\n",
    "    if checkPassword1(l):\n",
    "        valid1 += 1\n",
    "    if checkPassword2(l):\n",
    "        valid2 += 1\n",
    "        \n",
    "print(valid1, valid2)"
   ]
  },
  {
   "cell_type": "code",
   "execution_count": null,
   "metadata": {},
   "outputs": [],
   "source": []
  }
 ],
 "metadata": {
  "kernelspec": {
   "display_name": "Python 3",
   "language": "python",
   "name": "python3"
  },
  "language_info": {
   "codemirror_mode": {
    "name": "ipython",
    "version": 3
   },
   "file_extension": ".py",
   "mimetype": "text/x-python",
   "name": "python",
   "nbconvert_exporter": "python",
   "pygments_lexer": "ipython3",
   "version": "3.9.0"
  }
 },
 "nbformat": 4,
 "nbformat_minor": 2
}
