{
 "cells": [
  {
   "cell_type": "markdown",
   "metadata": {},
   "source": [
    "# Day 6: Custom Customs\n",
    "\n",
    "https://adventofcode.com/2020/day/6"
   ]
  },
  {
   "cell_type": "code",
   "execution_count": 50,
   "metadata": {},
   "outputs": [],
   "source": [
    "#filename = \"data/day06test0.txt\"\n",
    "filename = \"data/input06.txt\" # Add newline at the end to count last group!"
   ]
  },
  {
   "cell_type": "code",
   "execution_count": 56,
   "metadata": {},
   "outputs": [],
   "source": [
    "with open (filename) as f:\n",
    "    lines = [ l.strip(\"\\n\") for l in f.readlines() ]\n",
    "#lines"
   ]
  },
  {
   "cell_type": "code",
   "execution_count": 52,
   "metadata": {},
   "outputs": [],
   "source": [
    "# merging answers from each group for easier counting\n",
    "\n",
    "groups = []\n",
    "g = \"\"\n",
    "for l in lines:\n",
    "    if l != \"\":\n",
    "        g += l\n",
    "    else:\n",
    "        groups.append(g)\n",
    "        g = \"\"\n",
    "\n",
    "#groups"
   ]
  },
  {
   "cell_type": "code",
   "execution_count": 53,
   "metadata": {},
   "outputs": [
    {
     "name": "stdout",
     "output_type": "stream",
     "text": [
      "6662\n"
     ]
    }
   ],
   "source": [
    "from string import ascii_lowercase\n",
    "\n",
    "s = 0\n",
    "for g in groups:\n",
    "    ig = 0\n",
    "    for c in ascii_lowercase:\n",
    "        if c in g:\n",
    "            ig += 1\n",
    "    #print(g,ig)\n",
    "    s += ig\n",
    "\n",
    "print(s)"
   ]
  },
  {
   "cell_type": "code",
   "execution_count": 54,
   "metadata": {},
   "outputs": [],
   "source": [
    "# Obviously the merging in Part 1 does not work for part 2!\n",
    "# Parsing again input...\n",
    "\n",
    "groups = []\n",
    "g = []\n",
    "for l in lines:\n",
    "    if l != \"\":\n",
    "        g.append(l)\n",
    "    else:\n",
    "        groups.append(g)\n",
    "        g = []\n",
    "\n",
    "#groups"
   ]
  },
  {
   "cell_type": "code",
   "execution_count": 55,
   "metadata": {},
   "outputs": [
    {
     "name": "stdout",
     "output_type": "stream",
     "text": [
      "3382\n"
     ]
    }
   ],
   "source": [
    "s = 0\n",
    "for g in groups:\n",
    "    ig = 0\n",
    "    for c in ascii_lowercase: # loop on questions\n",
    "        ic = 0\n",
    "        for a in g: # loop on group answers\n",
    "            if c in a:\n",
    "                ic += 1\n",
    "        if ic == len(g):\n",
    "            ig += 1\n",
    "    #print(g,ig)\n",
    "    s += ig\n",
    "\n",
    "print(s)"
   ]
  },
  {
   "cell_type": "code",
   "execution_count": null,
   "metadata": {},
   "outputs": [],
   "source": []
  }
 ],
 "metadata": {
  "kernelspec": {
   "display_name": "Python 3",
   "language": "python",
   "name": "python3"
  },
  "language_info": {
   "codemirror_mode": {
    "name": "ipython",
    "version": 3
   },
   "file_extension": ".py",
   "mimetype": "text/x-python",
   "name": "python",
   "nbconvert_exporter": "python",
   "pygments_lexer": "ipython3",
   "version": "3.9.0"
  }
 },
 "nbformat": 4,
 "nbformat_minor": 4
}
