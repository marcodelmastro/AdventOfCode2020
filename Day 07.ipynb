{
 "cells": [
  {
   "cell_type": "markdown",
   "metadata": {},
   "source": [
    "# Day 7: Handy Haversacks \n",
    "\n",
    "https://adventofcode.com/2020/day/7#part2"
   ]
  },
  {
   "cell_type": "code",
   "execution_count": 2,
   "metadata": {},
   "outputs": [],
   "source": [
    "#filename = \"data/day07test0.txt\"\n",
    "filename = \"data/input07.txt\""
   ]
  },
  {
   "cell_type": "code",
   "execution_count": 4,
   "metadata": {
    "slideshow": {
     "slide_type": "subslide"
    }
   },
   "outputs": [
    {
     "name": "stdout",
     "output_type": "stream",
     "text": [
      "There are 594 bag colors\n"
     ]
    }
   ],
   "source": [
    "with open(filename) as f:\n",
    "    lines = [ l.strip('\\n').replace('bags ','').replace(' bags','').replace(' bag','').replace('.','').split(' contain ') for l in f.readlines() ]\n",
    "\n",
    "colors = [ l[0] for l in lines ]\n",
    "print(\"There are\",len(colors),\"bag colors\")\n",
    "\n",
    "nobags = \"no other\"\n",
    "\n",
    "# Store rules as list of dictionaries, same size as bag colors\n",
    "rules = []\n",
    "\n",
    "for l in lines:\n",
    "    rule = {}\n",
    "    r2 = l[1].split(', ')\n",
    "    for b in r2:\n",
    "        for c in colors:\n",
    "            if c in b:\n",
    "                nc = int(b.replace(c,\"\").replace(\" \",\"\")) # number of bags of given color\n",
    "                rule[c] = nc\n",
    "        if nobags in b:\n",
    "            rule[nobags] = 0 # not sure this is needed, probably I could simply leave the dict empy\n",
    "    rules.append(rule)\n",
    "\n",
    "#print(rules)"
   ]
  },
  {
   "cell_type": "markdown",
   "metadata": {},
   "source": [
    "**After-the-fact note:** here I could probably have used in amore effective way a dictionary of dictionaries, using the initial list of colors as keys for the main dictionary! Next time... :-)"
   ]
  },
  {
   "cell_type": "code",
   "execution_count": 184,
   "metadata": {},
   "outputs": [
    {
     "name": "stdout",
     "output_type": "stream",
     "text": [
      "197\n"
     ]
    }
   ],
   "source": [
    "def inOtherBags(color):\n",
    "    ibag = 0\n",
    "    bags = []\n",
    "    for r in rules:\n",
    "        if color in r:\n",
    "            bags.append(colors[ibag])\n",
    "        ibag += 1\n",
    "    return(bags)\n",
    "\n",
    "mycolor = \"shiny gold\"\n",
    "bagswithmine = []\n",
    "bags = [ mycolor ]\n",
    "\n",
    "while(len(bags)):\n",
    "    newbags = []\n",
    "    for b in bags:\n",
    "        _bags = inOtherBags(b)\n",
    "        for _b in _bags:\n",
    "            newbags.append(_b)\n",
    "            if _b not in bagswithmine:\n",
    "                bagswithmine.append(_b)\n",
    "    bags = newbags\n",
    "\n",
    "#print(bagswithmine)\n",
    "print(len(bagswithmine))"
   ]
  },
  {
   "cell_type": "code",
   "execution_count": 189,
   "metadata": {},
   "outputs": [
    {
     "name": "stdout",
     "output_type": "stream",
     "text": [
      "85324\n"
     ]
    }
   ],
   "source": [
    "bags = [ mycolor ]\n",
    "howmanybags = -1 # don't count initial bag\n",
    "\n",
    "while(len(bags)):\n",
    "    howmanybags += len(bags)\n",
    "    nextbags = []\n",
    "    for b in bags:\n",
    "        for _b in rules[colors.index(b)].keys():\n",
    "            for r in range(rules[colors.index(b)][_b]):\n",
    "                nextbags.append(_b)\n",
    "    bags = nextbags\n",
    "\n",
    "print(howmanybags)"
   ]
  },
  {
   "cell_type": "code",
   "execution_count": null,
   "metadata": {},
   "outputs": [],
   "source": []
  }
 ],
 "metadata": {
  "kernelspec": {
   "display_name": "Python 3",
   "language": "python",
   "name": "python3"
  },
  "language_info": {
   "codemirror_mode": {
    "name": "ipython",
    "version": 3
   },
   "file_extension": ".py",
   "mimetype": "text/x-python",
   "name": "python",
   "nbconvert_exporter": "python",
   "pygments_lexer": "ipython3",
   "version": "3.9.0"
  }
 },
 "nbformat": 4,
 "nbformat_minor": 4
}
