{
 "cells": [
  {
   "cell_type": "markdown",
   "metadata": {},
   "source": [
    "# Day 24\n",
    "\n",
    "https://adventofcode.com/2020/day/24"
   ]
  },
  {
   "cell_type": "code",
   "execution_count": 61,
   "metadata": {},
   "outputs": [
    {
     "data": {
      "text/plain": [
       "['nw', 'w', 'sw', 'e', 'e']"
      ]
     },
     "execution_count": 61,
     "metadata": {},
     "output_type": "execute_result"
    }
   ],
   "source": [
    "def getMoves(l):\n",
    "    '''Decode moves according to 6 hex directions: e, se, sw, w, nw, and ne'''\n",
    "    moves = []\n",
    "    i = 0\n",
    "    while i<len(l):\n",
    "        if l[i]==\"n\" or l[i]==\"s\": # nw, ne, sw, se\n",
    "            m = l[i:i+2]\n",
    "            i += 2\n",
    "        else:\n",
    "            m = l[i]\n",
    "            i += 1\n",
    "        moves.append(m)\n",
    "    return moves\n",
    "\n",
    "l = \"nwwswee\"\n",
    "moves = getMoves(l)\n",
    "moves"
   ]
  },
  {
   "cell_type": "markdown",
   "metadata": {},
   "source": [
    "Idea: hex tiles can be maped to square grid also allowing two diagonal moves!"
   ]
  },
  {
   "cell_type": "code",
   "execution_count": 62,
   "metadata": {},
   "outputs": [],
   "source": [
    "move = {}\n",
    "move['w']  = (0,-1)\n",
    "move['e']  = (0,+1)\n",
    "move['nw'] = (-1,0)\n",
    "move['se'] = (+1,0)\n",
    "move['ne'] = (-1,+1)\n",
    "move['sw'] = (+1,-1)\n",
    "\n",
    "def moveTileStep(s,m):\n",
    "    return tuple(a + b for a,b in zip(s,move[m]))"
   ]
  },
  {
   "cell_type": "code",
   "execution_count": 31,
   "metadata": {},
   "outputs": [
    {
     "name": "stdout",
     "output_type": "stream",
     "text": [
      "(0, 1)\n"
     ]
    }
   ],
   "source": [
    "a = (0,0)\n",
    "b = moveTileStep(a,'e')\n",
    "print(b)"
   ]
  },
  {
   "cell_type": "code",
   "execution_count": 63,
   "metadata": {},
   "outputs": [
    {
     "name": "stdout",
     "output_type": "stream",
     "text": [
      "(0, 0) -> (0, 0)\n"
     ]
    }
   ],
   "source": [
    "def moveToTile(s,moves):\n",
    "    for m in moves:\n",
    "        b = moveTile(s,m)\n",
    "        #print(s,\"->\",b)\n",
    "        s = b\n",
    "    return b\n",
    "\n",
    "l = \"nwwswee\"\n",
    "moves = getMoves(l)\n",
    "a = (0,0)\n",
    "b = moveToTile(a,moves)\n",
    "print(a,\"->\",b)"
   ]
  },
  {
   "cell_type": "markdown",
   "metadata": {},
   "source": [
    "## Part 1"
   ]
  },
  {
   "cell_type": "code",
   "execution_count": 94,
   "metadata": {},
   "outputs": [
    {
     "name": "stdout",
     "output_type": "stream",
     "text": [
      "Black tiles: 388\n"
     ]
    }
   ],
   "source": [
    "from collections import defaultdict\n",
    "\n",
    "WHITE = 0\n",
    "BLACK = 1\n",
    "\n",
    "def White():\n",
    "    return WHITE\n",
    "\n",
    "def Flip(s):\n",
    "    '''Flip 0->1 or 1->0'''\n",
    "    grid[s] = -grid[s]+1\n",
    "\n",
    "grid = defaultdict(White)\n",
    "    \n",
    "def getGrid(filename,grid):\n",
    "    \n",
    "    with open(filename) as f:\n",
    "        lines = [l.strip('\\n') for l in f.readlines()]\n",
    "\n",
    "    for l in lines:\n",
    "        moves = getMoves(l)\n",
    "        a = (0,0)\n",
    "        b = moveToTile(a,moves)\n",
    "        #print(a,\"->\",b)\n",
    "        Flip(b)\n",
    "\n",
    "    return grid\n",
    "\n",
    "#grid = getGrid(\"data/day24test0.txt\",grid)\n",
    "grid = getGrid(\"data/input24.txt\",grid)\n",
    "\n",
    "black = 0\n",
    "for tile in grid.keys():\n",
    "    if grid[tile] == BLACK: black +=1\n",
    "        \n",
    "print(\"Black tiles:\", black)"
   ]
  },
  {
   "cell_type": "markdown",
   "metadata": {},
   "source": [
    "## Part 2"
   ]
  },
  {
   "cell_type": "code",
   "execution_count": 95,
   "metadata": {},
   "outputs": [
    {
     "name": "stdout",
     "output_type": "stream",
     "text": [
      "[(0, -1), (-1, 0), (-1, 1), (0, 1), (1, 0), (1, -1)]\n"
     ]
    }
   ],
   "source": [
    "directions = ['w','nw','ne','e','se','sw']\n",
    "\n",
    "def getAdiacents(s):\n",
    "    adiacents = []\n",
    "    for d in directions:\n",
    "        adiacents.append(moveTile(s,d))\n",
    "    return adiacents\n",
    "\n",
    "print(getAdiacents((0,0)))"
   ]
  },
  {
   "cell_type": "code",
   "execution_count": 117,
   "metadata": {},
   "outputs": [
    {
     "name": "stdout",
     "output_type": "stream",
     "text": [
      "Day 0 : 388\n",
      "Day 1 : 294\n",
      "Day 2 : 329\n",
      "Day 3 : 357\n",
      "Day 4 : 387\n",
      "Day 5 : 356\n",
      "Day 6 : 395\n",
      "Day 7 : 387\n",
      "Day 8 : 461\n",
      "Day 9 : 468\n",
      "Day 10 : 462\n",
      "Day 11 : 495\n",
      "Day 12 : 511\n",
      "Day 13 : 535\n",
      "Day 14 : 577\n",
      "Day 15 : 567\n",
      "Day 16 : 619\n",
      "Day 17 : 609\n",
      "Day 18 : 671\n",
      "Day 19 : 677\n",
      "Day 20 : 682\n",
      "Day 21 : 720\n",
      "Day 22 : 762\n",
      "Day 23 : 821\n",
      "Day 24 : 772\n",
      "Day 25 : 813\n",
      "Day 26 : 858\n",
      "Day 27 : 856\n",
      "Day 28 : 896\n",
      "Day 29 : 907\n",
      "Day 30 : 902\n",
      "Day 31 : 1033\n",
      "Day 32 : 1051\n",
      "Day 33 : 1061\n",
      "Day 34 : 1011\n",
      "Day 35 : 1085\n",
      "Day 36 : 1125\n",
      "Day 37 : 1225\n",
      "Day 38 : 1222\n",
      "Day 39 : 1259\n",
      "Day 40 : 1268\n",
      "Day 41 : 1321\n",
      "Day 42 : 1341\n",
      "Day 43 : 1341\n",
      "Day 44 : 1429\n",
      "Day 45 : 1417\n",
      "Day 46 : 1509\n",
      "Day 47 : 1519\n",
      "Day 48 : 1651\n",
      "Day 49 : 1588\n",
      "Day 50 : 1643\n",
      "Day 51 : 1585\n",
      "Day 52 : 1719\n",
      "Day 53 : 1804\n",
      "Day 54 : 1746\n",
      "Day 55 : 1842\n",
      "Day 56 : 1804\n",
      "Day 57 : 1949\n",
      "Day 58 : 1975\n",
      "Day 59 : 2000\n",
      "Day 60 : 2050\n",
      "Day 61 : 2070\n",
      "Day 62 : 2076\n",
      "Day 63 : 2179\n",
      "Day 64 : 2099\n",
      "Day 65 : 2302\n",
      "Day 66 : 2261\n",
      "Day 67 : 2320\n",
      "Day 68 : 2411\n",
      "Day 69 : 2540\n",
      "Day 70 : 2482\n",
      "Day 71 : 2520\n",
      "Day 72 : 2575\n",
      "Day 73 : 2662\n",
      "Day 74 : 2557\n",
      "Day 75 : 2736\n",
      "Day 76 : 2701\n",
      "Day 77 : 2863\n",
      "Day 78 : 2817\n",
      "Day 79 : 3025\n",
      "Day 80 : 2847\n",
      "Day 81 : 2901\n",
      "Day 82 : 3034\n",
      "Day 83 : 3089\n",
      "Day 84 : 3065\n",
      "Day 85 : 3173\n",
      "Day 86 : 3239\n",
      "Day 87 : 3302\n",
      "Day 88 : 3323\n",
      "Day 89 : 3373\n",
      "Day 90 : 3307\n",
      "Day 91 : 3532\n",
      "Day 92 : 3634\n",
      "Day 93 : 3567\n",
      "Day 94 : 3683\n",
      "Day 95 : 3722\n",
      "Day 96 : 3715\n",
      "Day 97 : 3809\n",
      "Day 98 : 3828\n",
      "Day 99 : 4041\n",
      "Day 100 : 4002\n"
     ]
    }
   ],
   "source": [
    "from copy import deepcopy\n",
    "\n",
    "grid = defaultdict(White)\n",
    "#grid = getGrid(\"data/day24test0.txt\",grid)\n",
    "grid = getGrid(\"data/input24.txt\",grid)\n",
    "\n",
    "d = 0\n",
    "black = 0\n",
    "for t in grid.keys():\n",
    "    if grid[t] == BLACK: black +=1\n",
    "            \n",
    "print(\"Day\",d,\":\",black)\n",
    "\n",
    "days = 100\n",
    "\n",
    "for d in range(1,days+1):\n",
    "\n",
    "    pocket = [] # black tiles + all adiacents\n",
    "    for t in grid.keys():\n",
    "        if grid[t] == BLACK:\n",
    "            # store black tile position\n",
    "            if t not in pocket:\n",
    "                pocket.append(t)\n",
    "            # store adiancents to black tiles \n",
    "            for a in getAdiacents(t):\n",
    "                if a not in pocket:\n",
    "                    pocket.append(a)\n",
    "    \n",
    "    grid_new = deepcopy(grid)\n",
    "    \n",
    "    for t in pocket:\n",
    "        count = 0\n",
    "        for a in getAdiacents(t):\n",
    "            count += grid[a]\n",
    "        if grid[t]==BLACK and ( count==0 or count>2 ):\n",
    "            grid_new[t]=WHITE\n",
    "        if grid[t]==WHITE and count==2:\n",
    "            grid_new[t]=BLACK          \n",
    "            \n",
    "    grid = grid_new\n",
    "    \n",
    "    black = 0\n",
    "    for t in grid.keys():\n",
    "        if grid[t] == BLACK: black +=1\n",
    "            \n",
    "    print(\"Day\",d,\":\",black)\n",
    "    "
   ]
  },
  {
   "cell_type": "code",
   "execution_count": null,
   "metadata": {},
   "outputs": [],
   "source": []
  }
 ],
 "metadata": {
  "kernelspec": {
   "display_name": "Python 3",
   "language": "python",
   "name": "python3"
  },
  "language_info": {
   "codemirror_mode": {
    "name": "ipython",
    "version": 3
   },
   "file_extension": ".py",
   "mimetype": "text/x-python",
   "name": "python",
   "nbconvert_exporter": "python",
   "pygments_lexer": "ipython3",
   "version": "3.9.0"
  }
 },
 "nbformat": 4,
 "nbformat_minor": 4
}
