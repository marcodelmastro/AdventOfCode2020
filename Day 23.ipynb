{
 "cells": [
  {
   "cell_type": "markdown",
   "metadata": {},
   "source": [
    "# Day 23\n",
    "\n",
    "https://adventofcode.com/2020/day/23\n",
    "\n",
    "## Part 1\n",
    "\n",
    "I'll begin with a try-and-error solution based on a `list` of `int` and slicing and rearranging, but I'm sure I'll regret it later..."
   ]
  },
  {
   "cell_type": "code",
   "execution_count": 139,
   "metadata": {},
   "outputs": [],
   "source": [
    "def roundCups(ic,_cups,verbose=True):\n",
    "    \n",
    "    cups = list(_cups)\n",
    "    ic = ic%len(cups)\n",
    "    cmin = min(cups)\n",
    "    cmax = max(cups)\n",
    "    if verbose: print(\"Cups:        \",cups)   \n",
    "    c = cups[ic]\n",
    "    if verbose: print(\"Current:      \",c)\n",
    "    \n",
    "    # rearrage cups so that current is first\n",
    "    cups = cups[ic:]+cups[:ic]\n",
    "    \n",
    "    # pick cups\n",
    "    picks = cups[1:4]\n",
    "    if verbose: print(\"Picks:       \",picks)\n",
    "\n",
    "    # find destination\n",
    "    target = c-1\n",
    "    if target < cmin:\n",
    "        target = cmax\n",
    "    while True:\n",
    "        jc = cups.index(target)\n",
    "        if cups[jc] in picks:\n",
    "            target -= 1\n",
    "            if target < cmin:\n",
    "                target = cmax\n",
    "        else:\n",
    "            break\n",
    "    if verbose: print(\"Destination:  \",target)\n",
    "\n",
    "    # remove picks\n",
    "    cups = [cups[0]]+cups[4:]\n",
    "    \n",
    "    # index of target after removing picks\n",
    "    jt = cups.index(target)\n",
    "    \n",
    "    # insert picks back\n",
    "    cups = cups[:jt+1]+picks+cups[jt+1:]\n",
    "    \n",
    "    # rearrage cups as a circular ring\n",
    "    newcups = []\n",
    "    j = len(cups)-ic\n",
    "    while len(newcups)<len(cups):\n",
    "        j = j%len(cups)\n",
    "        newcups.append(cups[j])\n",
    "        j += 1\n",
    "    return newcups, (ic+1)%len(newcups)"
   ]
  },
  {
   "cell_type": "code",
   "execution_count": 140,
   "metadata": {},
   "outputs": [
    {
     "name": "stdout",
     "output_type": "stream",
     "text": [
      "== 1 ==\n",
      "Cups:         [3, 8, 9, 1, 2, 5, 4, 6, 7]\n",
      "Current:       3\n",
      "Picks:        [8, 9, 1]\n",
      "Destination:   2\n",
      "== 2 ==\n",
      "Cups:         [3, 2, 8, 9, 1, 5, 4, 6, 7]\n",
      "Current:       2\n",
      "Picks:        [8, 9, 1]\n",
      "Destination:   7\n",
      "== 3 ==\n",
      "Cups:         [3, 2, 5, 4, 6, 7, 8, 9, 1]\n",
      "Current:       5\n",
      "Picks:        [4, 6, 7]\n",
      "Destination:   3\n",
      "== 4 ==\n",
      "Cups:         [7, 2, 5, 8, 9, 1, 3, 4, 6]\n",
      "Current:       8\n",
      "Picks:        [9, 1, 3]\n",
      "Destination:   7\n",
      "== 5 ==\n",
      "Cups:         [3, 2, 5, 8, 4, 6, 7, 9, 1]\n",
      "Current:       4\n",
      "Picks:        [6, 7, 9]\n",
      "Destination:   3\n",
      "== 6 ==\n",
      "Cups:         [9, 2, 5, 8, 4, 1, 3, 6, 7]\n",
      "Current:       1\n",
      "Picks:        [3, 6, 7]\n",
      "Destination:   9\n",
      "== 7 ==\n",
      "Cups:         [7, 2, 5, 8, 4, 1, 9, 3, 6]\n",
      "Current:       9\n",
      "Picks:        [3, 6, 7]\n",
      "Destination:   8\n",
      "== 8 ==\n",
      "Cups:         [8, 3, 6, 7, 4, 1, 9, 2, 5]\n",
      "Current:       2\n",
      "Picks:        [5, 8, 3]\n",
      "Destination:   1\n",
      "== 9 ==\n",
      "Cups:         [7, 4, 1, 5, 8, 3, 9, 2, 6]\n",
      "Current:       6\n",
      "Picks:        [7, 4, 1]\n",
      "Destination:   5\n",
      "== 10 ==\n",
      "Cups:         [5, 7, 4, 1, 8, 3, 9, 2, 6]\n",
      "Current:       5\n",
      "Picks:        [7, 4, 1]\n",
      "Destination:   3\n",
      "== final ==\n",
      "Cups:         [5, 8, 3, 7, 4, 1, 9, 2, 6]\n",
      "Current cup:  8\n"
     ]
    }
   ],
   "source": [
    "cuplist = \"389125467\"\n",
    "cups = [int(c) for c in cuplist]\n",
    "\n",
    "for ic in range(10):\n",
    "    print('==',ic+1,'==')\n",
    "    newcups, current = roundCups(ic,cups)\n",
    "    cups = newcups\n",
    "\n",
    "print(\"== final ==\")\n",
    "print(\"Cups:        \",cups)\n",
    "print(\"Current cup: \",cups[current])"
   ]
  },
  {
   "cell_type": "code",
   "execution_count": 142,
   "metadata": {},
   "outputs": [
    {
     "name": "stdout",
     "output_type": "stream",
     "text": [
      "== final ==\n",
      "Cups:         [4, 7, 9, 1, 2, 5, 3, 6, 8]\n",
      "Current cup:  7\n",
      "Labels: 25368479\n"
     ]
    }
   ],
   "source": [
    "#cuplist = \"389125467\" # example\n",
    "cuplist = \"326519478\" # input\n",
    "\n",
    "cups = [int(c) for c in cuplist]\n",
    "\n",
    "for ic in range(100):\n",
    "    newcups, current = roundCups(ic,cups,verbose=False)\n",
    "    cups = newcups\n",
    "\n",
    "print(\"== final ==\")\n",
    "print(\"Cups:        \",cups)\n",
    "print(\"Current cup: \",cups[current])\n",
    "\n",
    "i1 = cups.index(1)\n",
    "l = cups[i1+1:]+cups[:i1]\n",
    "labels = \"\".join([ str(c) for c in l ])\n",
    "print(\"Labels:\",labels)"
   ]
  },
  {
   "cell_type": "markdown",
   "metadata": {},
   "source": [
    "## Part 2"
   ]
  },
  {
   "cell_type": "markdown",
   "metadata": {},
   "source": [
    "My implementation for Part 1 is very inefficient (too much copying and moving around), it cannot work for Part 2 given the problem size. Let's see whether I can improve it..."
   ]
  },
  {
   "cell_type": "code",
   "execution_count": 171,
   "metadata": {},
   "outputs": [
    {
     "name": "stdout",
     "output_type": "stream",
     "text": [
      "0\n",
      "Labels: 25368479\n"
     ]
    }
   ],
   "source": [
    "def moveCups(cups,rounds):\n",
    "    \n",
    "    cmin = min(cups)\n",
    "    cmax = max(cups)\n",
    "    \n",
    "    for ir in range(rounds):\n",
    "\n",
    "        if ir%100==0:\n",
    "            print(ir)\n",
    "        \n",
    "        # always assume current cup is first in list, rearrage only at end of rounds\n",
    "        ic = ir%len(cups)\n",
    "        picks = cups[1:4]\n",
    "        target = cups[0]-1\n",
    "        if target < cmin:\n",
    "            target = cmax\n",
    "        while True:\n",
    "            jc = cups.index(target)\n",
    "            if cups[jc] in picks:\n",
    "                target -= 1\n",
    "                if target < cmin:\n",
    "                    target = cmax\n",
    "            else:\n",
    "                break\n",
    "        cups = [cups[0]]+cups[4:] # remove picks\n",
    "        jt = cups.index(target)   # index of target after removing picks\n",
    "        cups = cups[:jt+1]+picks+cups[jt+1:] # insert picks back    \n",
    "        # move first cup to the end so that next current is first for next round\n",
    "        cups = cups[1:]+[cups[0]]\n",
    "\n",
    "    shift = rounds%len(cups)\n",
    "    cups = cups[-shift:]+cups[:-shift]\n",
    "    return cups\n",
    "\n",
    "#cuplist = \"389125467\" # example\n",
    "cuplist = \"326519478\" # input\n",
    "\n",
    "cups = [int(c) for c in cuplist]\n",
    "\n",
    "cups = moveCups(cups,100)\n",
    "\n",
    "i1 = cups.index(1)\n",
    "l = cups[i1+1:]+cups[:i1]\n",
    "labels = \"\".join([ str(c) for c in l ])\n",
    "print(\"Labels:\",labels)"
   ]
  },
  {
   "cell_type": "code",
   "execution_count": 193,
   "metadata": {},
   "outputs": [],
   "source": [
    "cuplist = \"389125467\" # example\n",
    "#cuplist = \"326519478\" # input\n",
    "\n",
    "cups = [int(c) for c in cuplist]\n",
    "morecups = cups + list(range(len(cups) + 1, 1000000 + 1))\n",
    "\n",
    "#morecups = moveCups(morecups,10000000)"
   ]
  },
  {
   "cell_type": "markdown",
   "metadata": {},
   "source": [
    "The above implementation is still too inefficient to deal with 10M iterations on a 1M-long cup list...\n",
    "\n",
    "A `list` is probably not the right data structure for this problem, and slicing and recomposing is certainly not efficient enough. \n",
    "\n",
    "Moreover, maybe I don't need to move around the whole list? On the larger case of Part 2, only a tiny fraction of the numbers are moved around!\n",
    "\n",
    "If I save the status of the number ring as a **dictionary of the number following a given number**, at each round **I will only need to update 3 numbers**!\n",
    "\n",
    "Example, first round:\n",
    "\n",
    "`N:   3 8 9 1 2 5 4 6 7` \n",
    "\n",
    "`N+1: 8 9 1 2 5 4 6 7 3` (`N+1` here means the number following `N`)\n",
    "\n",
    "The current number is 3, the picks are (8,9,1), the destination is 2. After all shifting I get:\n",
    "\n",
    "`N:   3 2 8 9 1 5 4 6 7` \n",
    "\n",
    "`N+1: 2 9 1 5 8 4 6 7 3`\n",
    "\n",
    "In the \"following numbers\" line (`N+1`) only 3 values have changed:\n",
    "\n",
    "* The `N+1` of the CURRENT number (3) has become the previous `N+1` of the LAST OF THE PICKS\n",
    "* The `N+1` of the DESTINATION number (2) has become the `N+1` of CURRENT (e.g. FIRST OF PICKS)\n",
    "* the `N+1` of the LAST OF THE PICKS (1) has become the previous `N+1` of the DESTINATION\n",
    "\n",
    "Every other entry of the dictionary would not have changed! This should indeed be more efficient!"
   ]
  },
  {
   "cell_type": "code",
   "execution_count": 199,
   "metadata": {},
   "outputs": [
    {
     "data": {
      "text/plain": [
       "{3: 8, 8: 9, 9: 1, 1: 2, 2: 5, 5: 4, 4: 6, 6: 7, 7: 3}"
      ]
     },
     "execution_count": 199,
     "metadata": {},
     "output_type": "execute_result"
    }
   ],
   "source": [
    "cnext = {c1: c2 for c1, c2 in zip(cups, cups[1:]+[cups[0]])}\n",
    "cnext"
   ]
  },
  {
   "cell_type": "code",
   "execution_count": 260,
   "metadata": {},
   "outputs": [],
   "source": [
    "def moveCupsDict(cups, rounds):\n",
    "\n",
    "    # dictionary of cups following each cup\n",
    "    cnext = {c1: c2 for c1, c2 in zip(cups, cups[1:]+[cups[0]])}\n",
    "    \n",
    "    # current cup, begin with the initial in list\n",
    "    curr = cups[0]\n",
    "    cmin = min(cups)\n",
    "    cmax = max(cups)\n",
    "    \n",
    "    for i in range(rounds):\n",
    "        \n",
    "        if i%1000000==0: print(i,\"rounds...\")\n",
    "        \n",
    "        # get picks from cnext dictionary\n",
    "        c = curr\n",
    "        picks = []\n",
    "        for i in range(3):\n",
    "            picks.append(cnext[c])\n",
    "            c = cnext[c]\n",
    "        #print(picks)\n",
    "        \n",
    "        # The search for the destination in my previous implementation was also VERY inefficient,\n",
    "        # but I was using the list index() method without really needing to do so!\n",
    "        # New one below is wat faster!\n",
    "        target = curr-1\n",
    "        if target < cmin:\n",
    "            target = cmax\n",
    "        while True:\n",
    "            if target in picks:\n",
    "                target -= 1\n",
    "                if target < cmin:\n",
    "                    target = cmax\n",
    "            else:\n",
    "                break             \n",
    "        #print(target)\n",
    "        \n",
    "        # now I need to update the cnext dictionary according the above rules\n",
    "        # all three values needs to be updated at once not to mix states!\n",
    "        cnext[curr], cnext[target], cnext[picks[-1]] = cnext[picks[-1]], cnext[curr], cnext[target]\n",
    "        #cnext[curr], cnext[target], cnext[picks[-1]] = cnext[picks[-1]], picks[0], cnext[target]\n",
    "        \n",
    "        # define new current cups, as next in ring of last current cup\n",
    "        curr = cnext[curr]\n",
    "\n",
    "    print(rounds,\"rounds...\")\n",
    "    # after all rounds, return ring status starting from cups labeled 1\n",
    "    c = 1\n",
    "    return [c := cnext[c] for _ in cups]"
   ]
  },
  {
   "cell_type": "code",
   "execution_count": 261,
   "metadata": {},
   "outputs": [
    {
     "name": "stdout",
     "output_type": "stream",
     "text": [
      "0 rounds...\n",
      "100 rounds...\n"
     ]
    },
    {
     "data": {
      "text/plain": [
       "[2, 5, 3, 6, 8, 4, 7, 9, 1]"
      ]
     },
     "execution_count": 261,
     "metadata": {},
     "output_type": "execute_result"
    }
   ],
   "source": [
    "# Test new implementation on Part 1\n",
    "\n",
    "#cuplist = \"389125467\" # example\n",
    "cuplist = \"326519478\" # input\n",
    "\n",
    "cups = [int(c) for c in cuplist]\n",
    "\n",
    "cups_part1 = moveCupsDict(cups, 100)\n",
    "cups_part1"
   ]
  },
  {
   "cell_type": "code",
   "execution_count": 263,
   "metadata": {},
   "outputs": [
    {
     "name": "stdout",
     "output_type": "stream",
     "text": [
      "0 rounds...\n",
      "1000000 rounds...\n",
      "2000000 rounds...\n",
      "3000000 rounds...\n",
      "4000000 rounds...\n",
      "5000000 rounds...\n",
      "6000000 rounds...\n",
      "7000000 rounds...\n",
      "8000000 rounds...\n",
      "9000000 rounds...\n",
      "10000000 rounds...\n",
      "Solution Part 2: 44541319250\n",
      "Time elapsed = 13 s\n"
     ]
    }
   ],
   "source": [
    "# Part 2 solution\n",
    "\n",
    "#cuplist = \"389125467\" # example\n",
    "cuplist = \"326519478\" # input\n",
    "\n",
    "cups = [int(c) for c in cuplist]\n",
    "\n",
    "# enlarge list of cups...\n",
    "morecups = cups + list(range(len(cups) + 1, 1000000 + 1))\n",
    "\n",
    "from timeit import default_timer as timer\n",
    "start = timer()\n",
    "\n",
    "cups_part2 = moveCupsDict(morecups, 10000000)\n",
    "\n",
    "print(\"Solution Part 2:\",cups_part2[0] * cups_part2[1])\n",
    "\n",
    "stop = timer() \n",
    "print(\"Time elapsed =\", int(stop - start), \"s\")"
   ]
  },
  {
   "cell_type": "code",
   "execution_count": null,
   "metadata": {},
   "outputs": [],
   "source": []
  }
 ],
 "metadata": {
  "kernelspec": {
   "display_name": "Python 3",
   "language": "python",
   "name": "python3"
  },
  "language_info": {
   "codemirror_mode": {
    "name": "ipython",
    "version": 3
   },
   "file_extension": ".py",
   "mimetype": "text/x-python",
   "name": "python",
   "nbconvert_exporter": "python",
   "pygments_lexer": "ipython3",
   "version": "3.9.0"
  }
 },
 "nbformat": 4,
 "nbformat_minor": 4
}
