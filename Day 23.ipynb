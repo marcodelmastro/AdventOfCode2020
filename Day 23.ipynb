{
 "cells": [
  {
   "cell_type": "markdown",
   "metadata": {},
   "source": [
    "# Day 23\n",
    "\n",
    "https://adventofcode.com/2020/day/23\n",
    "\n",
    "## Part 1"
   ]
  },
  {
   "cell_type": "code",
   "execution_count": 139,
   "metadata": {},
   "outputs": [],
   "source": [
    "def roundCups(ic,_cups,verbose=True):\n",
    "    \n",
    "    cups = list(_cups)\n",
    "    ic = ic%len(cups)\n",
    "    cmin = min(cups)\n",
    "    cmax = max(cups)\n",
    "    if verbose: print(\"Cups:        \",cups)   \n",
    "    c = cups[ic]\n",
    "    if verbose: print(\"Current:      \",c)\n",
    "    \n",
    "    # rearrage cups so that current is first\n",
    "    cups = cups[ic:]+cups[:ic]\n",
    "    \n",
    "    # pick cups\n",
    "    picks = cups[1:4]\n",
    "    if verbose: print(\"Picks:       \",picks)\n",
    "\n",
    "    # find destination\n",
    "    target = c-1\n",
    "    if target < cmin:\n",
    "        target = cmax\n",
    "    while True:\n",
    "        jc = cups.index(target)\n",
    "        if cups[jc] in picks:\n",
    "            target -= 1\n",
    "            if target < cmin:\n",
    "                target = cmax\n",
    "        else:\n",
    "            break\n",
    "    if verbose: print(\"Destination:  \",target)\n",
    "\n",
    "    # remove picks\n",
    "    cups = [cups[0]]+cups[4:]\n",
    "    \n",
    "    # index of target after removing picks\n",
    "    jt = cups.index(target)\n",
    "    \n",
    "    # insert picks back\n",
    "    cups = cups[:jt+1]+picks+cups[jt+1:]\n",
    "    \n",
    "    # rearrage cups as a circular ring\n",
    "    newcups = []\n",
    "    j = len(cups)-ic\n",
    "    while len(newcups)<len(cups):\n",
    "        j = j%len(cups)\n",
    "        newcups.append(cups[j])\n",
    "        j += 1\n",
    "    return newcups, (ic+1)%len(newcups)"
   ]
  },
  {
   "cell_type": "code",
   "execution_count": 140,
   "metadata": {},
   "outputs": [
    {
     "name": "stdout",
     "output_type": "stream",
     "text": [
      "== 1 ==\n",
      "Cups:         [3, 8, 9, 1, 2, 5, 4, 6, 7]\n",
      "Current:       3\n",
      "Picks:        [8, 9, 1]\n",
      "Destination:   2\n",
      "== 2 ==\n",
      "Cups:         [3, 2, 8, 9, 1, 5, 4, 6, 7]\n",
      "Current:       2\n",
      "Picks:        [8, 9, 1]\n",
      "Destination:   7\n",
      "== 3 ==\n",
      "Cups:         [3, 2, 5, 4, 6, 7, 8, 9, 1]\n",
      "Current:       5\n",
      "Picks:        [4, 6, 7]\n",
      "Destination:   3\n",
      "== 4 ==\n",
      "Cups:         [7, 2, 5, 8, 9, 1, 3, 4, 6]\n",
      "Current:       8\n",
      "Picks:        [9, 1, 3]\n",
      "Destination:   7\n",
      "== 5 ==\n",
      "Cups:         [3, 2, 5, 8, 4, 6, 7, 9, 1]\n",
      "Current:       4\n",
      "Picks:        [6, 7, 9]\n",
      "Destination:   3\n",
      "== 6 ==\n",
      "Cups:         [9, 2, 5, 8, 4, 1, 3, 6, 7]\n",
      "Current:       1\n",
      "Picks:        [3, 6, 7]\n",
      "Destination:   9\n",
      "== 7 ==\n",
      "Cups:         [7, 2, 5, 8, 4, 1, 9, 3, 6]\n",
      "Current:       9\n",
      "Picks:        [3, 6, 7]\n",
      "Destination:   8\n",
      "== 8 ==\n",
      "Cups:         [8, 3, 6, 7, 4, 1, 9, 2, 5]\n",
      "Current:       2\n",
      "Picks:        [5, 8, 3]\n",
      "Destination:   1\n",
      "== 9 ==\n",
      "Cups:         [7, 4, 1, 5, 8, 3, 9, 2, 6]\n",
      "Current:       6\n",
      "Picks:        [7, 4, 1]\n",
      "Destination:   5\n",
      "== 10 ==\n",
      "Cups:         [5, 7, 4, 1, 8, 3, 9, 2, 6]\n",
      "Current:       5\n",
      "Picks:        [7, 4, 1]\n",
      "Destination:   3\n",
      "== final ==\n",
      "Cups:         [5, 8, 3, 7, 4, 1, 9, 2, 6]\n",
      "Current cup:  8\n"
     ]
    }
   ],
   "source": [
    "cuplist = \"389125467\"\n",
    "cups = [int(c) for c in cuplist]\n",
    "\n",
    "for ic in range(10):\n",
    "    print('==',ic+1,'==')\n",
    "    newcups, current = roundCups(ic,cups)\n",
    "    cups = newcups\n",
    "\n",
    "print(\"== final ==\")\n",
    "print(\"Cups:        \",cups)\n",
    "print(\"Current cup: \",cups[current])"
   ]
  },
  {
   "cell_type": "code",
   "execution_count": 142,
   "metadata": {},
   "outputs": [
    {
     "name": "stdout",
     "output_type": "stream",
     "text": [
      "== final ==\n",
      "Cups:         [4, 7, 9, 1, 2, 5, 3, 6, 8]\n",
      "Current cup:  7\n",
      "Labels: 25368479\n"
     ]
    }
   ],
   "source": [
    "#cuplist = \"389125467\" # example\n",
    "cuplist = \"326519478\" # input\n",
    "\n",
    "cups = [int(c) for c in cuplist]\n",
    "\n",
    "for ic in range(100):\n",
    "    newcups, current = roundCups(ic,cups,verbose=False)\n",
    "    cups = newcups\n",
    "\n",
    "print(\"== final ==\")\n",
    "print(\"Cups:        \",cups)\n",
    "print(\"Current cup: \",cups[current])\n",
    "\n",
    "i1 = cups.index(1)\n",
    "l = cups[i1+1:]+cups[:i1]\n",
    "labels = \"\".join([ str(c) for c in l ])\n",
    "print(\"Labels:\",labels)"
   ]
  },
  {
   "cell_type": "code",
   "execution_count": null,
   "metadata": {},
   "outputs": [],
   "source": []
  }
 ],
 "metadata": {
  "kernelspec": {
   "display_name": "Python 3",
   "language": "python",
   "name": "python3"
  },
  "language_info": {
   "codemirror_mode": {
    "name": "ipython",
    "version": 3
   },
   "file_extension": ".py",
   "mimetype": "text/x-python",
   "name": "python",
   "nbconvert_exporter": "python",
   "pygments_lexer": "ipython3",
   "version": "3.9.0"
  }
 },
 "nbformat": 4,
 "nbformat_minor": 4
}
