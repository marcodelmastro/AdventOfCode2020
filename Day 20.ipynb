{
 "cells": [
  {
   "cell_type": "markdown",
   "metadata": {},
   "source": [
    "# Day 20\n",
    "\n",
    "https://adventofcode.com/2020/day/20"
   ]
  },
  {
   "cell_type": "code",
   "execution_count": 523,
   "metadata": {},
   "outputs": [],
   "source": [
    "import numpy as np\n",
    "\n",
    "def getTiles(filename):\n",
    "    with open(filename) as f:\n",
    "        #blocks = [ b.split(\":\\n\") for b in f.read().split(\"\\n\\n\") ] # there's final \\n to be removed from last tile\n",
    "        blocks = [ b.split(\":\\n\") if b[-1]!=\"\\n\" else b[0:-1].split(\":\\n\") for b in f.read().split(\"\\n\\n\") ]\n",
    "    tiles_string = []\n",
    "    for b in blocks:\n",
    "        tn = int(b[0].replace(\"Tile \",\"\"))\n",
    "        tile = b[1].split(\"\\n\")\n",
    "        tiles_string.append((tn,tile))\n",
    "    tilesdic = {}\n",
    "    tiles = []\n",
    "    for (n,t) in tiles_string:\n",
    "        tile = np.array( [[1 if c==\"#\" else 0 for c in r ] for r in t], ndmin=2) \n",
    "        tiles.append((n,tile))\n",
    "        tilesdic[n] = tile\n",
    "    return tiles, tilesdic"
   ]
  },
  {
   "cell_type": "code",
   "execution_count": 524,
   "metadata": {},
   "outputs": [],
   "source": [
    "#tiles = getTiles(\"data/day20test0.txt\")\n",
    "tiles, tilesdic = getTiles(\"data/input20.txt\") # remove last newline from input"
   ]
  },
  {
   "cell_type": "code",
   "execution_count": 525,
   "metadata": {},
   "outputs": [
    {
     "data": {
      "image/png": "[encoded data removed]",
      "text/plain": [
       "<Figure size 288x288 with 1 Axes>"
      ]
     },
     "metadata": {
      "needs_background": "light"
     },
     "output_type": "display_data"
    }
   ],
   "source": [
    "import matplotlib\n",
    "import matplotlib.pyplot as plt\n",
    "\n",
    "n,t = tiles[0]\n",
    "plt.matshow(t,cmap=\"binary\")\n",
    "plt.show()"
   ]
  },
  {
   "cell_type": "markdown",
   "metadata": {},
   "source": [
    "## Part 1\n",
    "\n",
    "> To check that you've assembled the image correctly, multiply the IDs of the four corner tiles together.\n",
    "\n",
    "In order to do this I don't really need to solve the puzzle (yet!), just to find the 4 corners. Corners will only have 2 borders in common with other 2 pieces.\n",
    "\n",
    "**Careful!** Since the pieces can be rotated, I should not only check for direct correpondence, but also flipping one side!"
   ]
  },
  {
   "cell_type": "code",
   "execution_count": 526,
   "metadata": {},
   "outputs": [
    {
     "name": "stdout",
     "output_type": "stream",
     "text": [
      "Solution Part 1 = 29125888761511\n"
     ]
    }
   ],
   "source": [
    "def getAdiacentSimple(tiles):\n",
    "\n",
    "    tborders = []\n",
    "    for n,t in tiles:\n",
    "        tborders.append((n,[t[0],t[:,9],t[9],t[:,0]]))\n",
    "    sameb = {}\n",
    "\n",
    "    for n0,tb0 in tborders:\n",
    "        sameb[n0] = []\n",
    "        for b0 in tb0:\n",
    "            for n,tb in tborders:\n",
    "                if n==n0: # same piece, skip\n",
    "                    continue\n",
    "                for b in tb:\n",
    "                    if (b==b0).all() or (b==b0[::-1]).all(): # check both orientations!\n",
    "                        sameb[n0].append(n)\n",
    "                        #print(n0,b0,n,b)\n",
    "    return sameb, tborders\n",
    "\n",
    "sameb, tborders = getAdiacentSimple(tiles)\n",
    "\n",
    "sol1 = 1\n",
    "for n in sameb.keys():\n",
    "    #print(n,len(sameb[n]))\n",
    "    if len(sameb[n])==2:\n",
    "        sol1 *= n\n",
    "print(\"Solution Part 1 =\", sol1)"
   ]
  },
  {
   "cell_type": "markdown",
   "metadata": {},
   "source": [
    "## Part 2\n",
    "\n",
    "> Assemble the tiles into an image. \n",
    "\n",
    "So ultimately we should indeed solve the puzzle before proceeding to solve the second part. And of course:\n",
    "\n",
    "> each image tile has been rotated and flipped to a random orientation.\n",
    "\n",
    "I could start from the `sameb` dictionary to solve the piece relative placement ignoring orientation (up to a flip on the puzzle diagonal), and I could maybe solve the orientation a second step, but after several attempt I cannot write I decent alogorithm to do it, so I'll probably write something more complex including border matching and rotation, so I can proceed by placing one piece after the other following the rows. I can probably still use the `sameb` dictionary to reduce the number of pieces to try at each step, but I'm sure it's worth the effort"
   ]
  },
  {
   "cell_type": "code",
   "execution_count": 527,
   "metadata": {},
   "outputs": [],
   "source": [
    "from copy import deepcopy\n",
    "\n",
    "class Tile():\n",
    "    \"\"\"Puzzle tile\"\"\"\n",
    "\n",
    "    def __init__(self, n, tile, debug=False):\n",
    "        self.n = n\n",
    "        self.tile = deepcopy(tile)\n",
    "        self.recolorBorders()\n",
    "        self.pos = (-1,-1)\n",
    "        self.matched = False\n",
    "        \n",
    "    def getBorders(self):\n",
    "        '''Returns list of borders (order: top, right, bottom, left) '''\n",
    "        return [self.tile[0],   # TOP\n",
    "                self.tile[:,9], # RIGHT\n",
    "                self.tile[9],   # BOTTOM\n",
    "                self.tile[:,0]  # LEFT\n",
    "               ]\n",
    "\n",
    "    def recolorBorders(self):\n",
    "        for c in range(10):\n",
    "            for r in range(10):\n",
    "                if r==0 or r==9 or c==0 or c==9:\n",
    "                    if self.tile[c][r]==1: \n",
    "                        self.tile[c][r]=2\n",
    "    \n",
    "    def rotate(self,s=1):\n",
    "        '''Rotate tile CCW'''\n",
    "        self.tile = np.rot90(self.tile,s)\n",
    "\n",
    "    def flipLR(self):\n",
    "        '''Flip tile Left-Right'''\n",
    "        self.tile = np.fliplr(self.tile)\n",
    "        \n",
    "    def flipUD(self):\n",
    "        '''Flip tile Up-Down'''\n",
    "        self.flipud()\n",
    "    \n",
    "    def flip(self):\n",
    "        '''Flip tile'''\n",
    "        self.flip()"
   ]
  },
  {
   "cell_type": "code",
   "execution_count": 543,
   "metadata": {},
   "outputs": [],
   "source": [
    "from copy import deepcopy\n",
    "\n",
    "def solvePuzzle(tiles):\n",
    "\n",
    "    # Compute puzzle size (number of tiles per size), prepare grid to save piece numbers and pieces when solving\n",
    "    side = int(len(tiles)**0.5)\n",
    "    puzzle = np.zeros((side,side),dtype=int)\n",
    "    puzzleall = np.zeros((side*10,side*10),dtype=int)\n",
    "\n",
    "    # Fill dictionary of Tile() objects\n",
    "    piece = {}\n",
    "    for n,t in tiles:\n",
    "        piece[n] = Tile(n,t)\n",
    "\n",
    "    # Separate pieces in Angles, Borders and Centers\n",
    "    sameb, tborders = getAdiacentSimple(tiles)\n",
    "    tiles_family = [[],[],[]] # angles, borders, centers\n",
    "\n",
    "    for p in sameb.keys():\n",
    "        b = len(sameb[p])\n",
    "        if b==2:\n",
    "            tiles_family[0].append(p)\n",
    "        elif b==3:\n",
    "            tiles_family[1].append(p)\n",
    "        elif b==4:\n",
    "            tiles_family[2].append(p)\n",
    "\n",
    "    # Begin with one angle tile, find what are the common borders with its neighbouring tiles, \n",
    "    # orient it such that it is on the top left corner, with the common borders facing RIGHT and DOWN\n",
    "\n",
    "    bnames = [\"TOP\",\"RIGHT\", \"BOTTOM\", \"LEFT\"]\n",
    "\n",
    "    p0 = tiles_family[0][0]\n",
    "    print(\"Starting angle\",p0,\"neighbouring with tiles\",sameb[p0])\n",
    "\n",
    "    b0 = piece[p0].getBorders()\n",
    "\n",
    "    order = []\n",
    "    for p in sameb[p0]:\n",
    "        for b in piece[p].getBorders():\n",
    "            for i in range(4):\n",
    "                if (b0[i]==b).all() or (b0[i]==b[::-1]).all(): # check both orientations!\n",
    "                    print(\"Tile\",p,\"neighbourd with\",bnames[i],\"border of angle tile\",p0)\n",
    "                    order.append(i)\n",
    "                \n",
    "    if (order==[0,1]): \n",
    "        print(\"Initial angle should be rotated 90 deg CW i.e. 270 deg CCW...\",end=\" \")\n",
    "        piece[p0].rotate(3)\n",
    "        print(\"done.\")\n",
    "    elif (order==[1,2]):\n",
    "        print(\"No need to rotate initial angle!\")\n",
    "\n",
    "    puzzle[0][0] = p0\n",
    "    piece[p0].pos = (0,0)\n",
    "    piece[p0].match = True\n",
    "\n",
    "    print(\"Solving puzzle...\")\n",
    "\n",
    "    # Solve first line matching right-left borders from top left angle\n",
    "\n",
    "    current = p0 # top left angle\n",
    "\n",
    "    for c in range(1,side): \n",
    "        pos = (0,c)\n",
    "        bordertomatch = piece[current].getBorders()[1] # right border\n",
    "        skipnext = False\n",
    "\n",
    "        for t in sameb[current]:\n",
    "            for b in piece[t].getBorders():\n",
    "                if (bordertomatch==b).all() or (bordertomatch==b[::-1]).all():\n",
    "                    #print(\"Found matching piece, now orienting it...\", end=\" \")\n",
    "                    tile = deepcopy(piece[t].tile) # make a copy of the tile for further flipping\n",
    "                    oriented = False\n",
    "                \n",
    "                    for _ in range(4):\n",
    "                        if (bordertomatch==piece[t].getBorders()[3]).all():\n",
    "                            oriented = True\n",
    "                            break\n",
    "                        piece[t].rotate()\n",
    "                \n",
    "                    if not oriented:\n",
    "                        piece[t].tile = tile\n",
    "                        piece[t].flipLR()\n",
    "                        for _ in range(4):\n",
    "                            if (bordertomatch==piece[t].getBorders()[3]).all():\n",
    "                                oriented = True\n",
    "                                break\n",
    "                            piece[t].rotate()\n",
    "                \n",
    "                    if not oriented:\n",
    "                        piece[t].tile = tile\n",
    "                        piece[t].flipUD()\n",
    "                        for _ in range(4):\n",
    "                            if (bordertomatch==piece[t].getBorders()[3]).all():\n",
    "                                oriented = True\n",
    "                                break\n",
    "                            piece[t].rotate()        \n",
    "\n",
    "                    if not oriented:\n",
    "                        piece[t].tile = tile\n",
    "                        piece[t].flip()\n",
    "                        for _ in range(4):\n",
    "                            if (bordertomatch==piece[t].getBorders()[3]).all():\n",
    "                                oriented = True\n",
    "                                break\n",
    "                            piece[t].rotate() \n",
    "\n",
    "                    if oriented:\n",
    "                        #print(\"done.\")\n",
    "                        current = t\n",
    "                        piece[t].matched = True\n",
    "                        piece[t].pos = pos\n",
    "                        puzzle[0][c] = t\n",
    "                        skipnext = True\n",
    "                        break\n",
    "\n",
    "            if skipnext:\n",
    "                break\n",
    "\n",
    "    print(\"First line done!\")\n",
    "\n",
    "    # Solve rest of the puzzle by matching bottom-top borders for all other cells\n",
    "\n",
    "    for r in range(1,side): \n",
    "        for c in range(side):\n",
    "            pos = (r,c)\n",
    "            current = puzzle[r-1,c] # tile above\n",
    "            bordertomatch = piece[current].getBorders()[2] # bottom border \n",
    "            skipnext = False\n",
    "            for t in sameb[current]:\n",
    "                for b in piece[t].getBorders():\n",
    "                    if (bordertomatch==b).all() or (bordertomatch==b[::-1]).all():\n",
    "                        #print(\"Found matching piece, now orienting it...\", end=\" \")\n",
    "\n",
    "                        tile = deepcopy(piece[t].tile) # make a copy of the tile for further flipping\n",
    "                        oriented = False\n",
    "\n",
    "                        for _ in range(4):\n",
    "                            if (bordertomatch==piece[t].getBorders()[0]).all(): # top border!\n",
    "                                oriented = True\n",
    "                                break\n",
    "                            piece[t].rotate()\n",
    "\n",
    "                        if not oriented:\n",
    "                            piece[t].tile = tile\n",
    "                            piece[t].flipLR()\n",
    "                            for _ in range(4):\n",
    "                                if (bordertomatch==piece[t].getBorders()[0]).all():\n",
    "                                    oriented = True\n",
    "                                    break\n",
    "                                piece[t].rotate()\n",
    "\n",
    "                        if not oriented:\n",
    "                            piece[t].tile = tile\n",
    "                            piece[t].flipUD()\n",
    "                            for _ in range(4):\n",
    "                                if (bordertomatch==piece[t].getBorders()[0]).all():\n",
    "                                    oriented = True\n",
    "                                    break\n",
    "                                piece[t].rotate()\n",
    "\n",
    "                        if not oriented:\n",
    "                            piece[t].tile = tile\n",
    "                            piece[t].flip()\n",
    "                            for _ in range(4):\n",
    "                                if (bordertomatch==piece[t].getBorders()[0]).all():\n",
    "                                    oriented = True\n",
    "                                    break\n",
    "                                piece[t].rotate()\n",
    "\n",
    "                        if oriented:\n",
    "                            #print(\"done.\")\n",
    "                            current = t\n",
    "                            piece[t].matched = True\n",
    "                            piece[t].pos = pos\n",
    "                            puzzle[r][c] = t\n",
    "                            skipnext = True\n",
    "                            break\n",
    "                if skipnext:\n",
    "                    break\n",
    "\n",
    "    print(\"Puzzle solved!\")\n",
    "    \n",
    "    return side, puzzle, puzzleall, piece"
   ]
  },
  {
   "cell_type": "code",
   "execution_count": 578,
   "metadata": {},
   "outputs": [
    {
     "name": "stdout",
     "output_type": "stream",
     "text": [
      "Starting angle 2833 neighbouring with tiles [1907, 3761]\n",
      "Tile 1907 neighbourd with RIGHT border of angle tile 2833\n",
      "Tile 3761 neighbourd with BOTTOM border of angle tile 2833\n",
      "No need to rotate initial angle!\n",
      "Solving puzzle...\n",
      "First line done!\n",
      "Puzzle solved!\n"
     ]
    },
    {
     "data": {
      "image/png": "[encoded data removed]",
      "text/plain": [
       "<Figure size 864x864 with 1 Axes>"
      ]
     },
     "metadata": {
      "needs_background": "light"
     },
     "output_type": "display_data"
    }
   ],
   "source": [
    "# Get puzzle input using function from Part 1\n",
    "\n",
    "#tiles, _ = getTiles(\"data/day20test0.txt\")\n",
    "tiles, _ = getTiles(\"data/input20.txt\")\n",
    "\n",
    "# Solve puzzle\n",
    "\n",
    "side, puzzle, puzzleall, piece = solvePuzzle(tiles)\n",
    "\n",
    "# Draw puzzle to check solution\n",
    "\n",
    "for i in range(side):\n",
    "    for j in range(side):\n",
    "        puzzleall[ 10*j:10*(j+1), 10*i:10*(i+1)] = piece[puzzle[j][i]].tile\n",
    "\n",
    "plt.figure(figsize=(12,12))\n",
    "plt.imshow(puzzleall)\n",
    "plt.show()"
   ]
  },
  {
   "cell_type": "code",
   "execution_count": 579,
   "metadata": {},
   "outputs": [
    {
     "data": {
      "image/png": "[encoded data removed]",
      "text/plain": [
       "<Figure size 864x864 with 1 Axes>"
      ]
     },
     "metadata": {
      "needs_background": "light"
     },
     "output_type": "display_data"
    }
   ],
   "source": [
    "# Now removing borders and filling the \"sea\"\n",
    "\n",
    "sea = np.zeros((side*8,side*8),dtype=int)\n",
    "\n",
    "for p in piece.keys():\n",
    "    r,c = piece[p].pos\n",
    "    sea[8*r:8*(r+1),8*c:8*(c+1)] = piece[p].tile[1:9,1:9]\n",
    "\n",
    "plt.figure(figsize=(12,12))\n",
    "plt.imshow(sea,cmap=plt.cm.ocean)\n",
    "plt.show()"
   ]
  },
  {
   "cell_type": "code",
   "execution_count": 580,
   "metadata": {},
   "outputs": [
    {
     "data": {
      "image/png": "[encoded data removed]",
      "text/plain": [
       "<Figure size 864x864 with 1 Axes>"
      ]
     },
     "metadata": {
      "needs_background": "light"
     },
     "output_type": "display_data"
    }
   ],
   "source": [
    "# Plot example sea to check image reconstitution solution by eye :-)\n",
    "\n",
    "with open(\"data/day20test1.txt\") as f:\n",
    "    lines =  [l.strip(\"\\n\") for l in f.readlines()]\n",
    "seaexample = []\n",
    "for l in lines:\n",
    "    r = []\n",
    "    for c in l:\n",
    "        if c==\"#\":\n",
    "            r.append(1)\n",
    "        else:\n",
    "            r.append(0)\n",
    "    seaexample.append(r)\n",
    "\n",
    "plt.figure(figsize=(12,12))\n",
    "plt.imshow(seaexample,cmap=plt.cm.ocean)\n",
    "plt.show()"
   ]
  },
  {
   "cell_type": "code",
   "execution_count": 587,
   "metadata": {},
   "outputs": [
    {
     "data": {
      "image/png": "[encoded data removed]",
      "text/plain": [
       "<Figure size 576x576 with 1 Axes>"
      ]
     },
     "metadata": {
      "needs_background": "light"
     },
     "output_type": "display_data"
    },
    {
     "name": "stdout",
     "output_type": "stream",
     "text": [
      "(3, 20)\n",
      "15\n"
     ]
    }
   ],
   "source": [
    "seamonster_lines = [\n",
    "    \"                  # \",\n",
    "    \"#    ##    ##    ###\",\n",
    "    \" #  #  #  #  #  #   \"\n",
    "]\n",
    "\n",
    "seamonster = []\n",
    "for l in seamonster_lines:\n",
    "    seamonster.append([ 0 if p==\" \" else 1 for p in l])\n",
    "\n",
    "seamonster = np.array(seamonster)\n",
    "\n",
    "plt.figure(figsize=(8,8))\n",
    "f = plt.imshow(seamonster,cmap=plt.cm.ocean)\n",
    "f.axes.get_xaxis().set_visible(False)\n",
    "f.axes.get_yaxis().set_visible(False)\n",
    "plt.show()\n",
    "\n",
    "print(np.shape(seamonster))\n",
    "print(sum(sum(seamonster)))"
   ]
  },
  {
   "cell_type": "code",
   "execution_count": 582,
   "metadata": {},
   "outputs": [
    {
     "name": "stdout",
     "output_type": "stream",
     "text": [
      "Sea contains 15 monsters\n",
      "The habitat's water roughness is 2219\n"
     ]
    }
   ],
   "source": [
    "h,l = np.shape(seamonster)\n",
    "\n",
    "def isSeaMonster(searegion,seamonster):\n",
    "    _sum = 0\n",
    "    for rr,mm in zip(searegion,seamonster):\n",
    "        for r,m in zip(rr,mm):\n",
    "            _sum += r and m\n",
    "    if _sum == sum(sum(seamonster)):\n",
    "        return True\n",
    "    else:\n",
    "        return False\n",
    "\n",
    "def addMonster(sea,rr,cc,seamonster):\n",
    "    rm = 0\n",
    "    for r in range(rr,rr+h):\n",
    "        cm = 0\n",
    "        for c in range(cc,cc+l):\n",
    "            sea[r][c] += seamonster[rm][cm]\n",
    "            cm += 1\n",
    "        rm +=1\n",
    "\n",
    "sea_w_monsters = deepcopy(sea)\n",
    "\n",
    "_sea = deepcopy(sea)\n",
    "\n",
    "monstercount = 0\n",
    "\n",
    "for _ in range(4):\n",
    "    for r in range(0,len(sea[0])-h+1):\n",
    "        for c in range(0,len(sea)-l+1):\n",
    "            searegion = sea[r:r+h,c:c+l]\n",
    "            if isSeaMonster(searegion,seamonster):\n",
    "                monstercount+=1\n",
    "                addMonster(sea_w_monsters,r,c,seamonster)\n",
    "    sea = np.rot90(sea)\n",
    "    sea_w_monsters = np.rot90(sea_w_monsters)\n",
    "\n",
    "sea = deepcopy(_sea)\n",
    "sea = np.fliplr(sea)\n",
    "\n",
    "sea_w_monsters = np.fliplr(sea_w_monsters)\n",
    "\n",
    "for _ in range(4):\n",
    "    for r in range(0,len(sea[0])-h+1):\n",
    "        for c in range(0,len(sea)-l+1):\n",
    "            searegion = sea[r:r+h,c:c+l]\n",
    "            if isSeaMonster(searegion,seamonster):\n",
    "                monstercount+=1\n",
    "                addMonster(sea_w_monsters,r,c,seamonster)\n",
    "    sea = np.rot90(sea)\n",
    "    sea_w_monsters = np.rot90(sea_w_monsters)\n",
    "\n",
    "# The lines below testing more flipping configurations are redundant, if used I get 2x monsters\n",
    "\n",
    "#sea = deepcopy(_sea)\n",
    "#sea = np.flipud(sea)\n",
    "#for _ in range(4):\n",
    "#    for r in range(0,len(sea[0])-h+1):\n",
    "#        for c in range(0,len(sea)-l+1):\n",
    "#            searegion = sea[r:r+h,c:c+l]\n",
    "#            if isSeaMonster(searegion,seamonster):\n",
    "#                monstercount+=1\n",
    "#    sea = np.rot90(sea)\n",
    "\n",
    "#sea = deepcopy(_sea)\n",
    "#sea = np.flip(sea)\n",
    "\n",
    "#for _ in range(4):\n",
    "#    for r in range(0,len(sea[0])-h+1):\n",
    "#        for c in range(0,len(sea)-l+1):\n",
    "#            searegion = sea[r:r+h,c:c+l]\n",
    "#            if isSeaMonster(searegion,seamonster):\n",
    "#                monstercount+=1\n",
    "#    sea = np.rot90(sea)\n",
    "    \n",
    "#        plt.figure(figsize=(8,8))\n",
    "#        plt.imshow(searegion,cmap=plt.cm.ocean)\n",
    "#        plt.show()\n",
    "\n",
    "print(\"Sea contains\",monstercount,\"monsters\")\n",
    "print(\"The habitat's water roughness is\",sum(sum(sea))-monstercount*sum(sum(seamonster)))"
   ]
  },
  {
   "cell_type": "code",
   "execution_count": 586,
   "metadata": {},
   "outputs": [
    {
     "data": {
      "image/png": "[encoded data removed]",
      "text/plain": [
       "<Figure size 864x864 with 1 Axes>"
      ]
     },
     "metadata": {
      "needs_background": "light"
     },
     "output_type": "display_data"
    }
   ],
   "source": [
    "plt.figure(figsize=(12,12))\n",
    "f = plt.imshow(sea_w_monsters,cmap=plt.cm.ocean)\n",
    "f.axes.get_xaxis().set_visible(False)\n",
    "f.axes.get_yaxis().set_visible(False)\n",
    "plt.show()"
   ]
  },
  {
   "cell_type": "code",
   "execution_count": null,
   "metadata": {},
   "outputs": [],
   "source": []
  }
 ],
 "metadata": {
  "kernelspec": {
   "display_name": "Python 3",
   "language": "python",
   "name": "python3"
  },
  "language_info": {
   "codemirror_mode": {
    "name": "ipython",
    "version": 3
   },
   "file_extension": ".py",
   "mimetype": "text/x-python",
   "name": "python",
   "nbconvert_exporter": "python",
   "pygments_lexer": "ipython3",
   "version": "3.9.0"
  }
 },
 "nbformat": 4,
 "nbformat_minor": 4
}
