{
 "cells": [
  {
   "cell_type": "markdown",
   "metadata": {},
   "source": [
    "# Day 20\n",
    "\n",
    "https://adventofcode.com/2020/day/20"
   ]
  },
  {
   "cell_type": "code",
   "execution_count": 1,
   "metadata": {},
   "outputs": [],
   "source": [
    "import numpy as np\n",
    "\n",
    "def getTiles(filename):\n",
    "    with open(filename) as f:\n",
    "        #blocks = [ b.split(\":\\n\") for b in f.read().split(\"\\n\\n\") ] # there's final \\n to be removed from last tile\n",
    "        blocks = [ b.split(\":\\n\") if b[-1]!=\"\\n\" else b[0:-1].split(\":\\n\") for b in f.read().split(\"\\n\\n\") ]\n",
    "    tiles_string = []\n",
    "    for b in blocks:\n",
    "        tn = int(b[0].replace(\"Tile \",\"\"))\n",
    "        tile = b[1].split(\"\\n\")\n",
    "        tiles_string.append((tn,tile))\n",
    "    tilesdic = {}\n",
    "    tiles = []\n",
    "    for (n,t) in tiles_string:\n",
    "        tile = np.array( [[1 if c==\".\" else 0 for c in r ] for r in t], ndmin=2) \n",
    "        tiles.append((n,tile))\n",
    "        tilesdic[n] = tile\n",
    "    return tiles, tilesdic"
   ]
  },
  {
   "cell_type": "code",
   "execution_count": 2,
   "metadata": {},
   "outputs": [],
   "source": [
    "#tiles = getTiles(\"data/day20test0.txt\")\n",
    "tiles, tilesdic = getTiles(\"data/input20.txt\") # remove last newline from input"
   ]
  },
  {
   "cell_type": "code",
   "execution_count": 3,
   "metadata": {},
   "outputs": [
    {
     "data": {
      "image/png": "[encoded data removed]",
      "text/plain": [
       "<Figure size 288x288 with 1 Axes>"
      ]
     },
     "metadata": {
      "needs_background": "light"
     },
     "output_type": "display_data"
    }
   ],
   "source": [
    "import matplotlib\n",
    "import matplotlib.pyplot as plt\n",
    "\n",
    "n,t = tiles[0]\n",
    "plt.matshow(t,cmap=\"binary\")\n",
    "plt.show()"
   ]
  },
  {
   "cell_type": "markdown",
   "metadata": {},
   "source": [
    "## Part 1\n",
    "\n",
    "> To check that you've assembled the image correctly, multiply the IDs of the four corner tiles together.\n",
    "\n",
    "In order to do this I don't really need to solve the puzzle (yet!), just to find the 4 corners. Corners will only have 2 borders in common with other 2 pieces.\n",
    "\n",
    "**Careful!** Since the pieces can be rotated, I should not only check for direct correpondence, but also flipping one side!"
   ]
  },
  {
   "cell_type": "code",
   "execution_count": 4,
   "metadata": {},
   "outputs": [
    {
     "name": "stdout",
     "output_type": "stream",
     "text": [
      "Solution Part 1 = 29125888761511\n"
     ]
    }
   ],
   "source": [
    "def getAdiacentSimple(tiles):\n",
    "\n",
    "    tborders = []\n",
    "    for n,t in tiles:\n",
    "        tborders.append((n,[t[0],t[:,9],t[9],t[:,0]]))\n",
    "    sameb = {}\n",
    "\n",
    "    for n0,tb0 in tborders:\n",
    "        sameb[n0] = []\n",
    "        for b0 in tb0:\n",
    "            for n,tb in tborders:\n",
    "                if n==n0: # same piece, skip\n",
    "                    continue\n",
    "                for b in tb:\n",
    "                    if (b==b0).all() or (b==b0[::-1]).all(): # check both orientations!\n",
    "                        sameb[n0].append(n)\n",
    "                        #print(n0,b0,n,b)\n",
    "    return sameb, tborders\n",
    "\n",
    "sameb, tborders = getAdiacentSimple(tiles)\n",
    "\n",
    "sol1 = 1\n",
    "for n in sameb.keys():\n",
    "    #print(n,len(sameb[n]))\n",
    "    if len(sameb[n])==2:\n",
    "        sol1 *= n\n",
    "print(\"Solution Part 1 =\", sol1)"
   ]
  },
  {
   "cell_type": "markdown",
   "metadata": {},
   "source": [
    "## Part 2\n",
    "\n",
    "> Assemble the tiles into an image. \n",
    "\n",
    "So ultimately we should indeed solve the puzzle before proceeding to solve the second part. And of course:\n",
    "\n",
    "> each image tile has been rotated and flipped to a random orientation.\n",
    "\n",
    "I could start from the `sameb` dictionary to solve the piece relative placement ignoring orientation (up to a flip on the puzzle diagonal), and I could maybe solve the orientation a second step, but after several attempt I cannot write I decent alogorithm to do it, so I'll probably write something more complex including border matching and rotation, so I can proceed by placing one piece after the other following the rows. I can probably still use the `sameb` dictionary to reduce the number of pieces to try at each step, but I'm sure it's worth the effort"
   ]
  },
  {
   "cell_type": "code",
   "execution_count": 105,
   "metadata": {},
   "outputs": [
    {
     "name": "stdout",
     "output_type": "stream",
     "text": [
      "3\n"
     ]
    }
   ],
   "source": [
    "tiles, tiles_dic = getTiles(\"data/day20test0.txt\")\n",
    "#tiles, tilesdic = getTiles(\"data/input20.txt\")\n",
    "\n",
    "side = int(len(tiles)**0.5)\n",
    "print(side)\n",
    "\n",
    "#puzzle = np.zeros((side,side),dtype=int)"
   ]
  },
  {
   "cell_type": "code",
   "execution_count": 100,
   "metadata": {},
   "outputs": [],
   "source": [
    "# Separate pieces in Angles, Borders and Centers\n",
    "\n",
    "sameb, tborders = getAdiacentSimple(tiles)\n",
    "\n",
    "tiles_family = [[],[],[]] # angles, borders, centers\n",
    "\n",
    "for p in sameb.keys():\n",
    "    b = len(sameb[p])\n",
    "    if b==2:\n",
    "        tiles_family[0].append(p)\n",
    "    elif b==3:\n",
    "        tiles_family[1].append(p)\n",
    "    elif b==4:\n",
    "        tiles_family[2].append(p)\n",
    "\n",
    "#tiles_family, sameb"
   ]
  },
  {
   "cell_type": "code",
   "execution_count": 101,
   "metadata": {},
   "outputs": [
    {
     "data": {
      "text/plain": [
       "{2311: [1427, 3079],\n",
       " 1951: [],\n",
       " 1171: [2473, 1489],\n",
       " 1427: [1489, 2473, 2311, 2729],\n",
       " 1489: [1171, 1427, 2971],\n",
       " 2473: [3079, 1427, 1171],\n",
       " 2971: [1489, 2729],\n",
       " 2729: [2971, 1427],\n",
       " 3079: [2473, 2311]}"
      ]
     },
     "execution_count": 101,
     "metadata": {},
     "output_type": "execute_result"
    }
   ],
   "source": [
    "\n",
    "\n",
    "# place first angle piece\n",
    "loc = [(0,0)]\n",
    "puzzle[0][0] = tiles_family[0][0] \n",
    "\n",
    "# place neighbours to first angle (breaking symmetry)\n",
    "puzzle[0][1] = sameb[puzzle[0][0]][0]\n",
    "puzzle[1][0] = sameb[puzzle[0][0]][1]\n",
    "\n",
    "sameb_placed = sameb\n",
    "\n",
    "sameb_placed[puzzle[0][0]] = []\n",
    "sameb_placed[puzzle[1][0]].remove(puzzle[0][0]) \n",
    "sameb_placed[puzzle[0][1]].remove(puzzle[0][0]) \n",
    "\n",
    "last = [ puzzle[1][0], puzzle[0][1] ]\n",
    "\n",
    "it = 0\n",
    "while len(puzzle[puzzle==0]):\n",
    "    it += 1\n",
    "    if it == 2:\n",
    "        break\n",
    "    \n",
    "    for nn in sameb_places.keys():\n",
    "        if \n",
    "    \n",
    "sameb_placed"
   ]
  },
  {
   "cell_type": "code",
   "execution_count": null,
   "metadata": {},
   "outputs": [],
   "source": []
  },
  {
   "cell_type": "code",
   "execution_count": null,
   "metadata": {},
   "outputs": [],
   "source": []
  }
 ],
 "metadata": {
  "kernelspec": {
   "display_name": "Python 3",
   "language": "python",
   "name": "python3"
  },
  "language_info": {
   "codemirror_mode": {
    "name": "ipython",
    "version": 3
   },
   "file_extension": ".py",
   "mimetype": "text/x-python",
   "name": "python",
   "nbconvert_exporter": "python",
   "pygments_lexer": "ipython3",
   "version": "3.9.0"
  }
 },
 "nbformat": 4,
 "nbformat_minor": 4
}
