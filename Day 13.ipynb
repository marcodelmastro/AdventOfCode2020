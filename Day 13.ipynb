{
 "cells": [
  {
   "cell_type": "markdown",
   "metadata": {},
   "source": [
    "# Day 13: Shuttle Search\n",
    "\n",
    "https://adventofcode.com/2020/day/13\n",
    "\n",
    "## Part 1"
   ]
  },
  {
   "cell_type": "code",
   "execution_count": 473,
   "metadata": {},
   "outputs": [
    {
     "data": {
      "text/plain": [
       "(1000299,\n",
       " [(41, 0),\n",
       "  (37, 35),\n",
       "  (971, 41),\n",
       "  (17, 58),\n",
       "  (13, 59),\n",
       "  (23, 64),\n",
       "  (29, 70),\n",
       "  (487, 72),\n",
       "  (19, 91)])"
      ]
     },
     "execution_count": 473,
     "metadata": {},
     "output_type": "execute_result"
    }
   ],
   "source": [
    "def readInput13(filename):\n",
    "    with open(filename) as f:\n",
    "        lines = [ l.strip(\"\\n\") for l in f.readlines()]\n",
    "    timestamp = int(lines[0])\n",
    "    buses = []\n",
    "    for e in enumerate (lines[1].split(\",\")):\n",
    "        if e[1]==\"x\":\n",
    "            continue\n",
    "        buses.append((int(e[1]),e[0]))\n",
    "    return timestamp, buses\n",
    "\n",
    "timestamp, buses = readInput13(\"data/day13test0.txt\")\n",
    "timestamp, buses = readInput13(\"data/input13.txt\")\n",
    "timestamp, buses"
   ]
  },
  {
   "cell_type": "code",
   "execution_count": 475,
   "metadata": {},
   "outputs": [
    {
     "name": "stdout",
     "output_type": "stream",
     "text": [
      "Solution Part 1 = 156\n"
     ]
    }
   ],
   "source": [
    "nextdep = []\n",
    "\n",
    "for b,d in buses:\n",
    "    n = (int(timestamp/b)+1)*b\n",
    "    nextdep.append(n)\n",
    "\n",
    "leave = min(nextdep)\n",
    "bus = activebuses[nextdep.index(leave)]\n",
    "sol1 = bus*(leave-timestamp)\n",
    "\n",
    "print(\"Solution Part 1 =\",sol1)"
   ]
  },
  {
   "cell_type": "markdown",
   "metadata": {},
   "source": [
    "## Part 2\n",
    "\n",
    "Solution has to be multiple of first bus number (0 rest in division). Solution + the other dtime values must be multiple of all other bus numbers. Of course bus numbers are primes, so brute force will not work..."
   ]
  },
  {
   "cell_type": "code",
   "execution_count": 483,
   "metadata": {},
   "outputs": [],
   "source": [
    "def bruteForcePart2(buses):\n",
    "    n = buses[0][0]\n",
    "    while(True):\n",
    "        n += buses[0][0]\n",
    "        match = 0\n",
    "        for i in range(1,len(buses)):\n",
    "            q = (n+buses[i][1]) % buses[i][0] # 0 if match condition for current bus\n",
    "            if q!=0:\n",
    "                break\n",
    "            else:\n",
    "                match += 1\n",
    "        if match == len(buses)-1:\n",
    "            return n\n",
    "            break"
   ]
  },
  {
   "cell_type": "code",
   "execution_count": 486,
   "metadata": {},
   "outputs": [
    {
     "name": "stdout",
     "output_type": "stream",
     "text": [
      "Solution test Part 2 = 1068781\n"
     ]
    }
   ],
   "source": [
    "# Brute force attempt on test, should return 1068781\n",
    "\n",
    "timestamp, buses = readInput13(\"data/day13test0.txt\")\n",
    "n = bruteForcePart2(buses)\n",
    "print(\"Solution test Part 2 =\",n)"
   ]
  },
  {
   "cell_type": "markdown",
   "metadata": {},
   "source": [
    "Given the extremes of the problem, this has certainly to do with modular algebra, which I know very little about (I discever its extistence during last year AOC!). Following an hint from @zar I look up the [Chinese remainder theorem](https://en.wikipedia.org/wiki/Chinese_remainder_theorem):\n",
    "\n",
    "> If one knows the remainders of the Euclidean division of an integer n by several integers, then one can determine uniquely the remainder of the division of n by the product of these integers, under the condition that the divisors are pairwise coprime.\n",
    "\n",
    "Solution will hopefully follow in the coming days, once I get the time to study and understand how to use this..."
   ]
  },
  {
   "cell_type": "code",
   "execution_count": null,
   "metadata": {},
   "outputs": [],
   "source": []
  }
 ],
 "metadata": {
  "kernelspec": {
   "display_name": "Python 3",
   "language": "python",
   "name": "python3"
  },
  "language_info": {
   "codemirror_mode": {
    "name": "ipython",
    "version": 3
   },
   "file_extension": ".py",
   "mimetype": "text/x-python",
   "name": "python",
   "nbconvert_exporter": "python",
   "pygments_lexer": "ipython3",
   "version": "3.9.0"
  }
 },
 "nbformat": 4,
 "nbformat_minor": 4
}
