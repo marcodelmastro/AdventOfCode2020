{
 "cells": [
  {
   "cell_type": "markdown",
   "metadata": {},
   "source": [
    "# Day 13: Shuttle Search\n",
    "\n",
    "https://adventofcode.com/2020/day/13\n",
    "\n",
    "## Part 1"
   ]
  },
  {
   "cell_type": "code",
   "execution_count": 473,
   "metadata": {},
   "outputs": [
    {
     "data": {
      "text/plain": [
       "(1000299,\n",
       " [(41, 0),\n",
       "  (37, 35),\n",
       "  (971, 41),\n",
       "  (17, 58),\n",
       "  (13, 59),\n",
       "  (23, 64),\n",
       "  (29, 70),\n",
       "  (487, 72),\n",
       "  (19, 91)])"
      ]
     },
     "execution_count": 473,
     "metadata": {},
     "output_type": "execute_result"
    }
   ],
   "source": [
    "def readInput13(filename):\n",
    "    with open(filename) as f:\n",
    "        lines = [ l.strip(\"\\n\") for l in f.readlines()]\n",
    "    timestamp = int(lines[0])\n",
    "    buses = []\n",
    "    for e in enumerate (lines[1].split(\",\")):\n",
    "        if e[1]==\"x\":\n",
    "            continue\n",
    "        buses.append((int(e[1]),e[0]))\n",
    "    return timestamp, buses\n",
    "\n",
    "timestamp, buses = readInput13(\"data/day13test0.txt\")\n",
    "timestamp, buses = readInput13(\"data/input13.txt\")\n",
    "timestamp, buses"
   ]
  },
  {
   "cell_type": "code",
   "execution_count": 475,
   "metadata": {},
   "outputs": [
    {
     "name": "stdout",
     "output_type": "stream",
     "text": [
      "Solution Part 1 = 156\n"
     ]
    }
   ],
   "source": [
    "nextdep = []\n",
    "\n",
    "for b,d in buses:\n",
    "    n = (int(timestamp/b)+1)*b\n",
    "    nextdep.append(n)\n",
    "\n",
    "leave = min(nextdep)\n",
    "bus = activebuses[nextdep.index(leave)]\n",
    "sol1 = bus*(leave-timestamp)\n",
    "\n",
    "print(\"Solution Part 1 =\",sol1)"
   ]
  },
  {
   "cell_type": "markdown",
   "metadata": {},
   "source": [
    "## Part 2\n",
    "\n",
    "Solution has to be multiple of first bus number (0 rest in division). Solution + the other dtime values must be multiple of all other bus numbers. Of course bus numbers are primes, so brute force will not work..."
   ]
  },
  {
   "cell_type": "code",
   "execution_count": 483,
   "metadata": {},
   "outputs": [],
   "source": [
    "def bruteForcePart2(buses):\n",
    "    n = buses[0][0]\n",
    "    while(True):\n",
    "        n += buses[0][0]\n",
    "        match = 0\n",
    "        for i in range(1,len(buses)):\n",
    "            q = (n+buses[i][1]) % buses[i][0] # 0 if match condition for current bus\n",
    "            if q!=0:\n",
    "                break\n",
    "            else:\n",
    "                match += 1\n",
    "        if match == len(buses)-1:\n",
    "            return n\n",
    "            break"
   ]
  },
  {
   "cell_type": "code",
   "execution_count": 486,
   "metadata": {},
   "outputs": [
    {
     "name": "stdout",
     "output_type": "stream",
     "text": [
      "Solution test Part 2 = 1068781\n"
     ]
    }
   ],
   "source": [
    "# Brute force attempt on test, should return 1068781\n",
    "\n",
    "timestamp, buses = readInput13(\"data/day13test0.txt\")\n",
    "n = bruteForcePart2(buses)\n",
    "print(\"Solution test Part 2 =\",n)"
   ]
  },
  {
   "cell_type": "markdown",
   "metadata": {},
   "source": [
    "Given the extremes of the problem, this has certainly to do with modular algebra, which I know very little about (I discever its extistence during last year AOC!). Following an hint from @zar I look up the [Chinese remainder theorem](https://en.wikipedia.org/wiki/Chinese_remainder_theorem):\n",
    "\n",
    "> If one knows the remainders of the Euclidean division of an integer n by several integers, then one can determine uniquely the remainder of the division of n by the product of these integers, under the condition that the divisors are pairwise coprime.\n",
    "\n",
    "Ok! If I manage to implement Chinese Reminder Algorithm and apply it to the bus number and the *difference between the bus number and their delta time* (that would be the reminder of the division by the bus number of the result!) I'm done!"
   ]
  },
  {
   "cell_type": "markdown",
   "metadata": {},
   "source": [
    "### Implementing Chinese Reminder Algorithm using Extended Euclid algorithm\n",
    "\n",
    "Using my mplementaion of `EuclidGDC()`, `ExtendedEuclidGDC()` and `invM()` from my solution to Day 22 of AOC 2019"
   ]
  },
  {
   "cell_type": "code",
   "execution_count": 580,
   "metadata": {},
   "outputs": [],
   "source": [
    "# Implementing Chinese Reminder Algorithm using Extended Euclid algorithm\n",
    "\n",
    "def EuclidGDC(a,n):\n",
    "    '''Euclid algorithm to computed GCD'''\n",
    "    if n==0:\n",
    "        return a\n",
    "    else:\n",
    "        return EuclidGDC(n, a%n)\n",
    "\n",
    "def ExtendedEuclidGDC(a,n): \n",
    "    '''Extended Euclid algorithm to computed GCD and integer pair (x,y) that satifies d = gcd(a,n) = a*x+n*y'''\n",
    "    if n==0:\n",
    "        return a,1,0\n",
    "    di, xi, yi = ExtendedEuclidGDC(n,a%n)\n",
    "    d = di\n",
    "    x = yi\n",
    "    y = xi - a//n * yi # use // for integer division!\n",
    "    return d, x, y \n",
    "\n",
    "def invM(a,m):\n",
    "    '''Compute inverse of a mod m using Extended Euclid algorithm'''\n",
    "    d,x,y = ExtendedEuclidGDC(a,m)\n",
    "    return x\n",
    "\n",
    "def minX_CTR(num, rem): \n",
    "    '''\n",
    "    Return minimum integer satisfying Chinese Theoreme of Reminders equations.\n",
    "    Assumes num and rem have the same size, and num components are coprimes.\n",
    "    '''\n",
    "    prod = 1\n",
    "    for n in num: \n",
    "        prod = prod * n \n",
    "    result = 0\n",
    "    for n,a in zip(num,rem): \n",
    "        pp = prod // n\n",
    "        result = result + a*invM(pp,n)*pp \n",
    "    return result % prod "
   ]
  },
  {
   "cell_type": "code",
   "execution_count": 581,
   "metadata": {},
   "outputs": [
    {
     "name": "stdout",
     "output_type": "stream",
     "text": [
      "11\n"
     ]
    }
   ],
   "source": [
    "num = [3, 4, 5] \n",
    "rem = [2, 3, 1] \n",
    "print(minX_CTR(num, rem)) "
   ]
  },
  {
   "cell_type": "code",
   "execution_count": 582,
   "metadata": {},
   "outputs": [
    {
     "name": "stdout",
     "output_type": "stream",
     "text": [
      "[7, 13, 59, 31, 19] [7, 12, 55, 25, 12] 1068781\n",
      "[17, 13, 19] [17, 11, 16] 3417\n",
      "[67, 7, 59, 61] [67, 6, 57, 58] 754018\n",
      "[67, 7, 59, 61] [67, 5, 56, 57] 779210\n",
      "[67, 7, 59, 61] [67, 6, 56, 57] 1261476\n",
      "[1789, 37, 47, 1889] [1789, 36, 45, 1886] 1202161486\n"
     ]
    }
   ],
   "source": [
    "testfiles = [\n",
    "    \"data/day13test0.txt\", # 1068781\n",
    "    \"data/day13test1.txt\", # 3417\n",
    "    \"data/day13test2.txt\", # 754018\n",
    "    \"data/day13test3.txt\", # 779210\n",
    "    \"data/day13test4.txt\", # 1261476\n",
    "    \"data/day13test5.txt\", # 1202161486\n",
    "]\n",
    "\n",
    "for f in testfiles:\n",
    "    timestamp, buses = readInput13(f)\n",
    "    n = []\n",
    "    a = []\n",
    "    for b,d in buses:\n",
    "        n.append(b)\n",
    "        a.append(b-d) # reminders are bus number minus delta time!\n",
    "    sol = minX_CTR(n, a)\n",
    "    print(n,a,sol)"
   ]
  },
  {
   "cell_type": "code",
   "execution_count": 583,
   "metadata": {},
   "outputs": [
    {
     "name": "stdout",
     "output_type": "stream",
     "text": [
      "Solution test Part 2 = 404517869995362\n"
     ]
    }
   ],
   "source": [
    "timestamp, buses = readInput13(\"data/input13.txt\")\n",
    "n = []\n",
    "a = []\n",
    "\n",
    "for b,d in buses:\n",
    "    n.append(b)\n",
    "    a.append(b-d) # reminders are bus number minus delta time!\n",
    "\n",
    "sol2 = minX_CTR(n, a)\n",
    "print(\"Solution test Part 2 =\",sol2)"
   ]
  },
  {
   "cell_type": "code",
   "execution_count": null,
   "metadata": {},
   "outputs": [],
   "source": []
  }
 ],
 "metadata": {
  "kernelspec": {
   "display_name": "Python 3",
   "language": "python",
   "name": "python3"
  },
  "language_info": {
   "codemirror_mode": {
    "name": "ipython",
    "version": 3
   },
   "file_extension": ".py",
   "mimetype": "text/x-python",
   "name": "python",
   "nbconvert_exporter": "python",
   "pygments_lexer": "ipython3",
   "version": "3.9.0"
  }
 },
 "nbformat": 4,
 "nbformat_minor": 4
}
