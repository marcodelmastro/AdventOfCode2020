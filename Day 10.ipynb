{
 "cells": [
  {
   "cell_type": "markdown",
   "metadata": {},
   "source": [
    "# Day 10: Adapter Array\n",
    "\n",
    "https://adventofcode.com/2020/day/10\n",
    "\n",
    "## Part 1"
   ]
  },
  {
   "cell_type": "code",
   "execution_count": 59,
   "metadata": {},
   "outputs": [],
   "source": [
    "import numpy as np\n",
    "\n",
    "#adapters = np.loadtxt(\"data/day10test0.txt\",dtype=int)\n",
    "#adapters = np.loadtxt(\"data/day10test1.txt\",dtype=int)\n",
    "adapters = np.loadtxt(\"data/input10.txt\",dtype=int)\n",
    "\n",
    "#adapters"
   ]
  },
  {
   "cell_type": "code",
   "execution_count": 60,
   "metadata": {},
   "outputs": [
    {
     "name": "stdout",
     "output_type": "stream",
     "text": [
      "2048\n"
     ]
    }
   ],
   "source": [
    "deltas = np.array([])\n",
    "\n",
    "builtin = adapters.max()+3\n",
    "outlet = 0\n",
    "\n",
    "while (outlet<=builtin):\n",
    "    choices = adapters[adapters>=outlet+1]\n",
    "    if len(choices):\n",
    "        outletnew = choices.min()\n",
    "    else:\n",
    "        break\n",
    "    delta = outletnew - outlet\n",
    "    outlet = outletnew\n",
    "    deltas = np.append(deltas,[delta])\n",
    "\n",
    "d1 = len(deltas[deltas==1])\n",
    "d3 = len(deltas[deltas==3])+1\n",
    "\n",
    "# What is the number of 1-jolt differences multiplied by the number of 3-jolt differences?\n",
    "print( d1 * d3 )"
   ]
  },
  {
   "cell_type": "markdown",
   "metadata": {},
   "source": [
    "## Part 2\n",
    "\n",
    "Navigating the tree requires keeping the size of nodes manageble! \n",
    "\n",
    "Instead of multipling the number of nodes, just count them since every equal node will evolve in the same way"
   ]
  },
  {
   "cell_type": "code",
   "execution_count": 62,
   "metadata": {},
   "outputs": [
    {
     "name": "stdout",
     "output_type": "stream",
     "text": [
      "1322306994176\n"
     ]
    }
   ],
   "source": [
    "outmax = adapters.max()\n",
    "builtin = adapters.max()+3\n",
    "\n",
    "arrangements = 0\n",
    "outlets = {}\n",
    "outlets[0] = 1\n",
    "\n",
    "it = 0\n",
    "while ( len(outlets) ):\n",
    "    it += 1\n",
    "    #print(outlets)\n",
    "    newoutlets = {}\n",
    "    for o in outlets.keys(): \n",
    "        cc = adapters[adapters>=o+1]\n",
    "        ccc = cc[cc<=o+3]\n",
    "        for c in ccc:\n",
    "            if c in newoutlets.keys():\n",
    "                newoutlets[c] += outlets[o]\n",
    "            else:\n",
    "                newoutlets[c] = outlets[o]\n",
    "    if outmax in newoutlets.keys():\n",
    "        arrangements += newoutlets[outmax]\n",
    "    outlets = newoutlets\n",
    "\n",
    "print(arrangements)    "
   ]
  },
  {
   "cell_type": "markdown",
   "metadata": {},
   "source": [
    "The code below (my first attempt to solve Part 2) does not converge, since it spends too much time following equal nodes' hitories. Luckily I learned my lesson last year, and I recalled it quickly (without even having to look for it in 2019 code): use a dictionaly to track number of equal nodes!"
   ]
  },
  {
   "cell_type": "code",
   "execution_count": 13,
   "metadata": {},
   "outputs": [
    {
     "name": "stdout",
     "output_type": "stream",
     "text": [
      "8\n"
     ]
    }
   ],
   "source": [
    "outmax = adapters.max()\n",
    "builtin = adapters.max()+3\n",
    "outlets = np.array([ 0 ],dtype=int)\n",
    "arrangements = 0\n",
    "\n",
    "while ( len(outlets) ):\n",
    "    newoutlets = np.array([],dtype=int)\n",
    "    for o in outlets:\n",
    "        cc = adapters[adapters>=o+1]\n",
    "        ccc = cc[cc<=o+3]\n",
    "        # count how many sequences reached the end \n",
    "        # if any also remove them from the sequences to be followed\n",
    "        ended = len(ccc[ccc==outmax])\n",
    "        if (ended):\n",
    "            arrangements += ended\n",
    "            ccc = ccc[ccc != outmax]\n",
    "        newoutlets = np.append(newoutlets,ccc)\n",
    "    #print(newoutlets)\n",
    "    outlets = newoutlets\n",
    "    \n",
    "print(arrangements)"
   ]
  },
  {
   "cell_type": "code",
   "execution_count": null,
   "metadata": {},
   "outputs": [],
   "source": []
  }
 ],
 "metadata": {
  "kernelspec": {
   "display_name": "Python 3",
   "language": "python",
   "name": "python3"
  },
  "language_info": {
   "codemirror_mode": {
    "name": "ipython",
    "version": 3
   },
   "file_extension": ".py",
   "mimetype": "text/x-python",
   "name": "python",
   "nbconvert_exporter": "python",
   "pygments_lexer": "ipython3",
   "version": "3.9.0"
  }
 },
 "nbformat": 4,
 "nbformat_minor": 4
}
