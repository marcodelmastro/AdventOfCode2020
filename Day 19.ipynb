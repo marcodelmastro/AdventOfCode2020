{
 "cells": [
  {
   "cell_type": "markdown",
   "metadata": {},
   "source": [
    "# Day 19\n",
    "\n",
    "https://adventofcode.com/2020/day/19"
   ]
  },
  {
   "cell_type": "markdown",
   "metadata": {},
   "source": [
    "## Part 1\n",
    "\n",
    "I made several tries, but ultimately I reckon I cannot solve it withour using regexp. so I need to learn the basics..."
   ]
  },
  {
   "cell_type": "code",
   "execution_count": 404,
   "metadata": {},
   "outputs": [
    {
     "data": {
      "text/plain": [
       "True"
      ]
     },
     "execution_count": 404,
     "metadata": {},
     "output_type": "execute_result"
    }
   ],
   "source": [
    "# Here's how I can use a rule as a regexp, using the OR sign and parentheses...\n",
    "import re\n",
    "bool(re.fullmatch('a(b|a)','aa'))"
   ]
  },
  {
   "cell_type": "code",
   "execution_count": 401,
   "metadata": {},
   "outputs": [
    {
     "name": "stdout",
     "output_type": "stream",
     "text": [
      "(b((a(a(b(a(ba|bb)|b(ba|ab))|a((aa|bb)a|aab))|b(a(aa|ba)(b|a)|b(a(bb|a(b|a))|baa)))|b(a(a(b(ba|bb)|a(aa|ba))|b(aab|aba))|b(b(b(aa|ba)|a(ba|a(b|a)))|a(ab|bb)a)))b|((b((abb|(ba|ab)a)a|((ba|(b|a)b)b|(ba|a(b|a))a)b)|a(b(b(ba|a(b|a))|aaa)|a(b|a)(ab|bb)))a|(a(a(a(b(b|a)|aa)|b(ab|bb))|b((b(b|a)|aa)b|(ba|(b|a)b)a))|b(b(b|a)(bb|a(b|a))|a(b(ba|ab)|a(ba|(b|a)b))))b)a)|a((b((b(a(ba|(b|a)b)|b(bb|a(b|a)))|a(aaa|(aa|bb)b))a|((b(ab|bb)|a(bb|a(b|a)))a|(b(ba|bb)|aab)b)b)|a(b(a(ab|bb)b|b(a(ba|(b|a)b)|baa))|a(((ba|a(b|a))b|aba)b|(b(ba|bb)|a(b(b|a)|aa))a)))a|(((b(aab|(aa|ba)a)|a(ab|bb)b)a|(b(ba|ab)b|(b|a)(ba|(b|a)b)a)b)b|(a((abb|(ba|a(b|a))a)b|((aa|bb)a|(aa|ba)b)a)|b(((b(b|a)|aa)b|aba)a|(baa|a(ba|a(b|a)))b))a)b))(b((a(a(b(a(ba|bb)|b(ba|ab))|a((aa|bb)a|aab))|b(a(aa|ba)(b|a)|b(a(bb|a(b|a))|baa)))|b(a(a(b(ba|bb)|a(aa|ba))|b(aab|aba))|b(b(b(aa|ba)|a(ba|a(b|a)))|a(ab|bb)a)))b|((b((abb|(ba|ab)a)a|((ba|(b|a)b)b|(ba|a(b|a))a)b)|a(b(b(ba|a(b|a))|aaa)|a(b|a)(ab|bb)))a|(a(a(a(b(b|a)|aa)|b(ab|bb))|b((b(b|a)|aa)b|(ba|(b|a)b)a))|b(b(b|a)(bb|a(b|a))|a(b(ba|ab)|a(ba|(b|a)b))))b)a)|a((b((b(a(ba|(b|a)b)|b(bb|a(b|a)))|a(aaa|(aa|bb)b))a|((b(ab|bb)|a(bb|a(b|a)))a|(b(ba|bb)|aab)b)b)|a(b(a(ab|bb)b|b(a(ba|(b|a)b)|baa))|a(((ba|a(b|a))b|aba)b|(b(ba|bb)|a(b(b|a)|aa))a)))a|(((b(aab|(aa|ba)a)|a(ab|bb)b)a|(b(ba|ab)b|(b|a)(ba|(b|a)b)a)b)b|(a((abb|(ba|a(b|a))a)b|((aa|bb)a|(aa|ba)b)a)|b(((b(b|a)|aa)b|aba)a|(baa|a(ba|a(b|a)))b))a)b))(b((((b((b(b|a)|aa)b|(aa|bb)a)|a(a(b|a)(b|a)|bab))a|((abb|(ba|ab)a)b|(bbb|aba)a)b)a|(a((abb|(ba|ab)a)a|(aaa|bab)b)|b(a(bbb|(aa|ba)a)|b(ab|bb)a))b)a|(((((b(b|a)|aa)a|(aa|ba)b)b|((aa|ba)b|bba)a)a|((bab|a(ba|bb))b|(abb|(ab|aa)a)a)b)a|((a(bbb|a(ba|ab))|b(b|a)(bb|a(b|a)))a|(a(b|a)(bb|a(b|a))|b((b|a)(b|a)a|(ba|(b|a)b)b))b)b)b)|a((a(((b(ba|(b|a)b)|aab)b|(b(aa|bb)|a(ba|bb))a)a|((b|a)(ba|a(b|a))a|(b(ab|bb)|a(bb|a(b|a)))b)b)|b(b(a(bab|(aa|bb)a)|b((bb|a(b|a))a|(b(b|a)|aa)b))|a((b(aa|ba)|a(ab|bb))b|(b(ba|bb)|aaa)a)))b|((a(b((ba|a(b|a))a|(bb|a(b|a))b)|a((aa|ba)b|baa))|b((aab|aba)b|(a(ba|(b|a)b)|b(aa|bb))a))a|(a(((ba|(b|a)b)b|(ba|a(b|a))a)a|(ab|bb)bb)|b(a((b(b|a)|aa)b|baa)|b(a(bb|a(b|a))|baa)))b)a))\n"
     ]
    }
   ],
   "source": [
    "#filename = \"data/day19test1.txt\"\n",
    "filename = \"data/input19.txt\"\n",
    "\n",
    "with open(filename) as f:\n",
    "    p = [b.split(\"\\n\") for b in f.read().split(\"\\n\\n\")]\n",
    "\n",
    "messages = p[1][:-1]\n",
    "\n",
    "# store rules in dictionary with rule number as key (as a string)\n",
    "rules = {}\n",
    "for l in p[0]:\n",
    "    i, r = l.split(\": \")\n",
    "    rules[i] = r.replace('\"','')\n",
    "\n",
    "# add parentesys (and space to that later split will work) if there's an OR symbol in rule.\n",
    "for r in rules.keys():\n",
    "    if \"|\" in rules[r]:\n",
    "        rules[r] = \"( \"+rules[r]+\" )\"\n",
    "\n",
    "# dictionay of solved rules\n",
    "rules_solved = {}\n",
    "\n",
    "while '0' not in rules_solved.keys():\n",
    "\n",
    "    for k in rules.keys():\n",
    "        if k in rules_solved.keys():\n",
    "            continue\n",
    "\n",
    "        r = rules[k]        \n",
    "        if not re.findall(\"[0-9]\",rules[k]): # rule is solved, store it\n",
    "            rules_solved[k] = r\n",
    "        else: # otherwise see whether I can replace rule number with corresponding rule\n",
    "            l = r.split(\" \")\n",
    "            for i in range(len(l)):\n",
    "                j = l[i]\n",
    "                if j in rules_solved.keys():\n",
    "                    #r = r.replace(j,rules_solved[j]) ## HERE'S THE BUG! there could be a number containig the rule\n",
    "                                                      ## number, e.g. 133 contains 13, replace will screw the string\n",
    "                    l[i] = rules_solved[j] # solve by replacing item in list, and the reforming string \"by hand\"..\n",
    "            nr = \"\" # reform rule string after replacements\n",
    "            for j in l:\n",
    "                nr += j+\" \"\n",
    "            nr = nr[:-1] # remove last white space\n",
    "            rules[k] = nr\n",
    "    \n",
    "rule0 = rules_solved['0'].replace(\" \",\"\") # remove all white spaces from rule 0\n",
    "print(rule0)"
   ]
  },
  {
   "cell_type": "code",
   "execution_count": 402,
   "metadata": {},
   "outputs": [
    {
     "name": "stdout",
     "output_type": "stream",
     "text": [
      "Solution Part 1 = 126\n"
     ]
    }
   ],
   "source": [
    "import re\n",
    "\n",
    "match = 0\n",
    "for m in messages:\n",
    "    #print(m,bool(re.fullmatch(rule0,m)))\n",
    "    if bool(re.fullmatch(rule0,m)):\n",
    "        match += 1\n",
    "        \n",
    "print('Solution Part 1 =',match)"
   ]
  },
  {
   "cell_type": "code",
   "execution_count": null,
   "metadata": {},
   "outputs": [],
   "source": []
  }
 ],
 "metadata": {
  "kernelspec": {
   "display_name": "Python 3",
   "language": "python",
   "name": "python3"
  },
  "language_info": {
   "codemirror_mode": {
    "name": "ipython",
    "version": 3
   },
   "file_extension": ".py",
   "mimetype": "text/x-python",
   "name": "python",
   "nbconvert_exporter": "python",
   "pygments_lexer": "ipython3",
   "version": "3.9.0"
  }
 },
 "nbformat": 4,
 "nbformat_minor": 4
}
