{
 "cells": [
  {
   "cell_type": "markdown",
   "metadata": {},
   "source": [
    "# Day 4: Passport Processing\n",
    "\n",
    "https://adventofcode.com/2020/day/4\n",
    "\n",
    "- byr (Birth Year)\n",
    "- iyr (Issue Year)\n",
    "- eyr (Expiration Year)\n",
    "- hgt (Height)\n",
    "- hcl (Hair Color)\n",
    "- ecl (Eye Color)\n",
    "- pid (Passport ID)\n",
    "- cid (Country ID)"
   ]
  },
  {
   "cell_type": "code",
   "execution_count": 160,
   "metadata": {},
   "outputs": [],
   "source": [
    "#filename = \"data/day04test0.txt\" # add a newline at the end to read last entry\n",
    "#filename = \"data/day04test1.txt\" # add a newline at the end to read last entry\n",
    "#filename = \"data/day04test2.txt\" # add a newline at the end to read last entry\n",
    "filename = \"data/input04.txt\" # add a newline at the end to read last entry\n",
    "\n",
    "def readPassports(filename):\n",
    "    with open(filename) as f:\n",
    "        lines = [ l.replace(\"\\n\",\" \") for l in f.readlines() ]\n",
    "    # sanitize input\n",
    "    ll = []\n",
    "    l0 = \"\"\n",
    "    for l in lines:\n",
    "        if l != \" \":\n",
    "            l0 += l\n",
    "        else:\n",
    "            ll.append(l0.split(\" \"))\n",
    "            l0 = \"\"\n",
    "    passports = []\n",
    "    for l in ll:\n",
    "        ee = [ e.split(\":\") for e in l ]\n",
    "        entry = {}\n",
    "        for e in ee:\n",
    "            if len(e)>1:\n",
    "                entry[e[0]] = e[1]\n",
    "        passports.append(entry)\n",
    "    return passports\n",
    "\n",
    "passports = readPassports(filename)"
   ]
  },
  {
   "cell_type": "code",
   "execution_count": 161,
   "metadata": {},
   "outputs": [],
   "source": [
    "# Check passport for validity\n",
    "\n",
    "def checkPassport(pp):\n",
    "    if len(pp)==8:\n",
    "        return True\n",
    "    if len(pp)==7 and not 'cid' in pp:\n",
    "        return True\n",
    "    return False"
   ]
  },
  {
   "cell_type": "code",
   "execution_count": 162,
   "metadata": {},
   "outputs": [
    {
     "name": "stdout",
     "output_type": "stream",
     "text": [
      "216\n"
     ]
    }
   ],
   "source": [
    "valid = 0\n",
    "for pp in passports:\n",
    "    if checkPassport(pp):\n",
    "        valid += 1\n",
    "print(valid)"
   ]
  },
  {
   "cell_type": "markdown",
   "metadata": {},
   "source": [
    "- byr (Birth Year) - four digits; at least 1920 and at most 2002.\n",
    "- iyr (Issue Year) - four digits; at least 2010 and at most 2020.\n",
    "- eyr (Expiration Year) - four digits; at least 2020 and at most 2030.\n",
    "- hgt (Height) - a number followed by either cm or in:\n",
    "    - If cm, the number must be at least 150 and at most 193.\n",
    "    - If in, the number must be at least 59 and at most 76.\n",
    "- hcl (Hair Color) - a # followed by exactly six characters 0-9 or a-f.\n",
    "- ecl (Eye Color) - exactly one of: amb blu brn gry grn hzl oth.\n",
    "- pid (Passport ID) - a nine-digit number, including leading zeroes.\n",
    "- cid (Country ID) - ignored, missing or not."
   ]
  },
  {
   "cell_type": "code",
   "execution_count": 163,
   "metadata": {},
   "outputs": [],
   "source": [
    "def checkPassFields(pp):\n",
    "    \n",
    "    # byr (Birth Year) - four digits; at least 1920 and at most 2002.\n",
    "    if not 'byr' in pp:\n",
    "        #print(\"No byr in record\")\n",
    "        return False\n",
    "    if len(pp['byr'])!=4 or int(pp['byr'])<1920 or int(pp['byr'])>2002:\n",
    "        return False\n",
    "    \n",
    "    # iyr (Issue Year) - four digits; at least 2010 and at most 2020.\n",
    "    if not 'iyr' in pp:\n",
    "        #print(\"No iyr in record\")\n",
    "        return False\n",
    "    if len(pp['iyr'])!=4 or int(pp['iyr'])<2010 or int(pp['iyr'])>2020:\n",
    "        return False\n",
    "    \n",
    "    # eyr (Expiration Year) - four digits; at least 2020 and at most 2030.\n",
    "    if not 'eyr' in pp:\n",
    "        #print(\"No eyr in record\")\n",
    "        return False\n",
    "    if len(pp['eyr'])!=4 or int(pp['eyr'])<2020 or int(pp['eyr'])>2030:\n",
    "        return False\n",
    "    \n",
    "    # hgt (Height) - a number followed by either cm or in:\n",
    "    if not 'hgt' in pp:\n",
    "        #print(\"No hgt in record\")\n",
    "        return False\n",
    "    h = pp['hgt']\n",
    "    if len(h)<=2:\n",
    "        return False\n",
    "    if not ( h[-2:] == 'cm' or h[-2:] == 'in'):\n",
    "        return False\n",
    "    if h[-2:] == 'cm' and ( int(h[0:-2]) < 150 or int(h[0:-2]) > 193 ):\n",
    "        return False\n",
    "    if h[-2:] == 'in' and ( int(h[0:-2]) < 59 or int(h[0:-2]) > 76 ):\n",
    "        return False\n",
    "    \n",
    "    # hcl (Hair Color) - a # followed by exactly six characters 0-9 or a-f.\n",
    "    if not 'hcl' in pp:\n",
    "        #print(\"No hcl in record\")\n",
    "        return False\n",
    "    hair = pp['hcl']\n",
    "    if hair[0] != '#':\n",
    "        return False\n",
    "    try:\n",
    "        c = int(hair[1:], 16)\n",
    "    except:\n",
    "        #print(\"Invalid hair color\")\n",
    "        return False\n",
    "    \n",
    "    # ecl (Eye Color) - exactly one of: amb blu brn gry grn hzl oth.\n",
    "    if not 'ecl' in pp:\n",
    "        #print(\"No ecl in record\")\n",
    "        return False\n",
    "    if not ( pp['ecl'] == 'amb' or pp['ecl'] == 'blu' or pp['ecl'] == 'brn' \\\n",
    "        or pp['ecl'] == 'gry' or pp['ecl'] == 'grn' or pp['ecl'] == 'hzl' \\\n",
    "        or pp['ecl'] == 'oth' ):\n",
    "        return False\n",
    "    \n",
    "    # pid (Passport ID) - a nine-digit number, including leading zeroes.\n",
    "    if not 'pid' in pp:\n",
    "        #print(\"No pid in record\")\n",
    "        return False\n",
    "    if len(pp['pid']) != 9:\n",
    "        return False\n",
    "    try:\n",
    "        c = int(pp['pid'])\n",
    "    except:\n",
    "        return False\n",
    "    #\n",
    "    return True"
   ]
  },
  {
   "cell_type": "code",
   "execution_count": 164,
   "metadata": {},
   "outputs": [
    {
     "name": "stdout",
     "output_type": "stream",
     "text": [
      "150\n"
     ]
    }
   ],
   "source": [
    "valid = 0\n",
    "for pp in passports:\n",
    "    if checkPassFields(pp):\n",
    "        valid += 1\n",
    "print(valid)"
   ]
  },
  {
   "cell_type": "code",
   "execution_count": null,
   "metadata": {},
   "outputs": [],
   "source": []
  }
 ],
 "metadata": {
  "kernelspec": {
   "display_name": "Python 3",
   "language": "python",
   "name": "python3"
  },
  "language_info": {
   "codemirror_mode": {
    "name": "ipython",
    "version": 3
   },
   "file_extension": ".py",
   "mimetype": "text/x-python",
   "name": "python",
   "nbconvert_exporter": "python",
   "pygments_lexer": "ipython3",
   "version": "3.9.0"
  }
 },
 "nbformat": 4,
 "nbformat_minor": 4
}
