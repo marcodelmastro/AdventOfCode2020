{
 "cells": [
  {
   "cell_type": "markdown",
   "metadata": {},
   "source": [
    "# Day 8: Handheld Halting\n",
    "\n",
    "https://adventofcode.com/2020/day/8\n",
    "\n",
    "- `acc` increases or decreases a single global value called the accumulator by the value given in the argument. For example, acc +7 would increase the accumulator by 7. The accumulator starts at 0. After an acc instruction, the instruction immediately below it is executed next.\n",
    "\n",
    "- `jmp` jumps to a new instruction relative to itself. The next instruction to execute is found using the argument as an offset from the jmp instruction; for example, jmp +2 would skip the next instruction, jmp +1 would continue to the instruction immediately below it, and jmp -20 would cause the instruction 20 lines above to be executed next.\n",
    "\n",
    "- `nop` stands for No OPeration - it does nothing. The instruction immediately below it is executed next.\n",
    "\n",
    "## Part 1"
   ]
  },
  {
   "cell_type": "code",
   "execution_count": 2,
   "metadata": {},
   "outputs": [],
   "source": [
    "def readInstructions(filename):\n",
    "    with open(filename) as f:\n",
    "        instr = [ [v[0],int(v[1])] for v in [ l.strip('\\n').split(' ') for l in f.readlines()] ]\n",
    "    return instr"
   ]
  },
  {
   "cell_type": "code",
   "execution_count": 3,
   "metadata": {},
   "outputs": [],
   "source": [
    "def runInstructions(instr):\n",
    "    \n",
    "    accumul = 0\n",
    "    ncmd = len(instr)\n",
    "    ccmd = [0] * ncmd # count how many times an instruction has been executed  \n",
    "    icmd = 0\n",
    "    \n",
    "    while(True):\n",
    "\n",
    "        [command,value] = instr[icmd]\n",
    "        ccmd[icmd] += 1\n",
    "        # print(icmd, command, value, ccmd[icmd], accumul)\n",
    "        \n",
    "        if ccmd[icmd] == 2:\n",
    "            #print(\"Reached second execution of instruction\",icmd)\n",
    "            #print(\"Accumulator =\", accumul)\n",
    "            return False, accumul\n",
    "        \n",
    "        if command==\"acc\":\n",
    "            accumul += value\n",
    "            icmd += 1\n",
    "        if command=='jmp':\n",
    "            icmd += value\n",
    "        if command==\"nop\":\n",
    "            # do nothing\n",
    "            icmd += 1\n",
    "\n",
    "        if icmd == ncmd:\n",
    "            #print(\"Accumulator = \", accumul)\n",
    "            #print(\"Reach end of instructions. Program ended\")\n",
    "            return True, accumul"
   ]
  },
  {
   "cell_type": "code",
   "execution_count": 4,
   "metadata": {},
   "outputs": [
    {
     "name": "stdout",
     "output_type": "stream",
     "text": [
      "Accumulator = 5\n"
     ]
    }
   ],
   "source": [
    "instr_test = readInstructions(\"data/day08test0.txt\")\n",
    "status, accumul = runInstructions(instr_test)\n",
    "print(\"Accumulator =\",accumul)"
   ]
  },
  {
   "cell_type": "code",
   "execution_count": 5,
   "metadata": {},
   "outputs": [
    {
     "name": "stdout",
     "output_type": "stream",
     "text": [
      "Accumulator = 1753\n"
     ]
    }
   ],
   "source": [
    "instr = readInstructions(\"data/input08.txt\")\n",
    "status, accumul = runInstructions(instr)\n",
    "print(\"Accumulator =\",accumul)"
   ]
  },
  {
   "cell_type": "code",
   "execution_count": 6,
   "metadata": {},
   "outputs": [
    {
     "name": "stdout",
     "output_type": "stream",
     "text": [
      "Accumulator = 8\n"
     ]
    }
   ],
   "source": [
    "instr_new = list(instr_test) # make a copy of the instructions\n",
    "instr_new[7][0] = 'nop'\n",
    "status, accumul = runInstructions(instr_test)\n",
    "print(\"Accumulator =\",accumul)"
   ]
  },
  {
   "cell_type": "markdown",
   "metadata": {},
   "source": [
    "## Brute forcing Part 2..."
   ]
  },
  {
   "cell_type": "code",
   "execution_count": 7,
   "metadata": {},
   "outputs": [
    {
     "name": "stdout",
     "output_type": "stream",
     "text": [
      "Accumulator = 733\n"
     ]
    }
   ],
   "source": [
    "#instr_orig = readInstructions(\"data/day08test0.txt\")\n",
    "instr_orig = readInstructions(\"data/input08.txt\")\n",
    "\n",
    "# be careful with shallow vs deep copy of the instructions, since they are an list of lists \n",
    "# (i.e. an iterable of iterables): a simple copy() would make two different lists of the external list, but \n",
    "# internal lists [command, value] would be the same objects\n",
    "\n",
    "import copy\n",
    "\n",
    "for i in range(len(instr_orig)):\n",
    "\n",
    "    instr_new = copy.deepcopy(instr_orig)\n",
    "        \n",
    "    if instr_orig[i][0] == 'jmp':\n",
    "        instr_new[i] = [ 'nop', instr_orig[i][1] ] \n",
    "    if instr_orig[i][0] == 'nop':\n",
    "        instr_new[i] = [ 'jmp', instr_orig[i][1] ] \n",
    "    \n",
    "    #print(i, instr_orig[i],instr_new[i])\n",
    "\n",
    "    status, accumul = runInstructions(instr_new)\n",
    "    \n",
    "    if status:\n",
    "        print(\"Accumulator =\",accumul)"
   ]
  },
  {
   "cell_type": "markdown",
   "metadata": {},
   "source": [
    "## Refactoring interpreter in a class\n",
    "\n",
    "This looks like a programming language we might need to extend in the coming days, a bit like the Intcode computer of 2019, so I better begin to refactorize it in a class from the beginning..."
   ]
  },
  {
   "cell_type": "code",
   "execution_count": 8,
   "metadata": {},
   "outputs": [],
   "source": [
    "import numpy as np\n",
    "\n",
    "class interpreter():\n",
    "    \"\"\"Code Interpreter\"\"\"\n",
    "\n",
    "    def __init__(self, instr, phase=0, name=\"AMP\", debug=False):\n",
    "\n",
    "        self.instr = np.array(instr)\n",
    "        self.debug = debug\n",
    "        self.icmd = 0\n",
    "        self.accumul = 0\n",
    "        self.ncmd = len(instr)\n",
    "        self.ccmd = [0] * self.ncmd # count how many times an instruction has been executed  \n",
    "    \n",
    "    def getAcc(self):\n",
    "        return self.accumul\n",
    "\n",
    "    def run(self):\n",
    "    \n",
    "        while(True):\n",
    "            \n",
    "            [command,value] = self.instr[self.icmd]\n",
    "            value = int(value)\n",
    "            \n",
    "            #if self.debug:\n",
    "            #    print(self.icmd,command,value)\n",
    "            \n",
    "            self.ccmd[self.icmd] += 1\n",
    "        \n",
    "            if self.ccmd[self.icmd] == 2:\n",
    "                if self.debug:\n",
    "                    print(\"Reached second execution of instruction\",self.icmd)\n",
    "                return False\n",
    "        \n",
    "            if command==\"acc\":\n",
    "                self.accumul += value\n",
    "                self.icmd += 1\n",
    "            if command=='jmp':\n",
    "                self.icmd += value\n",
    "            if command==\"nop\":\n",
    "                # do nothing\n",
    "                self.icmd += 1\n",
    "\n",
    "            if self.icmd == self.ncmd:\n",
    "                if self.debug:\n",
    "                    print(\"Reach end of instructions. Program ended.\")\n",
    "                return True"
   ]
  },
  {
   "cell_type": "code",
   "execution_count": 10,
   "metadata": {},
   "outputs": [
    {
     "name": "stdout",
     "output_type": "stream",
     "text": [
      "Reached second execution of instruction 1\n",
      "Accumulator Part 1 Test = 5\n",
      "Reached second execution of instruction 238\n",
      "Accumulator Part 1 Full = 1753\n"
     ]
    }
   ],
   "source": [
    "instr_test = readInstructions(\"data/day08test0.txt\")\n",
    "\n",
    "c1 = interpreter(instr_test,debug=True)\n",
    "c1.run()\n",
    "print('Accumulator Part 1 Test =',c1.getAcc())\n",
    "\n",
    "instr_full = readInstructions(\"data/input08.txt\")\n",
    "\n",
    "c2 = interpreter(instr_full,debug=True)\n",
    "c2.run()\n",
    "print('Accumulator Part 1 Full =',c2.getAcc())"
   ]
  },
  {
   "cell_type": "code",
   "execution_count": 10,
   "metadata": {},
   "outputs": [
    {
     "name": "stdout",
     "output_type": "stream",
     "text": [
      "Reach end of instructions. Program ended.\n",
      "Accumulator Part 2 Test = 8\n"
     ]
    }
   ],
   "source": [
    "import copy\n",
    "\n",
    "instr_test_new = copy.deepcopy(instr_test)\n",
    "instr_test_new[7][0] = 'nop'\n",
    "\n",
    "c3 = interpreter(instr_test_new,debug=True)\n",
    "c3.run()\n",
    "print('Accumulator Part 2 Test =',c3.getAcc())"
   ]
  },
  {
   "cell_type": "code",
   "execution_count": 34,
   "metadata": {},
   "outputs": [
    {
     "name": "stdout",
     "output_type": "stream",
     "text": [
      "Accumulator = 733\n"
     ]
    }
   ],
   "source": [
    "#instr_orig = copy.deepcopy(instr_test)\n",
    "instr_orig = copy.deepcopy(instr_full)\n",
    "\n",
    "for i in range(len(instr_orig)):\n",
    "\n",
    "    instr_new = copy.deepcopy(instr_orig)\n",
    "     \n",
    "    if instr_orig[i][0] == 'jmp':\n",
    "        instr_new[i] = [ 'nop', instr_orig[i][1] ] \n",
    "    if instr_orig[i][0] == 'nop':\n",
    "        instr_new[i] = [ 'jmp', instr_orig[i][1] ] \n",
    "    \n",
    "    c = interpreter(instr_new)\n",
    "    if c.run():\n",
    "        print(\"Accumulator =\",c.getAcc())"
   ]
  },
  {
   "cell_type": "code",
   "execution_count": null,
   "metadata": {},
   "outputs": [],
   "source": []
  }
 ],
 "metadata": {
  "kernelspec": {
   "display_name": "Python 3",
   "language": "python",
   "name": "python3"
  },
  "language_info": {
   "codemirror_mode": {
    "name": "ipython",
    "version": 3
   },
   "file_extension": ".py",
   "mimetype": "text/x-python",
   "name": "python",
   "nbconvert_exporter": "python",
   "pygments_lexer": "ipython3",
   "version": "3.9.0"
  }
 },
 "nbformat": 4,
 "nbformat_minor": 4
}
