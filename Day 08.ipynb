{
 "cells": [
  {
   "cell_type": "markdown",
   "metadata": {},
   "source": [
    "# Day 8: Handheld Halting\n",
    "\n",
    "https://adventofcode.com/2020/day/8\n",
    "\n",
    "- `acc` increases or decreases a single global value called the accumulator by the value given in the argument. For example, acc +7 would increase the accumulator by 7. The accumulator starts at 0. After an acc instruction, the instruction immediately below it is executed next.\n",
    "\n",
    "- `jmp` jumps to a new instruction relative to itself. The next instruction to execute is found using the argument as an offset from the jmp instruction; for example, jmp +2 would skip the next instruction, jmp +1 would continue to the instruction immediately below it, and jmp -20 would cause the instruction 20 lines above to be executed next.\n",
    "\n",
    "- `nop` stands for No OPeration - it does nothing. The instruction immediately below it is executed next."
   ]
  },
  {
   "cell_type": "code",
   "execution_count": 77,
   "metadata": {},
   "outputs": [],
   "source": [
    "filename = \"data/day08test0.txt\""
   ]
  },
  {
   "cell_type": "code",
   "execution_count": 78,
   "metadata": {},
   "outputs": [],
   "source": [
    "def readInstructions(filename):\n",
    "    with open(filename) as f:\n",
    "        instr = [ [v[0],int(v[1])] for v in [ l.strip('\\n').split(' ') for l in f.readlines()] ]\n",
    "    return instr"
   ]
  },
  {
   "cell_type": "code",
   "execution_count": 137,
   "metadata": {},
   "outputs": [],
   "source": [
    "def runInstructions(instr):\n",
    "    \n",
    "    accumul = 0\n",
    "    ncmd = len(instr)\n",
    "    ccmd = [0] * ncmd # count how many times an instruction has been executed  \n",
    "    icmd = 0\n",
    "    \n",
    "    while(True):\n",
    "\n",
    "        [command,value] = instr[icmd]\n",
    "        ccmd[icmd] += 1\n",
    "        # print(icmd, command, value, ccmd[icmd], accumul)\n",
    "        \n",
    "        if ccmd[icmd] == 2:\n",
    "            #print(\"Reached second execution of instruction\",icmd)\n",
    "            #print(\"Accumulator =\", accumul)\n",
    "            return False, accumul\n",
    "        \n",
    "        if command==\"acc\":\n",
    "            accumul += value\n",
    "            icmd += 1\n",
    "        if command=='jmp':\n",
    "            icmd += value\n",
    "        if command==\"nop\":\n",
    "            # do nothing\n",
    "            icmd += 1\n",
    "\n",
    "        if icmd == ncmd:\n",
    "            #print(\"Accumulator = \", accumul)\n",
    "            #print(\"Reach end of instructions. Program ended\")\n",
    "            return True, accumul"
   ]
  },
  {
   "cell_type": "code",
   "execution_count": 141,
   "metadata": {},
   "outputs": [
    {
     "name": "stdout",
     "output_type": "stream",
     "text": [
      "Accumulator =  5\n"
     ]
    }
   ],
   "source": [
    "instr_test = readInstructions(\"data/day08test0.txt\")\n",
    "status, accumul = runInstructions(instr_test)\n",
    "print(\"Accumulator = \",accumul)"
   ]
  },
  {
   "cell_type": "code",
   "execution_count": 142,
   "metadata": {},
   "outputs": [
    {
     "name": "stdout",
     "output_type": "stream",
     "text": [
      "Accumulator =  5\n"
     ]
    }
   ],
   "source": [
    "instr = readInstructions(\"data/input08.txt\")\n",
    "status, accumul = runInstructions(instr_test)\n",
    "print(\"Accumulator = \",accumul)"
   ]
  },
  {
   "cell_type": "code",
   "execution_count": 143,
   "metadata": {},
   "outputs": [
    {
     "name": "stdout",
     "output_type": "stream",
     "text": [
      "Accumulator =  8\n"
     ]
    }
   ],
   "source": [
    "instr_new = list(instr_test) # make a copy of the instructions\n",
    "instr_new[7][0] = 'nop'\n",
    "status, accumul = runInstructions(instr_test)\n",
    "print(\"Accumulator =\",accumul)"
   ]
  },
  {
   "cell_type": "code",
   "execution_count": 147,
   "metadata": {},
   "outputs": [
    {
     "name": "stdout",
     "output_type": "stream",
     "text": [
      "Accumulator = 733\n"
     ]
    }
   ],
   "source": [
    "#instr_orig = readInstructions(\"data/day08test0.txt\")\n",
    "instr_orig = readInstructions(\"data/input08.txt\")\n",
    "\n",
    "# be careful with shallow vs deep copy of the instructions!\n",
    "import copy\n",
    "\n",
    "for i in range(len(instr_orig)):\n",
    "\n",
    "    instr_new = copy.deepcopy(instr_orig)\n",
    "        \n",
    "    if instr_orig[i][0] == 'jmp':\n",
    "        instr_new[i] = [ 'nop', instr_orig[i][1] ] \n",
    "    if instr_orig[i][0] == 'nop':\n",
    "        instr_new[i] = [ 'jmp', instr_orig[i][1] ] \n",
    "    \n",
    "    #print(i, instr_orig[i],instr_new[i])\n",
    "\n",
    "    status, accumul = runInstructions(instr_new)\n",
    "    \n",
    "    if status:\n",
    "        print(\"Accumulator =\",accumul)"
   ]
  },
  {
   "cell_type": "code",
   "execution_count": null,
   "metadata": {},
   "outputs": [],
   "source": []
  }
 ],
 "metadata": {
  "kernelspec": {
   "display_name": "Python 3",
   "language": "python",
   "name": "python3"
  },
  "language_info": {
   "codemirror_mode": {
    "name": "ipython",
    "version": 3
   },
   "file_extension": ".py",
   "mimetype": "text/x-python",
   "name": "python",
   "nbconvert_exporter": "python",
   "pygments_lexer": "ipython3",
   "version": "3.9.0"
  }
 },
 "nbformat": 4,
 "nbformat_minor": 4
}
