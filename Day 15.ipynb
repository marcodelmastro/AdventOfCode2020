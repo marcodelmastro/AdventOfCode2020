{
 "cells": [
  {
   "cell_type": "markdown",
   "metadata": {},
   "source": [
    "# Day 15: Rambunctious Recitation\n",
    "\n",
    "https://adventofcode.com/2020/day/15"
   ]
  },
  {
   "cell_type": "code",
   "execution_count": 114,
   "metadata": {},
   "outputs": [],
   "source": [
    "import numpy as np\n",
    "\n",
    "def MemoryGame(inputn,turns):\n",
    "    spoken = np.array([],dtype=int)\n",
    "    lastspoken = -1\n",
    "    for t in range(turns):\n",
    "        if t<len(inputn):\n",
    "            spoken = np.append(spoken,[inputn[t]])\n",
    "        else:\n",
    "            lastspoken = spoken[t-1]\n",
    "            w = np.where(spoken==lastspoken)\n",
    "            if len(w[0])==1: # spoken only once\n",
    "                spoken = np.append(spoken,[0])\n",
    "            else:\n",
    "                n = w[0][-2:][1]-w[0][-2:][0]\n",
    "                spoken = np.append(spoken,[n])\n",
    "        #print(spoken)\n",
    "    return spoken[-1]"
   ]
  },
  {
   "cell_type": "code",
   "execution_count": 121,
   "metadata": {},
   "outputs": [
    {
     "name": "stdout",
     "output_type": "stream",
     "text": [
      "436\n",
      "1836\n",
      "319\n"
     ]
    }
   ],
   "source": [
    "print(MemoryGame([0,3,6],2020))\n",
    "print(MemoryGame([3,1,2],2020))\n",
    "print(MemoryGame([13,16,0,12,15,1],2020))"
   ]
  },
  {
   "cell_type": "code",
   "execution_count": 123,
   "metadata": {},
   "outputs": [],
   "source": [
    "#MemoryGame([0,3,6],30000000) # 175594"
   ]
  },
  {
   "cell_type": "code",
   "execution_count": 17,
   "metadata": {},
   "outputs": [],
   "source": [
    "def MemoryGameFast(inputn,turns):\n",
    "    mem = {}\n",
    "    lastspoken = -1\n",
    "    spoken = -1\n",
    "    \n",
    "    print(\"---------------------------------------------------\")\n",
    "    print(\"Turns\\t\\t Memory size\\t Last spoken number\")\n",
    "    print(\"---------------------------------------------------\")\n",
    "\n",
    "    for t in range(turns):\n",
    "        \n",
    "        if(t%1000000 == 0 and t!=0):\n",
    "            print(t,\"\\t\",len(mem.keys()),\"\\t\",lastspoken)\n",
    "        \n",
    "        if t<len(inputn):\n",
    "            spoken = inputn[t]\n",
    "            mem[spoken] = [t]\n",
    "        else:\n",
    "            if lastspoken not in mem.keys() or len(mem[lastspoken])==1:\n",
    "                spoken = 0\n",
    "            else:\n",
    "                spoken = mem[lastspoken][1]-mem[lastspoken][0]\n",
    "\n",
    "        if spoken in mem.keys():\n",
    "            mem[spoken] = [ mem[spoken][-1],t ]\n",
    "        else:\n",
    "            mem[spoken] = [t]\n",
    "\n",
    "        lastspoken = spoken\n",
    "        \n",
    "    print(\"---------------------------------------------------\")\n",
    "    print(\"*** Result =\",lastspoken)\n",
    "    print(\"---------------------------------------------------\")\n",
    "    \n",
    "    return lastspoken"
   ]
  },
  {
   "cell_type": "code",
   "execution_count": 20,
   "metadata": {},
   "outputs": [
    {
     "name": "stdout",
     "output_type": "stream",
     "text": [
      "---------------------------------------------------\n",
      "Turns\t\t Memory size\t Last spoken number\n",
      "---------------------------------------------------\n",
      "1000000 \t 136324 \t 130\n",
      "2000000 \t 265368 \t 0\n",
      "3000000 \t 391951 \t 3240\n",
      "4000000 \t 517093 \t 0\n",
      "5000000 \t 641061 \t 6561\n",
      "6000000 \t 764210 \t 6\n",
      "7000000 \t 886517 \t 0\n",
      "8000000 \t 1008360 \t 47480\n",
      "9000000 \t 1129629 \t 5\n",
      "10000000 \t 1250467 \t 70117\n",
      "11000000 \t 1370917 \t 161\n",
      "12000000 \t 1491042 \t 0\n",
      "13000000 \t 1610724 \t 9\n",
      "14000000 \t 1730201 \t 39777\n",
      "15000000 \t 1849287 \t 10\n",
      "16000000 \t 1968163 \t 0\n",
      "17000000 \t 2086758 \t 96\n",
      "18000000 \t 2205183 \t 1849550\n",
      "19000000 \t 2323386 \t 2\n",
      "20000000 \t 2441398 \t 7790\n",
      "21000000 \t 2559181 \t 143145\n",
      "22000000 \t 2676782 \t 0\n",
      "23000000 \t 2794228 \t 216\n",
      "24000000 \t 2911448 \t 87017\n",
      "25000000 \t 3028527 \t 321584\n",
      "26000000 \t 3145519 \t 3730\n",
      "27000000 \t 3262344 \t 788481\n",
      "28000000 \t 3379027 \t 5108084\n",
      "29000000 \t 3495538 \t 5946394\n",
      "---------------------------------------------------\n",
      "*** Result = 175594\n",
      "---------------------------------------------------\n",
      "Time elapsed = 74 s\n"
     ]
    }
   ],
   "source": [
    "from timeit import default_timer as timer\n",
    "start = timer()\n",
    "test1 = MemoryGameFast([0,3,6],30000000)\n",
    "stop = timer() \n",
    "print(\"Time elapsed =\", int(stop - start), \"s\")"
   ]
  },
  {
   "cell_type": "code",
   "execution_count": 21,
   "metadata": {},
   "outputs": [
    {
     "name": "stdout",
     "output_type": "stream",
     "text": [
      "---------------------------------------------------\n",
      "Turns\t\t Memory size\t Last spoken number\n",
      "---------------------------------------------------\n",
      "1000000 \t 136381 \t 27\n",
      "2000000 \t 265514 \t 234\n",
      "3000000 \t 392177 \t 213\n",
      "4000000 \t 517201 \t 630\n",
      "5000000 \t 641192 \t 368783\n",
      "6000000 \t 764342 \t 7\n",
      "7000000 \t 886683 \t 9\n",
      "8000000 \t 1008507 \t 6683180\n",
      "9000000 \t 1129783 \t 45\n",
      "10000000 \t 1250650 \t 50\n",
      "11000000 \t 1371026 \t 95426\n",
      "12000000 \t 1491066 \t 323354\n",
      "13000000 \t 1610763 \t 2431\n",
      "14000000 \t 1730155 \t 28314\n",
      "15000000 \t 1849225 \t 43\n",
      "16000000 \t 1968037 \t 8\n",
      "17000000 \t 2086632 \t 8\n",
      "18000000 \t 2204931 \t 350388\n",
      "19000000 \t 2323169 \t 8\n",
      "20000000 \t 2441084 \t 0\n",
      "21000000 \t 2558867 \t 63\n",
      "22000000 \t 2676540 \t 206196\n",
      "23000000 \t 2793934 \t 1\n",
      "24000000 \t 2911203 \t 214270\n",
      "25000000 \t 3028328 \t 9224\n",
      "26000000 \t 3145244 \t 155\n",
      "27000000 \t 3262002 \t 17\n",
      "28000000 \t 3378719 \t 511\n",
      "29000000 \t 3495274 \t 9502019\n",
      "---------------------------------------------------\n",
      "*** Result = 2424\n",
      "---------------------------------------------------\n",
      "Time elapsed = 78 s\n"
     ]
    }
   ],
   "source": [
    "from timeit import default_timer as timer\n",
    "start = timer()\n",
    "part2 = MemoryGameFast([13,16,0,12,15,1],30000000)\n",
    "stop = timer() \n",
    "print(\"Time elapsed =\", int(stop - start), \"s\")"
   ]
  },
  {
   "cell_type": "code",
   "execution_count": null,
   "metadata": {},
   "outputs": [],
   "source": []
  }
 ],
 "metadata": {
  "kernelspec": {
   "display_name": "Python 3",
   "language": "python",
   "name": "python3"
  },
  "language_info": {
   "codemirror_mode": {
    "name": "ipython",
    "version": 3
   },
   "file_extension": ".py",
   "mimetype": "text/x-python",
   "name": "python",
   "nbconvert_exporter": "python",
   "pygments_lexer": "ipython3",
   "version": "3.9.0"
  }
 },
 "nbformat": 4,
 "nbformat_minor": 4
}
