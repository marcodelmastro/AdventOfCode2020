{
 "cells": [
  {
   "cell_type": "markdown",
   "metadata": {},
   "source": [
    "# Day 22: Crab Combat\n",
    "\n",
    "https://adventofcode.com/2020/day/22"
   ]
  },
  {
   "cell_type": "code",
   "execution_count": 53,
   "metadata": {},
   "outputs": [],
   "source": [
    "def readDecks(filename):\n",
    "    with open(filename) as f:\n",
    "        decks = [ p.split(\":\\n\")[1].split(\"\\n\") for p in f.read().split(\"\\n\\n\")] \n",
    "    decks[1] = decks[1][:-1] # remove last \\n in 2nd deck\n",
    "    dint = []\n",
    "    for d in decks:\n",
    "        d = [ int(c) for c in d ]\n",
    "        dint.append(d)\n",
    "    return list(dint)"
   ]
  },
  {
   "cell_type": "code",
   "execution_count": 54,
   "metadata": {},
   "outputs": [
    {
     "data": {
      "text/plain": [
       "[[9, 2, 6, 3, 1], [5, 8, 4, 7, 10]]"
      ]
     },
     "execution_count": 54,
     "metadata": {},
     "output_type": "execute_result"
    }
   ],
   "source": [
    "decks = readDecks(\"data/day22test0.txt\")\n",
    "decks"
   ]
  },
  {
   "cell_type": "markdown",
   "metadata": {},
   "source": [
    "## Part 1"
   ]
  },
  {
   "cell_type": "code",
   "execution_count": 58,
   "metadata": {},
   "outputs": [
    {
     "name": "stdout",
     "output_type": "stream",
     "text": [
      "Player 1 wins at round 1233\n",
      "Score = 29764\n"
     ]
    }
   ],
   "source": [
    "def singleCombat(decks):\n",
    "    iwin = -1\n",
    "    iround = 0\n",
    "    while True:\n",
    "        iround +=1\n",
    "        c1 = decks[0].pop(0)\n",
    "        c2 = decks[1].pop(0)\n",
    "        if c1 > c2:\n",
    "            decks[0].append(c1)\n",
    "            decks[0].append(c2)\n",
    "        else:\n",
    "            decks[1].append(c2)\n",
    "            decks[1].append(c1)\n",
    "        if len(decks[1])==0:\n",
    "            print(\"Player 1 wins at round\",iround)\n",
    "            iwin = 0\n",
    "            break\n",
    "        if len(decks[0])==0:\n",
    "            print(\"Player 2 wins at round\",iround)\n",
    "            iwin = 1\n",
    "            break\n",
    "    score = 0\n",
    "    value = len(decks[iwin])\n",
    "    for c in decks[iwin]:\n",
    "        score += c*value\n",
    "        value -= 1\n",
    "    return score\n",
    "\n",
    "decks = readDecks(\"data/input22.txt\")\n",
    "score = singleCombat(decks)\n",
    "print(\"Score =\",score)"
   ]
  },
  {
   "cell_type": "code",
   "execution_count": null,
   "metadata": {},
   "outputs": [],
   "source": []
  }
 ],
 "metadata": {
  "kernelspec": {
   "display_name": "Python 3",
   "language": "python",
   "name": "python3"
  },
  "language_info": {
   "codemirror_mode": {
    "name": "ipython",
    "version": 3
   },
   "file_extension": ".py",
   "mimetype": "text/x-python",
   "name": "python",
   "nbconvert_exporter": "python",
   "pygments_lexer": "ipython3",
   "version": "3.9.0"
  }
 },
 "nbformat": 4,
 "nbformat_minor": 4
}
