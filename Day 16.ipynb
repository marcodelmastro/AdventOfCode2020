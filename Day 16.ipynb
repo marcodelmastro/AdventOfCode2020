{
 "cells": [
  {
   "cell_type": "markdown",
   "metadata": {},
   "source": [
    "# Day 16: Ticket Translation\n",
    "\n",
    "https://adventofcode.com/2020/day/16"
   ]
  },
  {
   "cell_type": "code",
   "execution_count": 1,
   "metadata": {},
   "outputs": [],
   "source": [
    "# Can I simplfy this? I'm sure there's a way to inline the string->int loop, but or now this works...\n",
    "\n",
    "def readInput(filename):\n",
    "    with open(filename) as f:\n",
    "        blocks = [ f.split(\"\\n\") for f in [ b for b in f.read().split(\"\\n\\n\") ] ]\n",
    "    rulenames = []\n",
    "    rules = {}\n",
    "    for b in blocks[0]:\n",
    "        r = b.split(\": \")[0]\n",
    "        l = [ i.split(\"-\") for i in b.split(\": \")[1].split(\" or \") ]\n",
    "        r0 = []\n",
    "        for i in l:\n",
    "            f0 = []\n",
    "            for ii in i:\n",
    "                f0.append(int(ii))\n",
    "            r0.append(f0)\n",
    "        rules[r] = r0\n",
    "        rulenames.append(r)\n",
    "    myticket = [ int(n) for n in blocks[1][1].split(\",\") ]\n",
    "    tt = [b.split(\",\") for b in blocks[2][1:-1]]\n",
    "    tickets = []\n",
    "    for t in tt:\n",
    "        tickets.append([ int(i) for i in t ])\n",
    "    return rulenames,rules,myticket,tickets"
   ]
  },
  {
   "cell_type": "code",
   "execution_count": 2,
   "metadata": {},
   "outputs": [
    {
     "name": "stdout",
     "output_type": "stream",
     "text": [
      "['class', 'row', 'seat']\n",
      "{'class': [[1, 3], [5, 7]], 'row': [[6, 11], [33, 44]], 'seat': [[13, 40], [45, 50]]}\n",
      "[7, 1, 14]\n",
      "[[7, 3, 47], [40, 4, 50], [55, 2, 20], [38, 6, 12]]\n"
     ]
    }
   ],
   "source": [
    "rulenames,rules,myticket,tickets = readInput(\"data/day16test0.txt\")\n",
    "print(rulenames)\n",
    "print(rules)\n",
    "print(myticket)\n",
    "print(tickets)"
   ]
  },
  {
   "cell_type": "markdown",
   "metadata": {},
   "source": [
    "## Part 1"
   ]
  },
  {
   "cell_type": "code",
   "execution_count": 5,
   "metadata": {},
   "outputs": [],
   "source": [
    "import numpy as np\n",
    "\n",
    "def checkRule(n,r):\n",
    "    return r[0][0] <= n <= r[0][1] or r[1][0] <= n <= r[1][1]\n",
    "\n",
    "def checkTicket(t,rules):\n",
    "    vt = 0\n",
    "    for n in t:\n",
    "        vr = False\n",
    "        for r in rules.keys():\n",
    "            if checkRule(n,rules[r]):\n",
    "                vr = True\n",
    "                break\n",
    "        if not vr:\n",
    "            return False, n\n",
    "        else:\n",
    "            vt += 1\n",
    "            continue\n",
    "    return True, -1\n",
    "            \n",
    "def checkTickets(tickets,rules):\n",
    "    val = []\n",
    "    failn = []\n",
    "    for t in tickets:\n",
    "        v,n = checkTicket(t,rules)\n",
    "        val.append(v)\n",
    "        failn.append(n)\n",
    "    fn = np.array(failn)\n",
    "    return fn[fn>-1].sum(), val, failn"
   ]
  },
  {
   "cell_type": "code",
   "execution_count": 33,
   "metadata": {
    "slideshow": {
     "slide_type": "subslide"
    }
   },
   "outputs": [
    {
     "name": "stdout",
     "output_type": "stream",
     "text": [
      "Solution Part 1 = 25916\n"
     ]
    }
   ],
   "source": [
    "rulenames,rules,myticket,tickets = readInput(\"data/input16.txt\")\n",
    "result,val,failn = checkTickets(tickets,rules)\n",
    "print(\"Solution Part 1 =\",result)"
   ]
  },
  {
   "cell_type": "markdown",
   "metadata": {},
   "source": [
    "## Part 2"
   ]
  },
  {
   "cell_type": "code",
   "execution_count": null,
   "metadata": {},
   "outputs": [],
   "source": [
    "# Part 2 example, all tickets are valid\n",
    "#rulenames,rules,myticket,tickets = readInput(\"data/day16test1.txt\")\n",
    "#result,val,failn = checkTickets(tickets,rules)"
   ]
  },
  {
   "cell_type": "code",
   "execution_count": 36,
   "metadata": {},
   "outputs": [],
   "source": [
    "from itertools import compress\n",
    "\n",
    "rulenames,rules,myticket,tickets = readInput(\"data/input16.txt\")\n",
    "result,val,failn = checkTickets(tickets,rules)\n",
    "tickets = list(compress(tickets,val)) # Filter invalid tickets\n",
    "\n",
    "#print(len(tickets),len(tickets[0]),len(rules))"
   ]
  },
  {
   "cell_type": "code",
   "execution_count": 38,
   "metadata": {},
   "outputs": [],
   "source": [
    "# Compute 3D matrix N_tickets x N_numbers x N_rules of rule compliances \n",
    "\n",
    "resall = []\n",
    "for t in tickets:\n",
    "    rest = []\n",
    "    for n in t:\n",
    "        resn = []\n",
    "        for r in rules.keys():\n",
    "            resn.append(checkRule(n,rules[r]))\n",
    "        rest.append(resn)\n",
    "    resall.append(rest)\n",
    "    \n",
    "# Now make the AND of rule compliances of a given number in all tickets\n",
    "# This returns a matrix N_numbers x N_rules\n",
    "\n",
    "resand = np.ones((len(tickets[0]),len(rules.keys())),dtype=bool)\n",
    "for jn in range(len(tickets[0])):\n",
    "    for jr in range(len(rules.keys())):\n",
    "        rand = resand[jn][jr]\n",
    "        for rt in resall:\n",
    "            rand = rand and rt[jn][jr]\n",
    "        resand[jn][jr] = rand\n",
    "\n",
    "# Ideally, at least one member of this matrix (e.g. one number) would satisfy only one rule,\n",
    "# otherwise it'd be unsolvable. Checked, there's one, and only one: good!\n",
    "\n",
    "# The one number that satisfy one rule only allows to replace the results in other numbers by removing that \n",
    "# rule by masking. Then rince and repeat with the next number (after masking) satifying only one rule, until \n",
    "# each line of thematrix only point to one colum (one single True per row)\n",
    "\n",
    "passed = []\n",
    "\n",
    "while True:\n",
    "    unique = [ n.sum() for n in resand ]\n",
    "    uu = [i for i, e in enumerate(unique) if e == 1]\n",
    "    for u in uu:\n",
    "        if u in passed:\n",
    "            continue\n",
    "        else:\n",
    "            mask = resand[u]\n",
    "            for i in range(len(resand)):\n",
    "                if i==u:\n",
    "                    continue\n",
    "                else:\n",
    "                    b = resand[i]\n",
    "                    masked = [ bb and not mm for bb,mm in zip(b,mask)]\n",
    "                    resand[i] = masked\n",
    "            passed.append(u)\n",
    "    if len(passed) == len(resand):\n",
    "        break\n",
    "        \n",
    "#print(resand)"
   ]
  },
  {
   "cell_type": "code",
   "execution_count": 39,
   "metadata": {},
   "outputs": [
    {
     "name": "stdout",
     "output_type": "stream",
     "text": [
      "departure date = 179\n",
      "departure platform = 101\n",
      "departure track = 107\n",
      "departure time = 211\n",
      "departure station = 61\n",
      "departure location = 103\n",
      "\n",
      "Solution Part 2 = 2564529489989\n"
     ]
    }
   ],
   "source": [
    "# All numbers are now mapped to a rule! Use maps to find solution\n",
    "\n",
    "prod = 1\n",
    "\n",
    "for n,line in zip(myticket,resand):\n",
    "    ri = [i for i, e in enumerate(line) if e == True]\n",
    "    #print(n,line,ri[0],rulenames[ri[0]])\n",
    "    #print(rulenames[ri[0]],\"=\",n)\n",
    "    if rulenames[ri[0]][0:9] == \"departure\":\n",
    "        print(rulenames[ri[0]],\"=\",n)\n",
    "        prod *= n\n",
    "\n",
    "print(\"\\nSolution Part 2 =\",prod)"
   ]
  },
  {
   "cell_type": "code",
   "execution_count": null,
   "metadata": {},
   "outputs": [],
   "source": []
  }
 ],
 "metadata": {
  "kernelspec": {
   "display_name": "Python 3",
   "language": "python",
   "name": "python3"
  },
  "language_info": {
   "codemirror_mode": {
    "name": "ipython",
    "version": 3
   },
   "file_extension": ".py",
   "mimetype": "text/x-python",
   "name": "python",
   "nbconvert_exporter": "python",
   "pygments_lexer": "ipython3",
   "version": "3.9.0"
  }
 },
 "nbformat": 4,
 "nbformat_minor": 4
}
