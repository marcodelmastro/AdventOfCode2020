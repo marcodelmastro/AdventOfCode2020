{
 "cells": [
  {
   "cell_type": "markdown",
   "metadata": {},
   "source": [
    "# Day 16: Ticket Translation\n",
    "\n",
    "https://adventofcode.com/2020/day/16"
   ]
  },
  {
   "cell_type": "code",
   "execution_count": 190,
   "metadata": {},
   "outputs": [],
   "source": [
    "# Can I simplfy this? I'm sure there's a way to inline the string->int loop, but or now this works...\n",
    "\n",
    "def readInput(filename):\n",
    "    with open(filename) as f:\n",
    "        blocks = [ f.split(\"\\n\") for f in [ b for b in f.read().split(\"\\n\\n\") ] ]\n",
    "    rules = {}\n",
    "    for b in blocks[0]:\n",
    "        r = b.split(\": \")[0]\n",
    "        l = [ i.split(\"-\") for i in b.split(\": \")[1].split(\" or \") ]\n",
    "        r0 = []\n",
    "        for i in l:\n",
    "            f0 = []\n",
    "            for ii in i:\n",
    "                f0.append(int(ii))\n",
    "            r0.append(f0)\n",
    "        rules[r] = r0\n",
    "    myticket = [ int(n) for n in blocks[1][1].split(\",\") ]\n",
    "    tt = [b.split(\",\") for b in blocks[2][1:-1]]\n",
    "    tickets = []\n",
    "    for t in tt:\n",
    "        tickets.append([ int(i) for i in t ])\n",
    "    return rules,myticket,tickets"
   ]
  },
  {
   "cell_type": "code",
   "execution_count": 191,
   "metadata": {},
   "outputs": [
    {
     "name": "stdout",
     "output_type": "stream",
     "text": [
      "{'class': [[1, 3], [5, 7]], 'row': [[6, 11], [33, 44]], 'seat': [[13, 40], [45, 50]]}\n",
      "[7, 1, 14]\n",
      "[[7, 3, 47], [40, 4, 50], [55, 2, 20], [38, 6, 12]]\n"
     ]
    }
   ],
   "source": [
    "rules,myticket,tickets = readInput(\"data/day16test0.txt\")\n",
    "print(rules)\n",
    "print(myticket)\n",
    "print(tickets)"
   ]
  },
  {
   "cell_type": "markdown",
   "metadata": {},
   "source": [
    "## Part 1"
   ]
  },
  {
   "cell_type": "code",
   "execution_count": 195,
   "metadata": {},
   "outputs": [],
   "source": [
    "def checkRule(n,r):\n",
    "    return r[0][0] <= n <= r[0][1] or r[1][0] <= n <= r[1][1]\n",
    "\n",
    "def checkTicket(t,rules):\n",
    "    vt = 0\n",
    "    for n in t:\n",
    "        vr = False\n",
    "        for r in rules.keys():\n",
    "            if checkRule(n,rules[r]):\n",
    "                vr = True\n",
    "                break\n",
    "        if not vr:\n",
    "            return False, n\n",
    "        else:\n",
    "            vt += 1\n",
    "            continue\n",
    "    return True, -1\n",
    "            \n",
    "def checkTickets(tickets,rules):\n",
    "    val = []\n",
    "    failn = []\n",
    "    for t in tickets:\n",
    "        v,n = checkTicket(t,rules)\n",
    "        val.append(v)\n",
    "        failn.append(n)\n",
    "    fn = np.array(failn)\n",
    "    return fn[fn>-1].sum(), val, failn"
   ]
  },
  {
   "cell_type": "code",
   "execution_count": 196,
   "metadata": {
    "slideshow": {
     "slide_type": "subslide"
    }
   },
   "outputs": [
    {
     "name": "stdout",
     "output_type": "stream",
     "text": [
      "25916\n"
     ]
    }
   ],
   "source": [
    "rules,myticket,tickets = readInput(\"data/input16.txt\")\n",
    "result,val,failn = checkTickets(tickets,rules)\n",
    "print(result)"
   ]
  },
  {
   "cell_type": "markdown",
   "metadata": {},
   "source": [
    "## Part 2"
   ]
  },
  {
   "cell_type": "code",
   "execution_count": 197,
   "metadata": {},
   "outputs": [
    {
     "data": {
      "text/plain": [
       "(243, 190, 20, 20)"
      ]
     },
     "execution_count": 197,
     "metadata": {},
     "output_type": "execute_result"
    }
   ],
   "source": [
    "# Filter invalid tickets\n",
    "\n",
    "from itertools import compress\n",
    "tvalid = list(compress(tickets,val))\n",
    "\n",
    "len(tickets),len(tvalid),len(tvalid[0]),len(rules)"
   ]
  },
  {
   "cell_type": "code",
   "execution_count": 198,
   "metadata": {},
   "outputs": [
    {
     "name": "stdout",
     "output_type": "stream",
     "text": [
      "[True, True, True]\n"
     ]
    }
   ],
   "source": [
    "# Part 2 example, all tickets are valid\n",
    "\n",
    "rules,myticket,tickets = readInput(\"data/day16test1.txt\")\n",
    "result,val,failn = checkTickets(tickets,rules)\n",
    "print(val)"
   ]
  },
  {
   "cell_type": "code",
   "execution_count": null,
   "metadata": {},
   "outputs": [],
   "source": []
  }
 ],
 "metadata": {
  "kernelspec": {
   "display_name": "Python 3",
   "language": "python",
   "name": "python3"
  },
  "language_info": {
   "codemirror_mode": {
    "name": "ipython",
    "version": 3
   },
   "file_extension": ".py",
   "mimetype": "text/x-python",
   "name": "python",
   "nbconvert_exporter": "python",
   "pygments_lexer": "ipython3",
   "version": "3.9.0"
  }
 },
 "nbformat": 4,
 "nbformat_minor": 4
}
