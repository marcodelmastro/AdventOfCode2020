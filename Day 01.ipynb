{
 "cells": [
  {
   "cell_type": "markdown",
   "metadata": {},
   "source": [
    "# Day 1: Day 1: Report Repair\n",
    "\n",
    "https://adventofcode.com/2020/day/1"
   ]
  },
  {
   "cell_type": "code",
   "execution_count": 1,
   "metadata": {},
   "outputs": [],
   "source": [
    "import numpy as np"
   ]
  },
  {
   "cell_type": "code",
   "execution_count": 35,
   "metadata": {},
   "outputs": [],
   "source": [
    "#data = np.loadtxt(\"./data/day01test0.txt\")\n",
    "data = np.loadtxt(\"./data/input01.txt\")\n",
    "#data"
   ]
  },
  {
   "cell_type": "code",
   "execution_count": 36,
   "metadata": {},
   "outputs": [
    {
     "name": "stdout",
     "output_type": "stream",
     "text": [
      "1024 996 1019904\n"
     ]
    }
   ],
   "source": [
    "# is searching faster than summing and comparing? Probaly yes (one less operation)\n",
    "\n",
    "for d1 in data:\n",
    "    d2 = 2020-d1\n",
    "    #print(d2)\n",
    "    if d2 in data:\n",
    "        print(int(d1), int(d2), int(d1*d2))\n",
    "        break"
   ]
  },
  {
   "cell_type": "code",
   "execution_count": 39,
   "metadata": {},
   "outputs": [
    {
     "name": "stdout",
     "output_type": "stream",
     "text": [
      "816 984 220 176647680\n"
     ]
    }
   ],
   "source": [
    "# brute force, but maybe I could adapt the idea above to make it faster?\n",
    "\n",
    "found = False\n",
    "\n",
    "for d1 in data:\n",
    "    for d2 in data:\n",
    "        for d3 in data:\n",
    "            if d1+d2+d3==2020:\n",
    "                print(int(d1),int(d2),int(d3),int(d1*d2*d3))\n",
    "                found = True\n",
    "                break\n",
    "        if found:\n",
    "            break\n",
    "    if found:\n",
    "        break"
   ]
  },
  {
   "cell_type": "code",
   "execution_count": null,
   "metadata": {},
   "outputs": [],
   "source": []
  }
 ],
 "metadata": {
  "kernelspec": {
   "display_name": "Python 3",
   "language": "python",
   "name": "python3"
  },
  "language_info": {
   "codemirror_mode": {
    "name": "ipython",
    "version": 3
   },
   "file_extension": ".py",
   "mimetype": "text/x-python",
   "name": "python",
   "nbconvert_exporter": "python",
   "pygments_lexer": "ipython3",
   "version": "3.9.0"
  }
 },
 "nbformat": 4,
 "nbformat_minor": 2
}
