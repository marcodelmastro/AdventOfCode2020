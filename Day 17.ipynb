{
 "cells": [
  {
   "cell_type": "markdown",
   "metadata": {},
   "source": [
    "# Day 17: Conway Cubes\n",
    "\n",
    "https://adventofcode.com/2020/day/17"
   ]
  },
  {
   "cell_type": "code",
   "execution_count": 118,
   "metadata": {},
   "outputs": [],
   "source": [
    "# saving space information as a dictionary of 3D coordinates and their status\n",
    "\n",
    "from collections import defaultdict \n",
    "\n",
    "def emptyspace():\n",
    "    return 0\n",
    "\n",
    "def readInput(filename):\n",
    "    with open(filename) as f:\n",
    "        lines = [l.strip(\"\\n\") for l in f.readlines()]\n",
    "    space = defaultdict(emptyspace)\n",
    "    z = 0\n",
    "    for y in range(len(lines)):\n",
    "        for x in range(len(lines[0])):\n",
    "            if lines[y][x]==\"#\":\n",
    "                space[(x,y,z)] = 1\n",
    "            else:\n",
    "                space[(x,y,z)] = 0\n",
    "    return space"
   ]
  },
  {
   "cell_type": "code",
   "execution_count": 119,
   "metadata": {},
   "outputs": [
    {
     "data": {
      "text/plain": [
       "defaultdict(<function __main__.emptyspace()>,\n",
       "            {(0, 0, 0): 0,\n",
       "             (1, 0, 0): 1,\n",
       "             (2, 0, 0): 0,\n",
       "             (0, 1, 0): 0,\n",
       "             (1, 1, 0): 0,\n",
       "             (2, 1, 0): 1,\n",
       "             (0, 2, 0): 1,\n",
       "             (1, 2, 0): 1,\n",
       "             (2, 2, 0): 1})"
      ]
     },
     "execution_count": 119,
     "metadata": {},
     "output_type": "execute_result"
    }
   ],
   "source": [
    "space = readInput(\"data/day17test0.txt\")\n",
    "space"
   ]
  },
  {
   "cell_type": "code",
   "execution_count": 120,
   "metadata": {},
   "outputs": [],
   "source": [
    "# list of coordinate increments to get neighbours in 3D space\n",
    "\n",
    "neighbours = [\n",
    "    ## z = z0\n",
    "    # x = x0-1  x = x0     x = x0-1\n",
    "    (-1,+1, 0),( 0,+1, 0),(+1,+1, 0), # y = y0+1\n",
    "    (-1, 0, 0),           (+1, 0, 0), # y = y0\n",
    "    (-1,-1, 0),( 0,-1, 0),(+1,-1, 0), # y = y0-1\n",
    "    ## z = z0+1\n",
    "    # x = x0-1  x = x0     x = x0-1\n",
    "    (-1,+1,+1),( 0,+1,+1),(+1,+1,+1), # y = y0+1\n",
    "    (-1, 0,+1),( 0, 0,+1),(+1, 0,+1), # y = y0\n",
    "    (-1,-1,+1),( 0,-1,+1),(+1,-1,+1), # y = y0-1\n",
    "    ## z = z0-1\n",
    "    # x = x0-1  x = x0     x = x0-1\n",
    "    (-1,+1,-1),( 0,+1,-1),(+1,+1,-1), # y = y0+1\n",
    "    (-1, 0,-1),( 0, 0,-1),(+1, 0,-1), # y = y0\n",
    "    (-1,-1,-1),( 0,-1,-1),(+1,-1,-1), # y = y0-1\n",
    "]"
   ]
  },
  {
   "cell_type": "code",
   "execution_count": 121,
   "metadata": {},
   "outputs": [
    {
     "name": "stdout",
     "output_type": "stream",
     "text": [
      "(-3, 11, 5)\n"
     ]
    }
   ],
   "source": [
    "# coordinate sum\n",
    "\n",
    "def csum(a,b):\n",
    "    return tuple(map(sum, zip(a, b)))\n",
    "\n",
    "a = (0,2,4)\n",
    "b = (-3,9,1)\n",
    "c = csum(a,b)\n",
    "print(c)"
   ]
  },
  {
   "cell_type": "markdown",
   "metadata": {},
   "source": [
    "## Part 1"
   ]
  },
  {
   "cell_type": "code",
   "execution_count": 123,
   "metadata": {},
   "outputs": [
    {
     "name": "stdout",
     "output_type": "stream",
     "text": [
      "0 30\n",
      "1 74\n",
      "2 88\n",
      "3 140\n",
      "4 193\n",
      "5 271\n",
      "6 322\n"
     ]
    }
   ],
   "source": [
    "#space = readInput(\"data/day17test0.txt\")\n",
    "space = readInput(\"data/input17.txt\")\n",
    "\n",
    "cycle = 0\n",
    "cyclemax = 6\n",
    "\n",
    "while cycle<=cyclemax:\n",
    "\n",
    "    active = [ c for c in space.keys() if space[c]==1 ]\n",
    "    print(cycle, len(active))\n",
    "    \n",
    "    # active cells plus surroundings, since they need to be checked even if empty\n",
    "    pocket = [] \n",
    "    for c in active:\n",
    "        if c not in pocket:\n",
    "            pocket.append(c)\n",
    "        for n in neighbours:\n",
    "            p = csum(c,n)\n",
    "            if p not in pocket:\n",
    "                pocket.append(p)\n",
    "            \n",
    "    # evolution step over pocket        \n",
    "    space_new = defaultdict(emptyspace)\n",
    "    for c in pocket:\n",
    "        surr = 0\n",
    "        for n in neighbours:\n",
    "            surr += space[csum(c,n)]\n",
    "        if space[c]==1:\n",
    "            if surr==2 or surr==3: \n",
    "                space_new[c]=1\n",
    "            else:\n",
    "                space_new[c]=0\n",
    "        elif space[c]==0:\n",
    "            if surr==3:\n",
    "                space_new[c]=1\n",
    "            else:\n",
    "                space_new[c]=0\n",
    "    \n",
    "    space = space_new\n",
    "    cycle += 1"
   ]
  },
  {
   "cell_type": "markdown",
   "metadata": {},
   "source": [
    "## Part 2"
   ]
  },
  {
   "cell_type": "code",
   "execution_count": 125,
   "metadata": {},
   "outputs": [
    {
     "data": {
      "text/plain": [
       "defaultdict(<function __main__.emptyspace()>,\n",
       "            {(0, 0, 0, 0): 0,\n",
       "             (1, 0, 0, 0): 1,\n",
       "             (2, 0, 0, 0): 0,\n",
       "             (0, 1, 0, 0): 0,\n",
       "             (1, 1, 0, 0): 0,\n",
       "             (2, 1, 0, 0): 1,\n",
       "             (0, 2, 0, 0): 1,\n",
       "             (1, 2, 0, 0): 1,\n",
       "             (2, 2, 0, 0): 1})"
      ]
     },
     "execution_count": 125,
     "metadata": {},
     "output_type": "execute_result"
    }
   ],
   "source": [
    "def readInput4D(filename):\n",
    "    with open(filename) as f:\n",
    "        lines = [l.strip(\"\\n\") for l in f.readlines()]\n",
    "    space = defaultdict(emptyspace)\n",
    "    z = 0\n",
    "    w = 0\n",
    "    for y in range(len(lines)):\n",
    "        for x in range(len(lines[0])):\n",
    "            if lines[y][x]==\"#\":\n",
    "                space[(x,y,z,w)] = 1\n",
    "            else:\n",
    "                space[(x,y,z,w)] = 0\n",
    "    return space\n",
    "\n",
    "space = readInput4D(\"data/day17test0.txt\")\n",
    "space"
   ]
  },
  {
   "cell_type": "code",
   "execution_count": 128,
   "metadata": {},
   "outputs": [],
   "source": [
    "neighbours4D = [\n",
    "    ### w = w0\n",
    "    ## z = z0\n",
    "    # x = x0-1  x = x0     x = x0-1\n",
    "    (-1,+1, 0, 0),( 0,+1, 0, 0),(+1,+1, 0, 0), # y = y0+1\n",
    "    (-1, 0, 0, 0),              (+1, 0, 0, 0), # y = y0\n",
    "    (-1,-1, 0, 0),( 0,-1, 0, 0),(+1,-1, 0, 0), # y = y0-1\n",
    "    ## z = z0+1\n",
    "    # x = x0-1  x = x0     x = x0-1\n",
    "    (-1,+1,+1, 0),( 0,+1,+1, 0),(+1,+1,+1, 0), # y = y0+1\n",
    "    (-1, 0,+1, 0),( 0, 0,+1, 0),(+1, 0,+1, 0), # y = y0\n",
    "    (-1,-1,+1, 0),( 0,-1,+1, 0),(+1,-1,+1, 0), # y = y0-1\n",
    "    ## z = z0-1\n",
    "    # x = x0-1  x = x0     x = x0-1\n",
    "    (-1,+1,-1, 0),( 0,+1,-1, 0),(+1,+1,-1, 0), # y = y0+1\n",
    "    (-1, 0,-1, 0),( 0, 0,-1, 0),(+1, 0,-1, 0), # y = y0\n",
    "    (-1,-1,-1, 0),( 0,-1,-1, 0),(+1,-1,-1, 0), # y = y0-1\n",
    "    ### w = w0 + 1\n",
    "    ## z = z0\n",
    "    # x = x0-1  x = x0     x = x0-1\n",
    "    (-1,+1, 0, +1),( 0,+1, 0,+1),(+1,+1, 0,+1), # y = y0+1\n",
    "    (-1, 0, 0, +1),( 0, 0, 0,+1),(+1, 0, 0,+1), # y = y0\n",
    "    (-1,-1, 0, +1),( 0,-1, 0,+1),(+1,-1, 0,+1), # y = y0-1\n",
    "    ## z = z0+1\n",
    "    # x = x0-1  x = x0     x = x0-1\n",
    "    (-1,+1,+1,+1),( 0,+1,+1,+1),(+1,+1,+1,+1), # y = y0+1\n",
    "    (-1, 0,+1,+1),( 0, 0,+1,+1),(+1, 0,+1,+1), # y = y0\n",
    "    (-1,-1,+1,+1),( 0,-1,+1,+1),(+1,-1,+1,+1), # y = y0-1\n",
    "    ## z = z0-1\n",
    "    # x = x0-1  x = x0     x = x0-1\n",
    "    (-1,+1,-1,+1),( 0,+1,-1,+1),(+1,+1,-1,+1), # y = y0+1\n",
    "    (-1, 0,-1,+1),( 0, 0,-1,+1),(+1, 0,-1,+1), # y = y0\n",
    "    (-1,-1,-1,+1),( 0,-1,-1,+1),(+1,-1,-1,+1), # y = y0-1\n",
    "    ### w = w0 - 1\n",
    "    ## z = z0\n",
    "    # x = x0-1  x = x0     x = x0-1\n",
    "    (-1,+1, 0, -1),( 0,+1, 0,-1),(+1,+1, 0,-1), # y = y0+1\n",
    "    (-1, 0, 0, -1),( 0, 0, 0,-1),(+1, 0, 0,-1), # y = y0\n",
    "    (-1,-1, 0, -1),( 0,-1, 0,-1),(+1,-1, 0,-1), # y = y0-1\n",
    "    ## z = z0+1\n",
    "    # x = x0-1  x = x0     x = x0-1\n",
    "    (-1,+1,+1,-1),( 0,+1,+1,-1),(+1,+1,+1,-1), # y = y0+1\n",
    "    (-1, 0,+1,-1),( 0, 0,+1,-1),(+1, 0,+1,-1), # y = y0\n",
    "    (-1,-1,+1,-1),( 0,-1,+1,-1),(+1,-1,+1,-1), # y = y0-1\n",
    "    ## z = z0-1\n",
    "    # x = x0-1  x = x0     x = x0-1\n",
    "    (-1,+1,-1,-1),( 0,+1,-1,-1),(+1,+1,-1,-1), # y = y0+1\n",
    "    (-1, 0,-1,-1),( 0, 0,-1,-1),(+1, 0,-1,-1), # y = y0\n",
    "    (-1,-1,-1,-1),( 0,-1,-1,-1),(+1,-1,-1,-1), # y = y0-1\n",
    "]"
   ]
  },
  {
   "cell_type": "code",
   "execution_count": 129,
   "metadata": {},
   "outputs": [
    {
     "data": {
      "text/plain": [
       "80"
      ]
     },
     "execution_count": 129,
     "metadata": {},
     "output_type": "execute_result"
    }
   ],
   "source": [
    "len(neighbours4D)"
   ]
  },
  {
   "cell_type": "code",
   "execution_count": 132,
   "metadata": {},
   "outputs": [
    {
     "name": "stdout",
     "output_type": "stream",
     "text": [
      "0 30\n",
      "1 206\n",
      "2 210\n",
      "3 860\n",
      "4 692\n",
      "5 2720\n",
      "6 2000\n"
     ]
    }
   ],
   "source": [
    "#space = readInput4D(\"data/day17test0.txt\")\n",
    "space = readInput4D(\"data/input17.txt\")\n",
    "\n",
    "cycle = 0\n",
    "cyclemax = 6\n",
    "\n",
    "while cycle<=cyclemax:\n",
    "\n",
    "    active = [ c for c in space.keys() if space[c]==1 ]\n",
    "    print(cycle, len(active))\n",
    "    \n",
    "    # active cells plus surroundings, since they need to be checked even if empty\n",
    "    pocket = [] \n",
    "    for c in active:\n",
    "        if c not in pocket:\n",
    "            pocket.append(c)\n",
    "        for n in neighbours4D:\n",
    "            p = csum(c,n)\n",
    "            if p not in pocket:\n",
    "                pocket.append(p)\n",
    "            \n",
    "    # evolution step over pocket        \n",
    "    space_new = defaultdict(emptyspace)\n",
    "    for c in pocket:\n",
    "        surr = 0\n",
    "        for n in neighbours4D:\n",
    "            surr += space[csum(c,n)]\n",
    "        if space[c]==1:\n",
    "            if surr==2 or surr==3: \n",
    "                space_new[c]=1\n",
    "            else:\n",
    "                space_new[c]=0\n",
    "        elif space[c]==0:\n",
    "            if surr==3:\n",
    "                space_new[c]=1\n",
    "            else:\n",
    "                space_new[c]=0\n",
    "    \n",
    "    space = space_new\n",
    "    cycle += 1"
   ]
  },
  {
   "cell_type": "code",
   "execution_count": null,
   "metadata": {},
   "outputs": [],
   "source": []
  }
 ],
 "metadata": {
  "kernelspec": {
   "display_name": "Python 3",
   "language": "python",
   "name": "python3"
  },
  "language_info": {
   "codemirror_mode": {
    "name": "ipython",
    "version": 3
   },
   "file_extension": ".py",
   "mimetype": "text/x-python",
   "name": "python",
   "nbconvert_exporter": "python",
   "pygments_lexer": "ipython3",
   "version": "3.9.0"
  }
 },
 "nbformat": 4,
 "nbformat_minor": 4
}
