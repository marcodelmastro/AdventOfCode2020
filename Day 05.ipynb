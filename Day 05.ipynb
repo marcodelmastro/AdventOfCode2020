{
 "cells": [
  {
   "cell_type": "markdown",
   "metadata": {},
   "source": [
    "# Day 5: Binary Boarding\n",
    "\n",
    "https://adventofcode.com/2020/day/5"
   ]
  },
  {
   "cell_type": "code",
   "execution_count": 122,
   "metadata": {},
   "outputs": [],
   "source": [
    "def findRow(bp):\n",
    "    rmin = 0\n",
    "    rmax = 127\n",
    "    for i in bp[0:7]:\n",
    "        rmid = rmin+int((rmax-rmin+1)/2-1)\n",
    "        if i==\"F\":\n",
    "            rmax = rmid\n",
    "        else:\n",
    "            rmin = rmid+1\n",
    "    return rmin\n",
    "\n",
    "def findColumn(bp):\n",
    "    cmin = 0\n",
    "    cmax = 7\n",
    "    for i in bp[7:]:\n",
    "        cmid = cmin+int((cmax-cmin+1)/2-1)\n",
    "        if i==\"L\":\n",
    "            cmax = cmid\n",
    "        else:\n",
    "            cmin = cmid+1\n",
    "    return cmin\n",
    "\n",
    "def sitID(bp):\n",
    "    return findRow(bp)*8 + findColumn(bp)"
   ]
  },
  {
   "cell_type": "code",
   "execution_count": 123,
   "metadata": {},
   "outputs": [
    {
     "name": "stdout",
     "output_type": "stream",
     "text": [
      "44 5 357\n"
     ]
    }
   ],
   "source": [
    "bp = \"FBFBBFFRLR\"\n",
    "#bp = \"BFFFBBFRRR\" # row 70, column 7, seat ID 567.\n",
    "#bp = \"FFFBBBFRRR\" # row 14, column 7, seat ID 119.\n",
    "#bp = \"BBFFBBFRLL\" # row 102, column 4, seat ID 820.\n",
    "\n",
    "print(findRow(bp), findColumn(bp), sitID(bp) )"
   ]
  },
  {
   "cell_type": "code",
   "execution_count": 124,
   "metadata": {},
   "outputs": [],
   "source": [
    "filename = \"data/input05.txt\"\n",
    "with open(filename) as f:\n",
    "    bps = [l.strip(\"\\n\") for l in f.readlines()]"
   ]
  },
  {
   "cell_type": "code",
   "execution_count": 125,
   "metadata": {},
   "outputs": [
    {
     "name": "stdout",
     "output_type": "stream",
     "text": [
      "818\n"
     ]
    }
   ],
   "source": [
    "import numpy as np\n",
    "seats = np.array([ sitID(bp) for bp in bps ])\n",
    "print(np.amax(seats))"
   ]
  },
  {
   "cell_type": "code",
   "execution_count": 128,
   "metadata": {},
   "outputs": [
    {
     "data": {
      "text/plain": [
       "<matplotlib.image.AxesImage at 0x155633820>"
      ]
     },
     "execution_count": 128,
     "metadata": {},
     "output_type": "execute_result"
    },
    {
     "data": {
      "image/png": "[encoded data removed]",
      "text/plain": [
       "<Figure size 1080x1080 with 1 Axes>"
      ]
     },
     "metadata": {
      "needs_background": "light"
     },
     "output_type": "display_data"
    }
   ],
   "source": [
    "places = np.zeros((128,8))\n",
    "\n",
    "for bp in bps:\n",
    "    j = findColumn(bp)\n",
    "    i = findRow(bp)\n",
    "    places[i][j] = 1\n",
    "\n",
    "import matplotlib.pylab as plt\n",
    "fig = plt.figure(figsize=(15,15))\n",
    "plt.imshow(places, interpolation='nearest', cmap=plt.cm.ocean)"
   ]
  },
  {
   "cell_type": "code",
   "execution_count": 130,
   "metadata": {},
   "outputs": [
    {
     "name": "stdout",
     "output_type": "stream",
     "text": [
      "69 7 559\n"
     ]
    }
   ],
   "source": [
    "for c in range(8):\n",
    "    for r in range (60,80): # restrict search to plane center :-)\n",
    "        if places[r][c] == 0.:\n",
    "            print(r, c, r*8+c)"
   ]
  },
  {
   "cell_type": "code",
   "execution_count": null,
   "metadata": {},
   "outputs": [],
   "source": []
  }
 ],
 "metadata": {
  "kernelspec": {
   "display_name": "Python 3",
   "language": "python",
   "name": "python3"
  },
  "language_info": {
   "codemirror_mode": {
    "name": "ipython",
    "version": 3
   },
   "file_extension": ".py",
   "mimetype": "text/x-python",
   "name": "python",
   "nbconvert_exporter": "python",
   "pygments_lexer": "ipython3",
   "version": "3.9.0"
  }
 },
 "nbformat": 4,
 "nbformat_minor": 4
}
